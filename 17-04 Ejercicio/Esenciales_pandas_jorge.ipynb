{
  "cells": [
    {
      "cell_type": "code",
      "execution_count": 1,
      "id": "285120ab",
      "metadata": {
        "id": "285120ab"
      },
      "outputs": [],
      "source": [
        "import pandas as pd\n",
        "import matplotlib.pyplot as plt"
      ]
    },
    {
      "cell_type": "code",
      "execution_count": 1,
      "id": "sjW7vGsOIWv3",
      "metadata": {
        "colab": {
          "base_uri": "https://localhost:8080/"
        },
        "id": "sjW7vGsOIWv3",
        "outputId": "2ea21ef5-c172-40c0-a116-27f5d153274d"
      },
      "outputs": [
        {
          "name": "stdout",
          "output_type": "stream",
          "text": [
            "Mounted at /content/drive\n"
          ]
        }
      ],
      "source": []
    },
    {
      "cell_type": "code",
      "execution_count": null,
      "id": "DPa99-p6Inwp",
      "metadata": {
        "id": "DPa99-p6Inwp"
      },
      "outputs": [],
      "source": []
    },
    {
      "cell_type": "code",
      "execution_count": 2,
      "id": "e4484aa6",
      "metadata": {
        "id": "e4484aa6"
      },
      "outputs": [],
      "source": [
        "df = pd.read_csv('Spotify_Youtube.csv')"
      ]
    },
    {
      "cell_type": "markdown",
      "id": "e5b56699",
      "metadata": {
        "id": "e5b56699"
      },
      "source": [
        "# Obtener primeras n filas del dataframe"
      ]
    },
    {
      "cell_type": "code",
      "execution_count": 5,
      "id": "78daecaf",
      "metadata": {
        "colab": {
          "base_uri": "https://localhost:8080/",
          "height": 716
        },
        "id": "78daecaf",
        "outputId": "5832a6ac-19e2-4317-c70b-1a5bbb34fd58"
      },
      "outputs": [
        {
          "data": {
            "text/html": [
              "\n",
              "  <div id=\"df-2c387ee6-9f87-4c19-b979-19209a3a7672\">\n",
              "    <div class=\"colab-df-container\">\n",
              "      <div>\n",
              "<style scoped>\n",
              "    .dataframe tbody tr th:only-of-type {\n",
              "        vertical-align: middle;\n",
              "    }\n",
              "\n",
              "    .dataframe tbody tr th {\n",
              "        vertical-align: top;\n",
              "    }\n",
              "\n",
              "    .dataframe thead th {\n",
              "        text-align: right;\n",
              "    }\n",
              "</style>\n",
              "<table border=\"1\" class=\"dataframe\">\n",
              "  <thead>\n",
              "    <tr style=\"text-align: right;\">\n",
              "      <th></th>\n",
              "      <th>Unnamed: 0</th>\n",
              "      <th>Artist</th>\n",
              "      <th>Url_spotify</th>\n",
              "      <th>Track</th>\n",
              "      <th>Album</th>\n",
              "      <th>Album_type</th>\n",
              "      <th>Uri</th>\n",
              "      <th>Danceability</th>\n",
              "      <th>Energy</th>\n",
              "      <th>Key</th>\n",
              "      <th>...</th>\n",
              "      <th>Url_youtube</th>\n",
              "      <th>Title</th>\n",
              "      <th>Channel</th>\n",
              "      <th>Views</th>\n",
              "      <th>Likes</th>\n",
              "      <th>Comments</th>\n",
              "      <th>Description</th>\n",
              "      <th>Licensed</th>\n",
              "      <th>official_video</th>\n",
              "      <th>Stream</th>\n",
              "    </tr>\n",
              "  </thead>\n",
              "  <tbody>\n",
              "    <tr>\n",
              "      <th>0</th>\n",
              "      <td>0</td>\n",
              "      <td>Gorillaz</td>\n",
              "      <td>https://open.spotify.com/artist/3AA28KZvwAUcZu...</td>\n",
              "      <td>Feel Good Inc.</td>\n",
              "      <td>Demon Days</td>\n",
              "      <td>album</td>\n",
              "      <td>spotify:track:0d28khcov6AiegSCpG5TuT</td>\n",
              "      <td>0.818</td>\n",
              "      <td>0.705</td>\n",
              "      <td>6.0</td>\n",
              "      <td>...</td>\n",
              "      <td>https://www.youtube.com/watch?v=HyHNuVaZJ-k</td>\n",
              "      <td>Gorillaz - Feel Good Inc. (Official Video)</td>\n",
              "      <td>Gorillaz</td>\n",
              "      <td>693555221.0</td>\n",
              "      <td>6220896.0</td>\n",
              "      <td>169907.0</td>\n",
              "      <td>Official HD Video for Gorillaz' fantastic trac...</td>\n",
              "      <td>True</td>\n",
              "      <td>True</td>\n",
              "      <td>1.040235e+09</td>\n",
              "    </tr>\n",
              "    <tr>\n",
              "      <th>1</th>\n",
              "      <td>1</td>\n",
              "      <td>Gorillaz</td>\n",
              "      <td>https://open.spotify.com/artist/3AA28KZvwAUcZu...</td>\n",
              "      <td>Rhinestone Eyes</td>\n",
              "      <td>Plastic Beach</td>\n",
              "      <td>album</td>\n",
              "      <td>spotify:track:1foMv2HQwfQ2vntFf9HFeG</td>\n",
              "      <td>0.676</td>\n",
              "      <td>0.703</td>\n",
              "      <td>8.0</td>\n",
              "      <td>...</td>\n",
              "      <td>https://www.youtube.com/watch?v=yYDmaexVHic</td>\n",
              "      <td>Gorillaz - Rhinestone Eyes [Storyboard Film] (...</td>\n",
              "      <td>Gorillaz</td>\n",
              "      <td>72011645.0</td>\n",
              "      <td>1079128.0</td>\n",
              "      <td>31003.0</td>\n",
              "      <td>The official video for Gorillaz - Rhinestone E...</td>\n",
              "      <td>True</td>\n",
              "      <td>True</td>\n",
              "      <td>3.100837e+08</td>\n",
              "    </tr>\n",
              "    <tr>\n",
              "      <th>2</th>\n",
              "      <td>2</td>\n",
              "      <td>Gorillaz</td>\n",
              "      <td>https://open.spotify.com/artist/3AA28KZvwAUcZu...</td>\n",
              "      <td>New Gold (feat. Tame Impala and Bootie Brown)</td>\n",
              "      <td>New Gold (feat. Tame Impala and Bootie Brown)</td>\n",
              "      <td>single</td>\n",
              "      <td>spotify:track:64dLd6rVqDLtkXFYrEUHIU</td>\n",
              "      <td>0.695</td>\n",
              "      <td>0.923</td>\n",
              "      <td>1.0</td>\n",
              "      <td>...</td>\n",
              "      <td>https://www.youtube.com/watch?v=qJa-VFwPpYA</td>\n",
              "      <td>Gorillaz - New Gold ft. Tame Impala &amp; Bootie B...</td>\n",
              "      <td>Gorillaz</td>\n",
              "      <td>8435055.0</td>\n",
              "      <td>282142.0</td>\n",
              "      <td>7399.0</td>\n",
              "      <td>Gorillaz - New Gold ft. Tame Impala &amp; Bootie B...</td>\n",
              "      <td>True</td>\n",
              "      <td>True</td>\n",
              "      <td>6.306347e+07</td>\n",
              "    </tr>\n",
              "    <tr>\n",
              "      <th>3</th>\n",
              "      <td>3</td>\n",
              "      <td>Gorillaz</td>\n",
              "      <td>https://open.spotify.com/artist/3AA28KZvwAUcZu...</td>\n",
              "      <td>On Melancholy Hill</td>\n",
              "      <td>Plastic Beach</td>\n",
              "      <td>album</td>\n",
              "      <td>spotify:track:0q6LuUqGLUiCPP1cbdwFs3</td>\n",
              "      <td>0.689</td>\n",
              "      <td>0.739</td>\n",
              "      <td>2.0</td>\n",
              "      <td>...</td>\n",
              "      <td>https://www.youtube.com/watch?v=04mfKJWDSzI</td>\n",
              "      <td>Gorillaz - On Melancholy Hill (Official Video)</td>\n",
              "      <td>Gorillaz</td>\n",
              "      <td>211754952.0</td>\n",
              "      <td>1788577.0</td>\n",
              "      <td>55229.0</td>\n",
              "      <td>Follow Gorillaz online:\\nhttp://gorillaz.com \\...</td>\n",
              "      <td>True</td>\n",
              "      <td>True</td>\n",
              "      <td>4.346636e+08</td>\n",
              "    </tr>\n",
              "    <tr>\n",
              "      <th>4</th>\n",
              "      <td>4</td>\n",
              "      <td>Gorillaz</td>\n",
              "      <td>https://open.spotify.com/artist/3AA28KZvwAUcZu...</td>\n",
              "      <td>Clint Eastwood</td>\n",
              "      <td>Gorillaz</td>\n",
              "      <td>album</td>\n",
              "      <td>spotify:track:7yMiX7n9SBvadzox8T5jzT</td>\n",
              "      <td>0.663</td>\n",
              "      <td>0.694</td>\n",
              "      <td>10.0</td>\n",
              "      <td>...</td>\n",
              "      <td>https://www.youtube.com/watch?v=1V_xRb0x9aw</td>\n",
              "      <td>Gorillaz - Clint Eastwood (Official Video)</td>\n",
              "      <td>Gorillaz</td>\n",
              "      <td>618480958.0</td>\n",
              "      <td>6197318.0</td>\n",
              "      <td>155930.0</td>\n",
              "      <td>The official music video for Gorillaz - Clint ...</td>\n",
              "      <td>True</td>\n",
              "      <td>True</td>\n",
              "      <td>6.172597e+08</td>\n",
              "    </tr>\n",
              "  </tbody>\n",
              "</table>\n",
              "<p>5 rows × 28 columns</p>\n",
              "</div>\n",
              "      <button class=\"colab-df-convert\" onclick=\"convertToInteractive('df-2c387ee6-9f87-4c19-b979-19209a3a7672')\"\n",
              "              title=\"Convert this dataframe to an interactive table.\"\n",
              "              style=\"display:none;\">\n",
              "        \n",
              "  <svg xmlns=\"http://www.w3.org/2000/svg\" height=\"24px\"viewBox=\"0 0 24 24\"\n",
              "       width=\"24px\">\n",
              "    <path d=\"M0 0h24v24H0V0z\" fill=\"none\"/>\n",
              "    <path d=\"M18.56 5.44l.94 2.06.94-2.06 2.06-.94-2.06-.94-.94-2.06-.94 2.06-2.06.94zm-11 1L8.5 8.5l.94-2.06 2.06-.94-2.06-.94L8.5 2.5l-.94 2.06-2.06.94zm10 10l.94 2.06.94-2.06 2.06-.94-2.06-.94-.94-2.06-.94 2.06-2.06.94z\"/><path d=\"M17.41 7.96l-1.37-1.37c-.4-.4-.92-.59-1.43-.59-.52 0-1.04.2-1.43.59L10.3 9.45l-7.72 7.72c-.78.78-.78 2.05 0 2.83L4 21.41c.39.39.9.59 1.41.59.51 0 1.02-.2 1.41-.59l7.78-7.78 2.81-2.81c.8-.78.8-2.07 0-2.86zM5.41 20L4 18.59l7.72-7.72 1.47 1.35L5.41 20z\"/>\n",
              "  </svg>\n",
              "      </button>\n",
              "      \n",
              "  <style>\n",
              "    .colab-df-container {\n",
              "      display:flex;\n",
              "      flex-wrap:wrap;\n",
              "      gap: 12px;\n",
              "    }\n",
              "\n",
              "    .colab-df-convert {\n",
              "      background-color: #E8F0FE;\n",
              "      border: none;\n",
              "      border-radius: 50%;\n",
              "      cursor: pointer;\n",
              "      display: none;\n",
              "      fill: #1967D2;\n",
              "      height: 32px;\n",
              "      padding: 0 0 0 0;\n",
              "      width: 32px;\n",
              "    }\n",
              "\n",
              "    .colab-df-convert:hover {\n",
              "      background-color: #E2EBFA;\n",
              "      box-shadow: 0px 1px 2px rgba(60, 64, 67, 0.3), 0px 1px 3px 1px rgba(60, 64, 67, 0.15);\n",
              "      fill: #174EA6;\n",
              "    }\n",
              "\n",
              "    [theme=dark] .colab-df-convert {\n",
              "      background-color: #3B4455;\n",
              "      fill: #D2E3FC;\n",
              "    }\n",
              "\n",
              "    [theme=dark] .colab-df-convert:hover {\n",
              "      background-color: #434B5C;\n",
              "      box-shadow: 0px 1px 3px 1px rgba(0, 0, 0, 0.15);\n",
              "      filter: drop-shadow(0px 1px 2px rgba(0, 0, 0, 0.3));\n",
              "      fill: #FFFFFF;\n",
              "    }\n",
              "  </style>\n",
              "\n",
              "      <script>\n",
              "        const buttonEl =\n",
              "          document.querySelector('#df-2c387ee6-9f87-4c19-b979-19209a3a7672 button.colab-df-convert');\n",
              "        buttonEl.style.display =\n",
              "          google.colab.kernel.accessAllowed ? 'block' : 'none';\n",
              "\n",
              "        async function convertToInteractive(key) {\n",
              "          const element = document.querySelector('#df-2c387ee6-9f87-4c19-b979-19209a3a7672');\n",
              "          const dataTable =\n",
              "            await google.colab.kernel.invokeFunction('convertToInteractive',\n",
              "                                                     [key], {});\n",
              "          if (!dataTable) return;\n",
              "\n",
              "          const docLinkHtml = 'Like what you see? Visit the ' +\n",
              "            '<a target=\"_blank\" href=https://colab.research.google.com/notebooks/data_table.ipynb>data table notebook</a>'\n",
              "            + ' to learn more about interactive tables.';\n",
              "          element.innerHTML = '';\n",
              "          dataTable['output_type'] = 'display_data';\n",
              "          await google.colab.output.renderOutput(dataTable, element);\n",
              "          const docLink = document.createElement('div');\n",
              "          docLink.innerHTML = docLinkHtml;\n",
              "          element.appendChild(docLink);\n",
              "        }\n",
              "      </script>\n",
              "    </div>\n",
              "  </div>\n",
              "  "
            ],
            "text/plain": [
              "   Unnamed: 0    Artist                                        Url_spotify  \\\n",
              "0           0  Gorillaz  https://open.spotify.com/artist/3AA28KZvwAUcZu...   \n",
              "1           1  Gorillaz  https://open.spotify.com/artist/3AA28KZvwAUcZu...   \n",
              "2           2  Gorillaz  https://open.spotify.com/artist/3AA28KZvwAUcZu...   \n",
              "3           3  Gorillaz  https://open.spotify.com/artist/3AA28KZvwAUcZu...   \n",
              "4           4  Gorillaz  https://open.spotify.com/artist/3AA28KZvwAUcZu...   \n",
              "\n",
              "                                           Track  \\\n",
              "0                                 Feel Good Inc.   \n",
              "1                                Rhinestone Eyes   \n",
              "2  New Gold (feat. Tame Impala and Bootie Brown)   \n",
              "3                             On Melancholy Hill   \n",
              "4                                 Clint Eastwood   \n",
              "\n",
              "                                           Album Album_type  \\\n",
              "0                                     Demon Days      album   \n",
              "1                                  Plastic Beach      album   \n",
              "2  New Gold (feat. Tame Impala and Bootie Brown)     single   \n",
              "3                                  Plastic Beach      album   \n",
              "4                                       Gorillaz      album   \n",
              "\n",
              "                                    Uri  Danceability  Energy   Key  ...  \\\n",
              "0  spotify:track:0d28khcov6AiegSCpG5TuT         0.818   0.705   6.0  ...   \n",
              "1  spotify:track:1foMv2HQwfQ2vntFf9HFeG         0.676   0.703   8.0  ...   \n",
              "2  spotify:track:64dLd6rVqDLtkXFYrEUHIU         0.695   0.923   1.0  ...   \n",
              "3  spotify:track:0q6LuUqGLUiCPP1cbdwFs3         0.689   0.739   2.0  ...   \n",
              "4  spotify:track:7yMiX7n9SBvadzox8T5jzT         0.663   0.694  10.0  ...   \n",
              "\n",
              "                                   Url_youtube  \\\n",
              "0  https://www.youtube.com/watch?v=HyHNuVaZJ-k   \n",
              "1  https://www.youtube.com/watch?v=yYDmaexVHic   \n",
              "2  https://www.youtube.com/watch?v=qJa-VFwPpYA   \n",
              "3  https://www.youtube.com/watch?v=04mfKJWDSzI   \n",
              "4  https://www.youtube.com/watch?v=1V_xRb0x9aw   \n",
              "\n",
              "                                               Title   Channel        Views  \\\n",
              "0         Gorillaz - Feel Good Inc. (Official Video)  Gorillaz  693555221.0   \n",
              "1  Gorillaz - Rhinestone Eyes [Storyboard Film] (...  Gorillaz   72011645.0   \n",
              "2  Gorillaz - New Gold ft. Tame Impala & Bootie B...  Gorillaz    8435055.0   \n",
              "3     Gorillaz - On Melancholy Hill (Official Video)  Gorillaz  211754952.0   \n",
              "4         Gorillaz - Clint Eastwood (Official Video)  Gorillaz  618480958.0   \n",
              "\n",
              "       Likes  Comments                                        Description  \\\n",
              "0  6220896.0  169907.0  Official HD Video for Gorillaz' fantastic trac...   \n",
              "1  1079128.0   31003.0  The official video for Gorillaz - Rhinestone E...   \n",
              "2   282142.0    7399.0  Gorillaz - New Gold ft. Tame Impala & Bootie B...   \n",
              "3  1788577.0   55229.0  Follow Gorillaz online:\\nhttp://gorillaz.com \\...   \n",
              "4  6197318.0  155930.0  The official music video for Gorillaz - Clint ...   \n",
              "\n",
              "   Licensed official_video        Stream  \n",
              "0      True           True  1.040235e+09  \n",
              "1      True           True  3.100837e+08  \n",
              "2      True           True  6.306347e+07  \n",
              "3      True           True  4.346636e+08  \n",
              "4      True           True  6.172597e+08  \n",
              "\n",
              "[5 rows x 28 columns]"
            ]
          },
          "execution_count": 5,
          "metadata": {},
          "output_type": "execute_result"
        }
      ],
      "source": [
        "# Por defecto head devolvera 5 filas, si queremos un número distinto se lo debemos pasar como parametro\n",
        "df.head()"
      ]
    },
    {
      "cell_type": "code",
      "execution_count": 6,
      "id": "3df66c06",
      "metadata": {
        "colab": {
          "base_uri": "https://localhost:8080/",
          "height": 278
        },
        "id": "3df66c06",
        "outputId": "de1478b7-5245-4479-e3de-f665281f3e65"
      },
      "outputs": [
        {
          "data": {
            "text/html": [
              "\n",
              "  <div id=\"df-90666ea2-d02d-4743-9b05-0b1c744e3b66\">\n",
              "    <div class=\"colab-df-container\">\n",
              "      <div>\n",
              "<style scoped>\n",
              "    .dataframe tbody tr th:only-of-type {\n",
              "        vertical-align: middle;\n",
              "    }\n",
              "\n",
              "    .dataframe tbody tr th {\n",
              "        vertical-align: top;\n",
              "    }\n",
              "\n",
              "    .dataframe thead th {\n",
              "        text-align: right;\n",
              "    }\n",
              "</style>\n",
              "<table border=\"1\" class=\"dataframe\">\n",
              "  <thead>\n",
              "    <tr style=\"text-align: right;\">\n",
              "      <th></th>\n",
              "      <th>Unnamed: 0</th>\n",
              "      <th>Artist</th>\n",
              "      <th>Url_spotify</th>\n",
              "      <th>Track</th>\n",
              "      <th>Album</th>\n",
              "      <th>Album_type</th>\n",
              "      <th>Uri</th>\n",
              "      <th>Danceability</th>\n",
              "      <th>Energy</th>\n",
              "      <th>Key</th>\n",
              "      <th>...</th>\n",
              "      <th>Url_youtube</th>\n",
              "      <th>Title</th>\n",
              "      <th>Channel</th>\n",
              "      <th>Views</th>\n",
              "      <th>Likes</th>\n",
              "      <th>Comments</th>\n",
              "      <th>Description</th>\n",
              "      <th>Licensed</th>\n",
              "      <th>official_video</th>\n",
              "      <th>Stream</th>\n",
              "    </tr>\n",
              "  </thead>\n",
              "  <tbody>\n",
              "    <tr>\n",
              "      <th>0</th>\n",
              "      <td>0</td>\n",
              "      <td>Gorillaz</td>\n",
              "      <td>https://open.spotify.com/artist/3AA28KZvwAUcZu...</td>\n",
              "      <td>Feel Good Inc.</td>\n",
              "      <td>Demon Days</td>\n",
              "      <td>album</td>\n",
              "      <td>spotify:track:0d28khcov6AiegSCpG5TuT</td>\n",
              "      <td>0.818</td>\n",
              "      <td>0.705</td>\n",
              "      <td>6.0</td>\n",
              "      <td>...</td>\n",
              "      <td>https://www.youtube.com/watch?v=HyHNuVaZJ-k</td>\n",
              "      <td>Gorillaz - Feel Good Inc. (Official Video)</td>\n",
              "      <td>Gorillaz</td>\n",
              "      <td>693555221.0</td>\n",
              "      <td>6220896.0</td>\n",
              "      <td>169907.0</td>\n",
              "      <td>Official HD Video for Gorillaz' fantastic trac...</td>\n",
              "      <td>True</td>\n",
              "      <td>True</td>\n",
              "      <td>1.040235e+09</td>\n",
              "    </tr>\n",
              "  </tbody>\n",
              "</table>\n",
              "<p>1 rows × 28 columns</p>\n",
              "</div>\n",
              "      <button class=\"colab-df-convert\" onclick=\"convertToInteractive('df-90666ea2-d02d-4743-9b05-0b1c744e3b66')\"\n",
              "              title=\"Convert this dataframe to an interactive table.\"\n",
              "              style=\"display:none;\">\n",
              "        \n",
              "  <svg xmlns=\"http://www.w3.org/2000/svg\" height=\"24px\"viewBox=\"0 0 24 24\"\n",
              "       width=\"24px\">\n",
              "    <path d=\"M0 0h24v24H0V0z\" fill=\"none\"/>\n",
              "    <path d=\"M18.56 5.44l.94 2.06.94-2.06 2.06-.94-2.06-.94-.94-2.06-.94 2.06-2.06.94zm-11 1L8.5 8.5l.94-2.06 2.06-.94-2.06-.94L8.5 2.5l-.94 2.06-2.06.94zm10 10l.94 2.06.94-2.06 2.06-.94-2.06-.94-.94-2.06-.94 2.06-2.06.94z\"/><path d=\"M17.41 7.96l-1.37-1.37c-.4-.4-.92-.59-1.43-.59-.52 0-1.04.2-1.43.59L10.3 9.45l-7.72 7.72c-.78.78-.78 2.05 0 2.83L4 21.41c.39.39.9.59 1.41.59.51 0 1.02-.2 1.41-.59l7.78-7.78 2.81-2.81c.8-.78.8-2.07 0-2.86zM5.41 20L4 18.59l7.72-7.72 1.47 1.35L5.41 20z\"/>\n",
              "  </svg>\n",
              "      </button>\n",
              "      \n",
              "  <style>\n",
              "    .colab-df-container {\n",
              "      display:flex;\n",
              "      flex-wrap:wrap;\n",
              "      gap: 12px;\n",
              "    }\n",
              "\n",
              "    .colab-df-convert {\n",
              "      background-color: #E8F0FE;\n",
              "      border: none;\n",
              "      border-radius: 50%;\n",
              "      cursor: pointer;\n",
              "      display: none;\n",
              "      fill: #1967D2;\n",
              "      height: 32px;\n",
              "      padding: 0 0 0 0;\n",
              "      width: 32px;\n",
              "    }\n",
              "\n",
              "    .colab-df-convert:hover {\n",
              "      background-color: #E2EBFA;\n",
              "      box-shadow: 0px 1px 2px rgba(60, 64, 67, 0.3), 0px 1px 3px 1px rgba(60, 64, 67, 0.15);\n",
              "      fill: #174EA6;\n",
              "    }\n",
              "\n",
              "    [theme=dark] .colab-df-convert {\n",
              "      background-color: #3B4455;\n",
              "      fill: #D2E3FC;\n",
              "    }\n",
              "\n",
              "    [theme=dark] .colab-df-convert:hover {\n",
              "      background-color: #434B5C;\n",
              "      box-shadow: 0px 1px 3px 1px rgba(0, 0, 0, 0.15);\n",
              "      filter: drop-shadow(0px 1px 2px rgba(0, 0, 0, 0.3));\n",
              "      fill: #FFFFFF;\n",
              "    }\n",
              "  </style>\n",
              "\n",
              "      <script>\n",
              "        const buttonEl =\n",
              "          document.querySelector('#df-90666ea2-d02d-4743-9b05-0b1c744e3b66 button.colab-df-convert');\n",
              "        buttonEl.style.display =\n",
              "          google.colab.kernel.accessAllowed ? 'block' : 'none';\n",
              "\n",
              "        async function convertToInteractive(key) {\n",
              "          const element = document.querySelector('#df-90666ea2-d02d-4743-9b05-0b1c744e3b66');\n",
              "          const dataTable =\n",
              "            await google.colab.kernel.invokeFunction('convertToInteractive',\n",
              "                                                     [key], {});\n",
              "          if (!dataTable) return;\n",
              "\n",
              "          const docLinkHtml = 'Like what you see? Visit the ' +\n",
              "            '<a target=\"_blank\" href=https://colab.research.google.com/notebooks/data_table.ipynb>data table notebook</a>'\n",
              "            + ' to learn more about interactive tables.';\n",
              "          element.innerHTML = '';\n",
              "          dataTable['output_type'] = 'display_data';\n",
              "          await google.colab.output.renderOutput(dataTable, element);\n",
              "          const docLink = document.createElement('div');\n",
              "          docLink.innerHTML = docLinkHtml;\n",
              "          element.appendChild(docLink);\n",
              "        }\n",
              "      </script>\n",
              "    </div>\n",
              "  </div>\n",
              "  "
            ],
            "text/plain": [
              "   Unnamed: 0    Artist                                        Url_spotify  \\\n",
              "0           0  Gorillaz  https://open.spotify.com/artist/3AA28KZvwAUcZu...   \n",
              "\n",
              "            Track       Album Album_type  \\\n",
              "0  Feel Good Inc.  Demon Days      album   \n",
              "\n",
              "                                    Uri  Danceability  Energy  Key  ...  \\\n",
              "0  spotify:track:0d28khcov6AiegSCpG5TuT         0.818   0.705  6.0  ...   \n",
              "\n",
              "                                   Url_youtube  \\\n",
              "0  https://www.youtube.com/watch?v=HyHNuVaZJ-k   \n",
              "\n",
              "                                        Title   Channel        Views  \\\n",
              "0  Gorillaz - Feel Good Inc. (Official Video)  Gorillaz  693555221.0   \n",
              "\n",
              "       Likes  Comments                                        Description  \\\n",
              "0  6220896.0  169907.0  Official HD Video for Gorillaz' fantastic trac...   \n",
              "\n",
              "   Licensed official_video        Stream  \n",
              "0      True           True  1.040235e+09  \n",
              "\n",
              "[1 rows x 28 columns]"
            ]
          },
          "execution_count": 6,
          "metadata": {},
          "output_type": "execute_result"
        }
      ],
      "source": [
        "df.head(1)"
      ]
    },
    {
      "cell_type": "markdown",
      "id": "6c987fb3",
      "metadata": {
        "id": "6c987fb3"
      },
      "source": [
        "# Obtener últimas n filas del dataframe"
      ]
    },
    {
      "cell_type": "code",
      "execution_count": 7,
      "id": "1f609ccb",
      "metadata": {
        "colab": {
          "base_uri": "https://localhost:8080/",
          "height": 243
        },
        "id": "1f609ccb",
        "outputId": "51c7562c-d19e-40c2-8f66-30d53a65d8c4"
      },
      "outputs": [
        {
          "data": {
            "text/html": [
              "\n",
              "  <div id=\"df-5115e6f5-0623-42ad-b28e-79b7626d28fa\">\n",
              "    <div class=\"colab-df-container\">\n",
              "      <div>\n",
              "<style scoped>\n",
              "    .dataframe tbody tr th:only-of-type {\n",
              "        vertical-align: middle;\n",
              "    }\n",
              "\n",
              "    .dataframe tbody tr th {\n",
              "        vertical-align: top;\n",
              "    }\n",
              "\n",
              "    .dataframe thead th {\n",
              "        text-align: right;\n",
              "    }\n",
              "</style>\n",
              "<table border=\"1\" class=\"dataframe\">\n",
              "  <thead>\n",
              "    <tr style=\"text-align: right;\">\n",
              "      <th></th>\n",
              "      <th>Unnamed: 0</th>\n",
              "      <th>Artist</th>\n",
              "      <th>Url_spotify</th>\n",
              "      <th>Track</th>\n",
              "      <th>Album</th>\n",
              "      <th>Album_type</th>\n",
              "      <th>Uri</th>\n",
              "      <th>Danceability</th>\n",
              "      <th>Energy</th>\n",
              "      <th>Key</th>\n",
              "      <th>...</th>\n",
              "      <th>Url_youtube</th>\n",
              "      <th>Title</th>\n",
              "      <th>Channel</th>\n",
              "      <th>Views</th>\n",
              "      <th>Likes</th>\n",
              "      <th>Comments</th>\n",
              "      <th>Description</th>\n",
              "      <th>Licensed</th>\n",
              "      <th>official_video</th>\n",
              "      <th>Stream</th>\n",
              "    </tr>\n",
              "  </thead>\n",
              "  <tbody>\n",
              "    <tr>\n",
              "      <th>20717</th>\n",
              "      <td>20717</td>\n",
              "      <td>SICK LEGEND</td>\n",
              "      <td>https://open.spotify.com/artist/3EYY5FwDkHEYLw...</td>\n",
              "      <td>MISS YOU HARDSTYLE</td>\n",
              "      <td>MISS YOU HARDSTYLE</td>\n",
              "      <td>single</td>\n",
              "      <td>spotify:track:6lOn0jz1QpjcWeXo1oMm0k</td>\n",
              "      <td>0.498</td>\n",
              "      <td>0.938</td>\n",
              "      <td>6.0</td>\n",
              "      <td>...</td>\n",
              "      <td>https://www.youtube.com/watch?v=zau0dckCFi0</td>\n",
              "      <td>MISS YOU HARDSTYLE</td>\n",
              "      <td>SICK LEGEND - Topic</td>\n",
              "      <td>158697.0</td>\n",
              "      <td>2484.0</td>\n",
              "      <td>0.0</td>\n",
              "      <td>Provided to YouTube by Routenote\\n\\nMISS YOU H...</td>\n",
              "      <td>True</td>\n",
              "      <td>True</td>\n",
              "      <td>5695584.0</td>\n",
              "    </tr>\n",
              "  </tbody>\n",
              "</table>\n",
              "<p>1 rows × 28 columns</p>\n",
              "</div>\n",
              "      <button class=\"colab-df-convert\" onclick=\"convertToInteractive('df-5115e6f5-0623-42ad-b28e-79b7626d28fa')\"\n",
              "              title=\"Convert this dataframe to an interactive table.\"\n",
              "              style=\"display:none;\">\n",
              "        \n",
              "  <svg xmlns=\"http://www.w3.org/2000/svg\" height=\"24px\"viewBox=\"0 0 24 24\"\n",
              "       width=\"24px\">\n",
              "    <path d=\"M0 0h24v24H0V0z\" fill=\"none\"/>\n",
              "    <path d=\"M18.56 5.44l.94 2.06.94-2.06 2.06-.94-2.06-.94-.94-2.06-.94 2.06-2.06.94zm-11 1L8.5 8.5l.94-2.06 2.06-.94-2.06-.94L8.5 2.5l-.94 2.06-2.06.94zm10 10l.94 2.06.94-2.06 2.06-.94-2.06-.94-.94-2.06-.94 2.06-2.06.94z\"/><path d=\"M17.41 7.96l-1.37-1.37c-.4-.4-.92-.59-1.43-.59-.52 0-1.04.2-1.43.59L10.3 9.45l-7.72 7.72c-.78.78-.78 2.05 0 2.83L4 21.41c.39.39.9.59 1.41.59.51 0 1.02-.2 1.41-.59l7.78-7.78 2.81-2.81c.8-.78.8-2.07 0-2.86zM5.41 20L4 18.59l7.72-7.72 1.47 1.35L5.41 20z\"/>\n",
              "  </svg>\n",
              "      </button>\n",
              "      \n",
              "  <style>\n",
              "    .colab-df-container {\n",
              "      display:flex;\n",
              "      flex-wrap:wrap;\n",
              "      gap: 12px;\n",
              "    }\n",
              "\n",
              "    .colab-df-convert {\n",
              "      background-color: #E8F0FE;\n",
              "      border: none;\n",
              "      border-radius: 50%;\n",
              "      cursor: pointer;\n",
              "      display: none;\n",
              "      fill: #1967D2;\n",
              "      height: 32px;\n",
              "      padding: 0 0 0 0;\n",
              "      width: 32px;\n",
              "    }\n",
              "\n",
              "    .colab-df-convert:hover {\n",
              "      background-color: #E2EBFA;\n",
              "      box-shadow: 0px 1px 2px rgba(60, 64, 67, 0.3), 0px 1px 3px 1px rgba(60, 64, 67, 0.15);\n",
              "      fill: #174EA6;\n",
              "    }\n",
              "\n",
              "    [theme=dark] .colab-df-convert {\n",
              "      background-color: #3B4455;\n",
              "      fill: #D2E3FC;\n",
              "    }\n",
              "\n",
              "    [theme=dark] .colab-df-convert:hover {\n",
              "      background-color: #434B5C;\n",
              "      box-shadow: 0px 1px 3px 1px rgba(0, 0, 0, 0.15);\n",
              "      filter: drop-shadow(0px 1px 2px rgba(0, 0, 0, 0.3));\n",
              "      fill: #FFFFFF;\n",
              "    }\n",
              "  </style>\n",
              "\n",
              "      <script>\n",
              "        const buttonEl =\n",
              "          document.querySelector('#df-5115e6f5-0623-42ad-b28e-79b7626d28fa button.colab-df-convert');\n",
              "        buttonEl.style.display =\n",
              "          google.colab.kernel.accessAllowed ? 'block' : 'none';\n",
              "\n",
              "        async function convertToInteractive(key) {\n",
              "          const element = document.querySelector('#df-5115e6f5-0623-42ad-b28e-79b7626d28fa');\n",
              "          const dataTable =\n",
              "            await google.colab.kernel.invokeFunction('convertToInteractive',\n",
              "                                                     [key], {});\n",
              "          if (!dataTable) return;\n",
              "\n",
              "          const docLinkHtml = 'Like what you see? Visit the ' +\n",
              "            '<a target=\"_blank\" href=https://colab.research.google.com/notebooks/data_table.ipynb>data table notebook</a>'\n",
              "            + ' to learn more about interactive tables.';\n",
              "          element.innerHTML = '';\n",
              "          dataTable['output_type'] = 'display_data';\n",
              "          await google.colab.output.renderOutput(dataTable, element);\n",
              "          const docLink = document.createElement('div');\n",
              "          docLink.innerHTML = docLinkHtml;\n",
              "          element.appendChild(docLink);\n",
              "        }\n",
              "      </script>\n",
              "    </div>\n",
              "  </div>\n",
              "  "
            ],
            "text/plain": [
              "       Unnamed: 0       Artist  \\\n",
              "20717       20717  SICK LEGEND   \n",
              "\n",
              "                                             Url_spotify               Track  \\\n",
              "20717  https://open.spotify.com/artist/3EYY5FwDkHEYLw...  MISS YOU HARDSTYLE   \n",
              "\n",
              "                    Album Album_type                                   Uri  \\\n",
              "20717  MISS YOU HARDSTYLE     single  spotify:track:6lOn0jz1QpjcWeXo1oMm0k   \n",
              "\n",
              "       Danceability  Energy  Key  ...  \\\n",
              "20717         0.498   0.938  6.0  ...   \n",
              "\n",
              "                                       Url_youtube               Title  \\\n",
              "20717  https://www.youtube.com/watch?v=zau0dckCFi0  MISS YOU HARDSTYLE   \n",
              "\n",
              "                   Channel     Views   Likes  Comments  \\\n",
              "20717  SICK LEGEND - Topic  158697.0  2484.0       0.0   \n",
              "\n",
              "                                             Description  Licensed  \\\n",
              "20717  Provided to YouTube by Routenote\\n\\nMISS YOU H...      True   \n",
              "\n",
              "      official_video     Stream  \n",
              "20717           True  5695584.0  \n",
              "\n",
              "[1 rows x 28 columns]"
            ]
          },
          "execution_count": 7,
          "metadata": {},
          "output_type": "execute_result"
        }
      ],
      "source": [
        "# Por defecto tail devolvera 5 filas, si queremos un número distinto se lo debemos pasar como parametro\n",
        "df.tail(1)"
      ]
    },
    {
      "cell_type": "markdown",
      "id": "c977359f",
      "metadata": {
        "id": "c977359f"
      },
      "source": [
        "# Obtener nombres de las columnas y tipos de datos que tienen"
      ]
    },
    {
      "cell_type": "code",
      "execution_count": 8,
      "id": "37d20edb",
      "metadata": {
        "colab": {
          "base_uri": "https://localhost:8080/"
        },
        "id": "37d20edb",
        "outputId": "28a84073-2f6a-4728-aa8b-046c584d2307"
      },
      "outputs": [
        {
          "name": "stdout",
          "output_type": "stream",
          "text": [
            "<class 'pandas.core.frame.DataFrame'>\n",
            "RangeIndex: 20718 entries, 0 to 20717\n",
            "Data columns (total 28 columns):\n",
            " #   Column            Non-Null Count  Dtype  \n",
            "---  ------            --------------  -----  \n",
            " 0   Unnamed: 0        20718 non-null  int64  \n",
            " 1   Artist            20718 non-null  object \n",
            " 2   Url_spotify       20718 non-null  object \n",
            " 3   Track             20718 non-null  object \n",
            " 4   Album             20718 non-null  object \n",
            " 5   Album_type        20718 non-null  object \n",
            " 6   Uri               20718 non-null  object \n",
            " 7   Danceability      20716 non-null  float64\n",
            " 8   Energy            20716 non-null  float64\n",
            " 9   Key               20716 non-null  float64\n",
            " 10  Loudness          20716 non-null  float64\n",
            " 11  Speechiness       20716 non-null  float64\n",
            " 12  Acousticness      20716 non-null  float64\n",
            " 13  Instrumentalness  20716 non-null  float64\n",
            " 14  Liveness          20716 non-null  float64\n",
            " 15  Valence           20716 non-null  float64\n",
            " 16  Tempo             20716 non-null  float64\n",
            " 17  Duration_ms       20716 non-null  float64\n",
            " 18  Url_youtube       20248 non-null  object \n",
            " 19  Title             20248 non-null  object \n",
            " 20  Channel           20248 non-null  object \n",
            " 21  Views             20248 non-null  float64\n",
            " 22  Likes             20177 non-null  float64\n",
            " 23  Comments          20149 non-null  float64\n",
            " 24  Description       19842 non-null  object \n",
            " 25  Licensed          20248 non-null  object \n",
            " 26  official_video    20248 non-null  object \n",
            " 27  Stream            20142 non-null  float64\n",
            "dtypes: float64(15), int64(1), object(12)\n",
            "memory usage: 4.4+ MB\n"
          ]
        }
      ],
      "source": [
        "df.info()"
      ]
    },
    {
      "cell_type": "markdown",
      "id": "4282653b",
      "metadata": {
        "id": "4282653b"
      },
      "source": [
        "# Obtener diferentes datos estadisticos para cada columna"
      ]
    },
    {
      "cell_type": "code",
      "execution_count": 9,
      "id": "4a2b9aa8",
      "metadata": {
        "colab": {
          "base_uri": "https://localhost:8080/",
          "height": 364
        },
        "id": "4a2b9aa8",
        "outputId": "29e4f8b9-7985-4e54-b3bd-542c2a8adf56"
      },
      "outputs": [
        {
          "data": {
            "text/html": [
              "\n",
              "  <div id=\"df-cf5e5d01-c578-45fa-8280-b455ab33ef01\">\n",
              "    <div class=\"colab-df-container\">\n",
              "      <div>\n",
              "<style scoped>\n",
              "    .dataframe tbody tr th:only-of-type {\n",
              "        vertical-align: middle;\n",
              "    }\n",
              "\n",
              "    .dataframe tbody tr th {\n",
              "        vertical-align: top;\n",
              "    }\n",
              "\n",
              "    .dataframe thead th {\n",
              "        text-align: right;\n",
              "    }\n",
              "</style>\n",
              "<table border=\"1\" class=\"dataframe\">\n",
              "  <thead>\n",
              "    <tr style=\"text-align: right;\">\n",
              "      <th></th>\n",
              "      <th>Unnamed: 0</th>\n",
              "      <th>Danceability</th>\n",
              "      <th>Energy</th>\n",
              "      <th>Key</th>\n",
              "      <th>Loudness</th>\n",
              "      <th>Speechiness</th>\n",
              "      <th>Acousticness</th>\n",
              "      <th>Instrumentalness</th>\n",
              "      <th>Liveness</th>\n",
              "      <th>Valence</th>\n",
              "      <th>Tempo</th>\n",
              "      <th>Duration_ms</th>\n",
              "      <th>Views</th>\n",
              "      <th>Likes</th>\n",
              "      <th>Comments</th>\n",
              "      <th>Stream</th>\n",
              "    </tr>\n",
              "  </thead>\n",
              "  <tbody>\n",
              "    <tr>\n",
              "      <th>count</th>\n",
              "      <td>20718.000000</td>\n",
              "      <td>20716.000000</td>\n",
              "      <td>20716.000000</td>\n",
              "      <td>20716.000000</td>\n",
              "      <td>20716.000000</td>\n",
              "      <td>20716.000000</td>\n",
              "      <td>20716.000000</td>\n",
              "      <td>20716.000000</td>\n",
              "      <td>20716.000000</td>\n",
              "      <td>20716.000000</td>\n",
              "      <td>20716.000000</td>\n",
              "      <td>2.071600e+04</td>\n",
              "      <td>2.024800e+04</td>\n",
              "      <td>2.017700e+04</td>\n",
              "      <td>2.014900e+04</td>\n",
              "      <td>2.014200e+04</td>\n",
              "    </tr>\n",
              "    <tr>\n",
              "      <th>mean</th>\n",
              "      <td>10358.500000</td>\n",
              "      <td>0.619777</td>\n",
              "      <td>0.635250</td>\n",
              "      <td>5.300348</td>\n",
              "      <td>-7.671680</td>\n",
              "      <td>0.096456</td>\n",
              "      <td>0.291535</td>\n",
              "      <td>0.055962</td>\n",
              "      <td>0.193521</td>\n",
              "      <td>0.529853</td>\n",
              "      <td>120.638340</td>\n",
              "      <td>2.247176e+05</td>\n",
              "      <td>9.393782e+07</td>\n",
              "      <td>6.633411e+05</td>\n",
              "      <td>2.751899e+04</td>\n",
              "      <td>1.359422e+08</td>\n",
              "    </tr>\n",
              "    <tr>\n",
              "      <th>std</th>\n",
              "      <td>5980.915774</td>\n",
              "      <td>0.165272</td>\n",
              "      <td>0.214147</td>\n",
              "      <td>3.576449</td>\n",
              "      <td>4.632749</td>\n",
              "      <td>0.111960</td>\n",
              "      <td>0.286299</td>\n",
              "      <td>0.193262</td>\n",
              "      <td>0.168531</td>\n",
              "      <td>0.245441</td>\n",
              "      <td>29.579018</td>\n",
              "      <td>1.247905e+05</td>\n",
              "      <td>2.746443e+08</td>\n",
              "      <td>1.789324e+06</td>\n",
              "      <td>1.932347e+05</td>\n",
              "      <td>2.441321e+08</td>\n",
              "    </tr>\n",
              "    <tr>\n",
              "      <th>min</th>\n",
              "      <td>0.000000</td>\n",
              "      <td>0.000000</td>\n",
              "      <td>0.000020</td>\n",
              "      <td>0.000000</td>\n",
              "      <td>-46.251000</td>\n",
              "      <td>0.000000</td>\n",
              "      <td>0.000001</td>\n",
              "      <td>0.000000</td>\n",
              "      <td>0.014500</td>\n",
              "      <td>0.000000</td>\n",
              "      <td>0.000000</td>\n",
              "      <td>3.098500e+04</td>\n",
              "      <td>0.000000e+00</td>\n",
              "      <td>0.000000e+00</td>\n",
              "      <td>0.000000e+00</td>\n",
              "      <td>6.574000e+03</td>\n",
              "    </tr>\n",
              "    <tr>\n",
              "      <th>25%</th>\n",
              "      <td>5179.250000</td>\n",
              "      <td>0.518000</td>\n",
              "      <td>0.507000</td>\n",
              "      <td>2.000000</td>\n",
              "      <td>-8.858000</td>\n",
              "      <td>0.035700</td>\n",
              "      <td>0.045200</td>\n",
              "      <td>0.000000</td>\n",
              "      <td>0.094100</td>\n",
              "      <td>0.339000</td>\n",
              "      <td>97.002000</td>\n",
              "      <td>1.800095e+05</td>\n",
              "      <td>1.826002e+06</td>\n",
              "      <td>2.158100e+04</td>\n",
              "      <td>5.090000e+02</td>\n",
              "      <td>1.767486e+07</td>\n",
              "    </tr>\n",
              "    <tr>\n",
              "      <th>50%</th>\n",
              "      <td>10358.500000</td>\n",
              "      <td>0.637000</td>\n",
              "      <td>0.666000</td>\n",
              "      <td>5.000000</td>\n",
              "      <td>-6.536000</td>\n",
              "      <td>0.050500</td>\n",
              "      <td>0.193000</td>\n",
              "      <td>0.000002</td>\n",
              "      <td>0.125000</td>\n",
              "      <td>0.537000</td>\n",
              "      <td>119.965000</td>\n",
              "      <td>2.132845e+05</td>\n",
              "      <td>1.450110e+07</td>\n",
              "      <td>1.244810e+05</td>\n",
              "      <td>3.277000e+03</td>\n",
              "      <td>4.968298e+07</td>\n",
              "    </tr>\n",
              "    <tr>\n",
              "      <th>75%</th>\n",
              "      <td>15537.750000</td>\n",
              "      <td>0.740250</td>\n",
              "      <td>0.798000</td>\n",
              "      <td>8.000000</td>\n",
              "      <td>-4.931000</td>\n",
              "      <td>0.103000</td>\n",
              "      <td>0.477250</td>\n",
              "      <td>0.000463</td>\n",
              "      <td>0.237000</td>\n",
              "      <td>0.726250</td>\n",
              "      <td>139.935000</td>\n",
              "      <td>2.524430e+05</td>\n",
              "      <td>7.039975e+07</td>\n",
              "      <td>5.221480e+05</td>\n",
              "      <td>1.436000e+04</td>\n",
              "      <td>1.383581e+08</td>\n",
              "    </tr>\n",
              "    <tr>\n",
              "      <th>max</th>\n",
              "      <td>20717.000000</td>\n",
              "      <td>0.975000</td>\n",
              "      <td>1.000000</td>\n",
              "      <td>11.000000</td>\n",
              "      <td>0.920000</td>\n",
              "      <td>0.964000</td>\n",
              "      <td>0.996000</td>\n",
              "      <td>1.000000</td>\n",
              "      <td>1.000000</td>\n",
              "      <td>0.993000</td>\n",
              "      <td>243.372000</td>\n",
              "      <td>4.676058e+06</td>\n",
              "      <td>8.079649e+09</td>\n",
              "      <td>5.078865e+07</td>\n",
              "      <td>1.608314e+07</td>\n",
              "      <td>3.386520e+09</td>\n",
              "    </tr>\n",
              "  </tbody>\n",
              "</table>\n",
              "</div>\n",
              "      <button class=\"colab-df-convert\" onclick=\"convertToInteractive('df-cf5e5d01-c578-45fa-8280-b455ab33ef01')\"\n",
              "              title=\"Convert this dataframe to an interactive table.\"\n",
              "              style=\"display:none;\">\n",
              "        \n",
              "  <svg xmlns=\"http://www.w3.org/2000/svg\" height=\"24px\"viewBox=\"0 0 24 24\"\n",
              "       width=\"24px\">\n",
              "    <path d=\"M0 0h24v24H0V0z\" fill=\"none\"/>\n",
              "    <path d=\"M18.56 5.44l.94 2.06.94-2.06 2.06-.94-2.06-.94-.94-2.06-.94 2.06-2.06.94zm-11 1L8.5 8.5l.94-2.06 2.06-.94-2.06-.94L8.5 2.5l-.94 2.06-2.06.94zm10 10l.94 2.06.94-2.06 2.06-.94-2.06-.94-.94-2.06-.94 2.06-2.06.94z\"/><path d=\"M17.41 7.96l-1.37-1.37c-.4-.4-.92-.59-1.43-.59-.52 0-1.04.2-1.43.59L10.3 9.45l-7.72 7.72c-.78.78-.78 2.05 0 2.83L4 21.41c.39.39.9.59 1.41.59.51 0 1.02-.2 1.41-.59l7.78-7.78 2.81-2.81c.8-.78.8-2.07 0-2.86zM5.41 20L4 18.59l7.72-7.72 1.47 1.35L5.41 20z\"/>\n",
              "  </svg>\n",
              "      </button>\n",
              "      \n",
              "  <style>\n",
              "    .colab-df-container {\n",
              "      display:flex;\n",
              "      flex-wrap:wrap;\n",
              "      gap: 12px;\n",
              "    }\n",
              "\n",
              "    .colab-df-convert {\n",
              "      background-color: #E8F0FE;\n",
              "      border: none;\n",
              "      border-radius: 50%;\n",
              "      cursor: pointer;\n",
              "      display: none;\n",
              "      fill: #1967D2;\n",
              "      height: 32px;\n",
              "      padding: 0 0 0 0;\n",
              "      width: 32px;\n",
              "    }\n",
              "\n",
              "    .colab-df-convert:hover {\n",
              "      background-color: #E2EBFA;\n",
              "      box-shadow: 0px 1px 2px rgba(60, 64, 67, 0.3), 0px 1px 3px 1px rgba(60, 64, 67, 0.15);\n",
              "      fill: #174EA6;\n",
              "    }\n",
              "\n",
              "    [theme=dark] .colab-df-convert {\n",
              "      background-color: #3B4455;\n",
              "      fill: #D2E3FC;\n",
              "    }\n",
              "\n",
              "    [theme=dark] .colab-df-convert:hover {\n",
              "      background-color: #434B5C;\n",
              "      box-shadow: 0px 1px 3px 1px rgba(0, 0, 0, 0.15);\n",
              "      filter: drop-shadow(0px 1px 2px rgba(0, 0, 0, 0.3));\n",
              "      fill: #FFFFFF;\n",
              "    }\n",
              "  </style>\n",
              "\n",
              "      <script>\n",
              "        const buttonEl =\n",
              "          document.querySelector('#df-cf5e5d01-c578-45fa-8280-b455ab33ef01 button.colab-df-convert');\n",
              "        buttonEl.style.display =\n",
              "          google.colab.kernel.accessAllowed ? 'block' : 'none';\n",
              "\n",
              "        async function convertToInteractive(key) {\n",
              "          const element = document.querySelector('#df-cf5e5d01-c578-45fa-8280-b455ab33ef01');\n",
              "          const dataTable =\n",
              "            await google.colab.kernel.invokeFunction('convertToInteractive',\n",
              "                                                     [key], {});\n",
              "          if (!dataTable) return;\n",
              "\n",
              "          const docLinkHtml = 'Like what you see? Visit the ' +\n",
              "            '<a target=\"_blank\" href=https://colab.research.google.com/notebooks/data_table.ipynb>data table notebook</a>'\n",
              "            + ' to learn more about interactive tables.';\n",
              "          element.innerHTML = '';\n",
              "          dataTable['output_type'] = 'display_data';\n",
              "          await google.colab.output.renderOutput(dataTable, element);\n",
              "          const docLink = document.createElement('div');\n",
              "          docLink.innerHTML = docLinkHtml;\n",
              "          element.appendChild(docLink);\n",
              "        }\n",
              "      </script>\n",
              "    </div>\n",
              "  </div>\n",
              "  "
            ],
            "text/plain": [
              "         Unnamed: 0  Danceability        Energy           Key      Loudness  \\\n",
              "count  20718.000000  20716.000000  20716.000000  20716.000000  20716.000000   \n",
              "mean   10358.500000      0.619777      0.635250      5.300348     -7.671680   \n",
              "std     5980.915774      0.165272      0.214147      3.576449      4.632749   \n",
              "min        0.000000      0.000000      0.000020      0.000000    -46.251000   \n",
              "25%     5179.250000      0.518000      0.507000      2.000000     -8.858000   \n",
              "50%    10358.500000      0.637000      0.666000      5.000000     -6.536000   \n",
              "75%    15537.750000      0.740250      0.798000      8.000000     -4.931000   \n",
              "max    20717.000000      0.975000      1.000000     11.000000      0.920000   \n",
              "\n",
              "        Speechiness  Acousticness  Instrumentalness      Liveness  \\\n",
              "count  20716.000000  20716.000000      20716.000000  20716.000000   \n",
              "mean       0.096456      0.291535          0.055962      0.193521   \n",
              "std        0.111960      0.286299          0.193262      0.168531   \n",
              "min        0.000000      0.000001          0.000000      0.014500   \n",
              "25%        0.035700      0.045200          0.000000      0.094100   \n",
              "50%        0.050500      0.193000          0.000002      0.125000   \n",
              "75%        0.103000      0.477250          0.000463      0.237000   \n",
              "max        0.964000      0.996000          1.000000      1.000000   \n",
              "\n",
              "            Valence         Tempo   Duration_ms         Views         Likes  \\\n",
              "count  20716.000000  20716.000000  2.071600e+04  2.024800e+04  2.017700e+04   \n",
              "mean       0.529853    120.638340  2.247176e+05  9.393782e+07  6.633411e+05   \n",
              "std        0.245441     29.579018  1.247905e+05  2.746443e+08  1.789324e+06   \n",
              "min        0.000000      0.000000  3.098500e+04  0.000000e+00  0.000000e+00   \n",
              "25%        0.339000     97.002000  1.800095e+05  1.826002e+06  2.158100e+04   \n",
              "50%        0.537000    119.965000  2.132845e+05  1.450110e+07  1.244810e+05   \n",
              "75%        0.726250    139.935000  2.524430e+05  7.039975e+07  5.221480e+05   \n",
              "max        0.993000    243.372000  4.676058e+06  8.079649e+09  5.078865e+07   \n",
              "\n",
              "           Comments        Stream  \n",
              "count  2.014900e+04  2.014200e+04  \n",
              "mean   2.751899e+04  1.359422e+08  \n",
              "std    1.932347e+05  2.441321e+08  \n",
              "min    0.000000e+00  6.574000e+03  \n",
              "25%    5.090000e+02  1.767486e+07  \n",
              "50%    3.277000e+03  4.968298e+07  \n",
              "75%    1.436000e+04  1.383581e+08  \n",
              "max    1.608314e+07  3.386520e+09  "
            ]
          },
          "execution_count": 9,
          "metadata": {},
          "output_type": "execute_result"
        }
      ],
      "source": [
        "df.describe()"
      ]
    },
    {
      "cell_type": "markdown",
      "id": "03ce6e5a",
      "metadata": {
        "id": "03ce6e5a"
      },
      "source": [
        "# Obtener dimensiones del dataframe"
      ]
    },
    {
      "cell_type": "code",
      "execution_count": 10,
      "id": "07bbb527",
      "metadata": {
        "colab": {
          "base_uri": "https://localhost:8080/"
        },
        "id": "07bbb527",
        "outputId": "a3cf44bb-0156-4232-b1f4-4ba58dea5dcb"
      },
      "outputs": [
        {
          "data": {
            "text/plain": [
              "(20718, 28)"
            ]
          },
          "execution_count": 10,
          "metadata": {},
          "output_type": "execute_result"
        }
      ],
      "source": [
        "# Retorna (N° filas, N° columnas)\n",
        "df.shape"
      ]
    },
    {
      "cell_type": "markdown",
      "id": "7bfab9af",
      "metadata": {
        "id": "7bfab9af"
      },
      "source": [
        "# Obtener columnas del dataframe"
      ]
    },
    {
      "cell_type": "code",
      "execution_count": 11,
      "id": "701ea188",
      "metadata": {
        "colab": {
          "base_uri": "https://localhost:8080/"
        },
        "id": "701ea188",
        "outputId": "8f6bdcea-b34b-46a0-e6c6-14762160f6e5"
      },
      "outputs": [
        {
          "data": {
            "text/plain": [
              "Index(['Unnamed: 0', 'Artist', 'Url_spotify', 'Track', 'Album', 'Album_type',\n",
              "       'Uri', 'Danceability', 'Energy', 'Key', 'Loudness', 'Speechiness',\n",
              "       'Acousticness', 'Instrumentalness', 'Liveness', 'Valence', 'Tempo',\n",
              "       'Duration_ms', 'Url_youtube', 'Title', 'Channel', 'Views', 'Likes',\n",
              "       'Comments', 'Description', 'Licensed', 'official_video', 'Stream'],\n",
              "      dtype='object')"
            ]
          },
          "execution_count": 11,
          "metadata": {},
          "output_type": "execute_result"
        }
      ],
      "source": [
        "df.columns"
      ]
    },
    {
      "cell_type": "code",
      "execution_count": 12,
      "id": "6219fd5b",
      "metadata": {
        "colab": {
          "base_uri": "https://localhost:8080/"
        },
        "id": "6219fd5b",
        "outputId": "75875a10-453a-4668-cb02-94bd6ed6ab22"
      },
      "outputs": [
        {
          "data": {
            "text/plain": [
              "['Unnamed: 0',\n",
              " 'Artist',\n",
              " 'Url_spotify',\n",
              " 'Track',\n",
              " 'Album',\n",
              " 'Album_type',\n",
              " 'Uri',\n",
              " 'Danceability',\n",
              " 'Energy',\n",
              " 'Key',\n",
              " 'Loudness',\n",
              " 'Speechiness',\n",
              " 'Acousticness',\n",
              " 'Instrumentalness',\n",
              " 'Liveness',\n",
              " 'Valence',\n",
              " 'Tempo',\n",
              " 'Duration_ms',\n",
              " 'Url_youtube',\n",
              " 'Title',\n",
              " 'Channel',\n",
              " 'Views',\n",
              " 'Likes',\n",
              " 'Comments',\n",
              " 'Description',\n",
              " 'Licensed',\n",
              " 'official_video',\n",
              " 'Stream']"
            ]
          },
          "execution_count": 12,
          "metadata": {},
          "output_type": "execute_result"
        }
      ],
      "source": [
        "# Podemos convertir este objeto a una lista de python con el método \"tolist()\"\n",
        "df.columns.tolist()"
      ]
    },
    {
      "cell_type": "markdown",
      "id": "9df3e2eb",
      "metadata": {
        "id": "9df3e2eb"
      },
      "source": [
        "# Ordenar un dataframe por alguna columna o columnas especificas"
      ]
    },
    {
      "cell_type": "code",
      "execution_count": 13,
      "id": "0702c5c8",
      "metadata": {
        "colab": {
          "base_uri": "https://localhost:8080/",
          "height": 1000
        },
        "id": "0702c5c8",
        "outputId": "283280a7-38ad-4f24-dc88-dcc1bc003733"
      },
      "outputs": [
        {
          "data": {
            "text/html": [
              "\n",
              "  <div id=\"df-7326ca56-47e7-4acd-a8fb-230fe164ba97\">\n",
              "    <div class=\"colab-df-container\">\n",
              "      <div>\n",
              "<style scoped>\n",
              "    .dataframe tbody tr th:only-of-type {\n",
              "        vertical-align: middle;\n",
              "    }\n",
              "\n",
              "    .dataframe tbody tr th {\n",
              "        vertical-align: top;\n",
              "    }\n",
              "\n",
              "    .dataframe thead th {\n",
              "        text-align: right;\n",
              "    }\n",
              "</style>\n",
              "<table border=\"1\" class=\"dataframe\">\n",
              "  <thead>\n",
              "    <tr style=\"text-align: right;\">\n",
              "      <th></th>\n",
              "      <th>Unnamed: 0</th>\n",
              "      <th>Artist</th>\n",
              "      <th>Url_spotify</th>\n",
              "      <th>Track</th>\n",
              "      <th>Album</th>\n",
              "      <th>Album_type</th>\n",
              "      <th>Uri</th>\n",
              "      <th>Danceability</th>\n",
              "      <th>Energy</th>\n",
              "      <th>Key</th>\n",
              "      <th>...</th>\n",
              "      <th>Url_youtube</th>\n",
              "      <th>Title</th>\n",
              "      <th>Channel</th>\n",
              "      <th>Views</th>\n",
              "      <th>Likes</th>\n",
              "      <th>Comments</th>\n",
              "      <th>Description</th>\n",
              "      <th>Licensed</th>\n",
              "      <th>official_video</th>\n",
              "      <th>Stream</th>\n",
              "    </tr>\n",
              "  </thead>\n",
              "  <tbody>\n",
              "    <tr>\n",
              "      <th>2871</th>\n",
              "      <td>2871</td>\n",
              "      <td>The Alchemist</td>\n",
              "      <td>https://open.spotify.com/artist/0eVyjRhzZKke2K...</td>\n",
              "      <td>Arrival</td>\n",
              "      <td>Israeli Salad</td>\n",
              "      <td>album</td>\n",
              "      <td>spotify:track:6quMGNh47CpSR5kmZSYSTK</td>\n",
              "      <td>0.000</td>\n",
              "      <td>0.802000</td>\n",
              "      <td>1.0</td>\n",
              "      <td>...</td>\n",
              "      <td>https://www.youtube.com/watch?v=VOzGHqs9bRM</td>\n",
              "      <td>Arrival</td>\n",
              "      <td>The Alchemist - Topic</td>\n",
              "      <td>104635.0</td>\n",
              "      <td>1905.0</td>\n",
              "      <td>21.0</td>\n",
              "      <td>Provided to YouTube by Empire Distribution\\n\\n...</td>\n",
              "      <td>True</td>\n",
              "      <td>True</td>\n",
              "      <td>9283211.0</td>\n",
              "    </tr>\n",
              "    <tr>\n",
              "      <th>8373</th>\n",
              "      <td>8373</td>\n",
              "      <td>M83</td>\n",
              "      <td>https://open.spotify.com/artist/63MQldklfxkjYD...</td>\n",
              "      <td>Adieux</td>\n",
              "      <td>You And The Night</td>\n",
              "      <td>album</td>\n",
              "      <td>spotify:track:0aGA1zFV0ER1xLiJmHxb2s</td>\n",
              "      <td>0.000</td>\n",
              "      <td>0.105000</td>\n",
              "      <td>7.0</td>\n",
              "      <td>...</td>\n",
              "      <td>https://www.youtube.com/watch?v=Ifpj8xnidVg</td>\n",
              "      <td>M83 - Adieux (audio)</td>\n",
              "      <td>M83</td>\n",
              "      <td>50330.0</td>\n",
              "      <td>453.0</td>\n",
              "      <td>11.0</td>\n",
              "      <td>You and The Night Full album stream playlist: ...</td>\n",
              "      <td>True</td>\n",
              "      <td>True</td>\n",
              "      <td>3387203.0</td>\n",
              "    </tr>\n",
              "    <tr>\n",
              "      <th>15597</th>\n",
              "      <td>15597</td>\n",
              "      <td>White Noise Baby Sleep</td>\n",
              "      <td>https://open.spotify.com/artist/4W12lEvVl5wect...</td>\n",
              "      <td>Air Conditioner - Loopable with no fade</td>\n",
              "      <td>Best White Noise for Baby Sleep - Loopable wit...</td>\n",
              "      <td>album</td>\n",
              "      <td>spotify:track:4f9s3wr1e1QdpMDxQosSTz</td>\n",
              "      <td>0.000</td>\n",
              "      <td>0.000055</td>\n",
              "      <td>10.0</td>\n",
              "      <td>...</td>\n",
              "      <td>https://www.youtube.com/watch?v=gUkNfU0z9ts</td>\n",
              "      <td>Air Conditioner - Loopable With No Fade</td>\n",
              "      <td>White Noise - Topic</td>\n",
              "      <td>407.0</td>\n",
              "      <td>1.0</td>\n",
              "      <td>0.0</td>\n",
              "      <td>Provided to YouTube by Symphonic Distribution\\...</td>\n",
              "      <td>True</td>\n",
              "      <td>True</td>\n",
              "      <td>26677287.0</td>\n",
              "    </tr>\n",
              "    <tr>\n",
              "      <th>15595</th>\n",
              "      <td>15595</td>\n",
              "      <td>White Noise Baby Sleep</td>\n",
              "      <td>https://open.spotify.com/artist/4W12lEvVl5wect...</td>\n",
              "      <td>White Noise Relaxation for Calming Down Fussy ...</td>\n",
              "      <td>White Noise for Sleeping Babies</td>\n",
              "      <td>album</td>\n",
              "      <td>spotify:track:1VfdHjChKjH3cRgWVqDqyb</td>\n",
              "      <td>0.000</td>\n",
              "      <td>0.373000</td>\n",
              "      <td>10.0</td>\n",
              "      <td>...</td>\n",
              "      <td>https://www.youtube.com/watch?v=8YXAtMGgrik</td>\n",
              "      <td>White Noise Relaxation for Calming Down Fussy ...</td>\n",
              "      <td>White Noise - Topic</td>\n",
              "      <td>376087.0</td>\n",
              "      <td>561.0</td>\n",
              "      <td>0.0</td>\n",
              "      <td>Provided to YouTube by CDBaby\\n\\nWhite Noise R...</td>\n",
              "      <td>True</td>\n",
              "      <td>True</td>\n",
              "      <td>15110333.0</td>\n",
              "    </tr>\n",
              "    <tr>\n",
              "      <th>15590</th>\n",
              "      <td>15590</td>\n",
              "      <td>White Noise Baby Sleep</td>\n",
              "      <td>https://open.spotify.com/artist/4W12lEvVl5wect...</td>\n",
              "      <td>Pure Brown Noise - Loopable with no fade</td>\n",
              "      <td>Best White Noise for Baby Sleep - Loopable wit...</td>\n",
              "      <td>album</td>\n",
              "      <td>spotify:track:5I21rMWLtCjWQl6QyLn85W</td>\n",
              "      <td>0.000</td>\n",
              "      <td>0.001250</td>\n",
              "      <td>1.0</td>\n",
              "      <td>...</td>\n",
              "      <td>https://www.youtube.com/watch?v=1hSNJvE4c70</td>\n",
              "      <td>Baby Sleep Brown Noise</td>\n",
              "      <td>littleONES - Topic</td>\n",
              "      <td>290014.0</td>\n",
              "      <td>674.0</td>\n",
              "      <td>0.0</td>\n",
              "      <td>Provided to YouTube by TuneCore\\n\\nBaby Sleep ...</td>\n",
              "      <td>True</td>\n",
              "      <td>True</td>\n",
              "      <td>128701242.0</td>\n",
              "    </tr>\n",
              "    <tr>\n",
              "      <th>...</th>\n",
              "      <td>...</td>\n",
              "      <td>...</td>\n",
              "      <td>...</td>\n",
              "      <td>...</td>\n",
              "      <td>...</td>\n",
              "      <td>...</td>\n",
              "      <td>...</td>\n",
              "      <td>...</td>\n",
              "      <td>...</td>\n",
              "      <td>...</td>\n",
              "      <td>...</td>\n",
              "      <td>...</td>\n",
              "      <td>...</td>\n",
              "      <td>...</td>\n",
              "      <td>...</td>\n",
              "      <td>...</td>\n",
              "      <td>...</td>\n",
              "      <td>...</td>\n",
              "      <td>...</td>\n",
              "      <td>...</td>\n",
              "      <td>...</td>\n",
              "    </tr>\n",
              "    <tr>\n",
              "      <th>18822</th>\n",
              "      <td>18822</td>\n",
              "      <td>Dave</td>\n",
              "      <td>https://open.spotify.com/artist/6Ip8FS7vWT1uKk...</td>\n",
              "      <td>Funky Friday</td>\n",
              "      <td>Funky Friday</td>\n",
              "      <td>single</td>\n",
              "      <td>spotify:track:01IQ4aQgOf0Kkq3a273hmO</td>\n",
              "      <td>0.975</td>\n",
              "      <td>0.535000</td>\n",
              "      <td>1.0</td>\n",
              "      <td>...</td>\n",
              "      <td>https://www.youtube.com/watch?v=Pxns_n9q0f4</td>\n",
              "      <td>Dave - Funky Friday (ft. Fredo)</td>\n",
              "      <td>Santan Dave</td>\n",
              "      <td>90501634.0</td>\n",
              "      <td>550331.0</td>\n",
              "      <td>14621.0</td>\n",
              "      <td>Stream &amp; Download Psychodrama: https://SantanD...</td>\n",
              "      <td>False</td>\n",
              "      <td>False</td>\n",
              "      <td>172177751.0</td>\n",
              "    </tr>\n",
              "    <tr>\n",
              "      <th>750</th>\n",
              "      <td>750</td>\n",
              "      <td>Timbaland</td>\n",
              "      <td>https://open.spotify.com/artist/5Y5TRrQiqgUO4S...</td>\n",
              "      <td>Give It To Me</td>\n",
              "      <td>Shock Value</td>\n",
              "      <td>album</td>\n",
              "      <td>spotify:track:0wbDgMuAoy7O7pL3a69uZx</td>\n",
              "      <td>0.975</td>\n",
              "      <td>0.711000</td>\n",
              "      <td>8.0</td>\n",
              "      <td>...</td>\n",
              "      <td>https://www.youtube.com/watch?v=RgoiSJ23cSc</td>\n",
              "      <td>Timbaland - Give It To Me (Official Music Vide...</td>\n",
              "      <td>TimbalandVEVO</td>\n",
              "      <td>133147140.0</td>\n",
              "      <td>760396.0</td>\n",
              "      <td>17486.0</td>\n",
              "      <td>Official music video for Timbaland's \"Give It ...</td>\n",
              "      <td>True</td>\n",
              "      <td>True</td>\n",
              "      <td>165286007.0</td>\n",
              "    </tr>\n",
              "    <tr>\n",
              "      <th>16555</th>\n",
              "      <td>16555</td>\n",
              "      <td>BIA</td>\n",
              "      <td>https://open.spotify.com/artist/6veh5zbFpm31Xs...</td>\n",
              "      <td>CAN'T TOUCH THIS</td>\n",
              "      <td>FOR CERTAIN (Deluxe)</td>\n",
              "      <td>album</td>\n",
              "      <td>spotify:track:1LJYn86ysceH708AIkw0VZ</td>\n",
              "      <td>0.975</td>\n",
              "      <td>0.482000</td>\n",
              "      <td>9.0</td>\n",
              "      <td>...</td>\n",
              "      <td>https://www.youtube.com/watch?v=4wKFIBmefiY</td>\n",
              "      <td>BIA - CAN'T TOUCH THIS (Official Music Video)</td>\n",
              "      <td>BIAVEVO</td>\n",
              "      <td>4497077.0</td>\n",
              "      <td>97592.0</td>\n",
              "      <td>4035.0</td>\n",
              "      <td>BIA - CAN'T TOUCH THIS (Official Music Video)\\...</td>\n",
              "      <td>True</td>\n",
              "      <td>True</td>\n",
              "      <td>24769336.0</td>\n",
              "    </tr>\n",
              "    <tr>\n",
              "      <th>11890</th>\n",
              "      <td>11890</td>\n",
              "      <td>Natasha Bedingfield</td>\n",
              "      <td>https://open.spotify.com/artist/7o95ZoZt5ZYn31...</td>\n",
              "      <td>These Words</td>\n",
              "      <td>Unwritten</td>\n",
              "      <td>album</td>\n",
              "      <td>spotify:track:6MFQeWtk7kxWGydnJB2y36</td>\n",
              "      <td>NaN</td>\n",
              "      <td>NaN</td>\n",
              "      <td>NaN</td>\n",
              "      <td>...</td>\n",
              "      <td>https://www.youtube.com/watch?v=e5RuGj0g1tk</td>\n",
              "      <td>Natasha Bedingfield - These Words (Official Vi...</td>\n",
              "      <td>NBedingfieldVEVO</td>\n",
              "      <td>21655597.0</td>\n",
              "      <td>165220.0</td>\n",
              "      <td>7780.0</td>\n",
              "      <td>Natasha Bedingfield - These Words (I Love You,...</td>\n",
              "      <td>True</td>\n",
              "      <td>True</td>\n",
              "      <td>110442210.0</td>\n",
              "    </tr>\n",
              "    <tr>\n",
              "      <th>13843</th>\n",
              "      <td>13843</td>\n",
              "      <td>White Noise for Babies</td>\n",
              "      <td>https://open.spotify.com/artist/4ZfEELHfyKd4od...</td>\n",
              "      <td>Rain in the Early Morning</td>\n",
              "      <td>Soothing Rain for Background Sounds and Natura...</td>\n",
              "      <td>album</td>\n",
              "      <td>spotify:track:4juc1w1fGFn8CxKp8gGThc</td>\n",
              "      <td>NaN</td>\n",
              "      <td>NaN</td>\n",
              "      <td>NaN</td>\n",
              "      <td>...</td>\n",
              "      <td>NaN</td>\n",
              "      <td>NaN</td>\n",
              "      <td>NaN</td>\n",
              "      <td>NaN</td>\n",
              "      <td>NaN</td>\n",
              "      <td>NaN</td>\n",
              "      <td>NaN</td>\n",
              "      <td>NaN</td>\n",
              "      <td>NaN</td>\n",
              "      <td>145339552.0</td>\n",
              "    </tr>\n",
              "  </tbody>\n",
              "</table>\n",
              "<p>20718 rows × 28 columns</p>\n",
              "</div>\n",
              "      <button class=\"colab-df-convert\" onclick=\"convertToInteractive('df-7326ca56-47e7-4acd-a8fb-230fe164ba97')\"\n",
              "              title=\"Convert this dataframe to an interactive table.\"\n",
              "              style=\"display:none;\">\n",
              "        \n",
              "  <svg xmlns=\"http://www.w3.org/2000/svg\" height=\"24px\"viewBox=\"0 0 24 24\"\n",
              "       width=\"24px\">\n",
              "    <path d=\"M0 0h24v24H0V0z\" fill=\"none\"/>\n",
              "    <path d=\"M18.56 5.44l.94 2.06.94-2.06 2.06-.94-2.06-.94-.94-2.06-.94 2.06-2.06.94zm-11 1L8.5 8.5l.94-2.06 2.06-.94-2.06-.94L8.5 2.5l-.94 2.06-2.06.94zm10 10l.94 2.06.94-2.06 2.06-.94-2.06-.94-.94-2.06-.94 2.06-2.06.94z\"/><path d=\"M17.41 7.96l-1.37-1.37c-.4-.4-.92-.59-1.43-.59-.52 0-1.04.2-1.43.59L10.3 9.45l-7.72 7.72c-.78.78-.78 2.05 0 2.83L4 21.41c.39.39.9.59 1.41.59.51 0 1.02-.2 1.41-.59l7.78-7.78 2.81-2.81c.8-.78.8-2.07 0-2.86zM5.41 20L4 18.59l7.72-7.72 1.47 1.35L5.41 20z\"/>\n",
              "  </svg>\n",
              "      </button>\n",
              "      \n",
              "  <style>\n",
              "    .colab-df-container {\n",
              "      display:flex;\n",
              "      flex-wrap:wrap;\n",
              "      gap: 12px;\n",
              "    }\n",
              "\n",
              "    .colab-df-convert {\n",
              "      background-color: #E8F0FE;\n",
              "      border: none;\n",
              "      border-radius: 50%;\n",
              "      cursor: pointer;\n",
              "      display: none;\n",
              "      fill: #1967D2;\n",
              "      height: 32px;\n",
              "      padding: 0 0 0 0;\n",
              "      width: 32px;\n",
              "    }\n",
              "\n",
              "    .colab-df-convert:hover {\n",
              "      background-color: #E2EBFA;\n",
              "      box-shadow: 0px 1px 2px rgba(60, 64, 67, 0.3), 0px 1px 3px 1px rgba(60, 64, 67, 0.15);\n",
              "      fill: #174EA6;\n",
              "    }\n",
              "\n",
              "    [theme=dark] .colab-df-convert {\n",
              "      background-color: #3B4455;\n",
              "      fill: #D2E3FC;\n",
              "    }\n",
              "\n",
              "    [theme=dark] .colab-df-convert:hover {\n",
              "      background-color: #434B5C;\n",
              "      box-shadow: 0px 1px 3px 1px rgba(0, 0, 0, 0.15);\n",
              "      filter: drop-shadow(0px 1px 2px rgba(0, 0, 0, 0.3));\n",
              "      fill: #FFFFFF;\n",
              "    }\n",
              "  </style>\n",
              "\n",
              "      <script>\n",
              "        const buttonEl =\n",
              "          document.querySelector('#df-7326ca56-47e7-4acd-a8fb-230fe164ba97 button.colab-df-convert');\n",
              "        buttonEl.style.display =\n",
              "          google.colab.kernel.accessAllowed ? 'block' : 'none';\n",
              "\n",
              "        async function convertToInteractive(key) {\n",
              "          const element = document.querySelector('#df-7326ca56-47e7-4acd-a8fb-230fe164ba97');\n",
              "          const dataTable =\n",
              "            await google.colab.kernel.invokeFunction('convertToInteractive',\n",
              "                                                     [key], {});\n",
              "          if (!dataTable) return;\n",
              "\n",
              "          const docLinkHtml = 'Like what you see? Visit the ' +\n",
              "            '<a target=\"_blank\" href=https://colab.research.google.com/notebooks/data_table.ipynb>data table notebook</a>'\n",
              "            + ' to learn more about interactive tables.';\n",
              "          element.innerHTML = '';\n",
              "          dataTable['output_type'] = 'display_data';\n",
              "          await google.colab.output.renderOutput(dataTable, element);\n",
              "          const docLink = document.createElement('div');\n",
              "          docLink.innerHTML = docLinkHtml;\n",
              "          element.appendChild(docLink);\n",
              "        }\n",
              "      </script>\n",
              "    </div>\n",
              "  </div>\n",
              "  "
            ],
            "text/plain": [
              "       Unnamed: 0                  Artist  \\\n",
              "2871         2871           The Alchemist   \n",
              "8373         8373                     M83   \n",
              "15597       15597  White Noise Baby Sleep   \n",
              "15595       15595  White Noise Baby Sleep   \n",
              "15590       15590  White Noise Baby Sleep   \n",
              "...           ...                     ...   \n",
              "18822       18822                    Dave   \n",
              "750           750               Timbaland   \n",
              "16555       16555                     BIA   \n",
              "11890       11890     Natasha Bedingfield   \n",
              "13843       13843  White Noise for Babies   \n",
              "\n",
              "                                             Url_spotify  \\\n",
              "2871   https://open.spotify.com/artist/0eVyjRhzZKke2K...   \n",
              "8373   https://open.spotify.com/artist/63MQldklfxkjYD...   \n",
              "15597  https://open.spotify.com/artist/4W12lEvVl5wect...   \n",
              "15595  https://open.spotify.com/artist/4W12lEvVl5wect...   \n",
              "15590  https://open.spotify.com/artist/4W12lEvVl5wect...   \n",
              "...                                                  ...   \n",
              "18822  https://open.spotify.com/artist/6Ip8FS7vWT1uKk...   \n",
              "750    https://open.spotify.com/artist/5Y5TRrQiqgUO4S...   \n",
              "16555  https://open.spotify.com/artist/6veh5zbFpm31Xs...   \n",
              "11890  https://open.spotify.com/artist/7o95ZoZt5ZYn31...   \n",
              "13843  https://open.spotify.com/artist/4ZfEELHfyKd4od...   \n",
              "\n",
              "                                                   Track  \\\n",
              "2871                                             Arrival   \n",
              "8373                                              Adieux   \n",
              "15597            Air Conditioner - Loopable with no fade   \n",
              "15595  White Noise Relaxation for Calming Down Fussy ...   \n",
              "15590           Pure Brown Noise - Loopable with no fade   \n",
              "...                                                  ...   \n",
              "18822                                       Funky Friday   \n",
              "750                                        Give It To Me   \n",
              "16555                                   CAN'T TOUCH THIS   \n",
              "11890                                        These Words   \n",
              "13843                          Rain in the Early Morning   \n",
              "\n",
              "                                                   Album Album_type  \\\n",
              "2871                                       Israeli Salad      album   \n",
              "8373                                   You And The Night      album   \n",
              "15597  Best White Noise for Baby Sleep - Loopable wit...      album   \n",
              "15595                    White Noise for Sleeping Babies      album   \n",
              "15590  Best White Noise for Baby Sleep - Loopable wit...      album   \n",
              "...                                                  ...        ...   \n",
              "18822                                       Funky Friday     single   \n",
              "750                                          Shock Value      album   \n",
              "16555                               FOR CERTAIN (Deluxe)      album   \n",
              "11890                                          Unwritten      album   \n",
              "13843  Soothing Rain for Background Sounds and Natura...      album   \n",
              "\n",
              "                                        Uri  Danceability    Energy   Key  \\\n",
              "2871   spotify:track:6quMGNh47CpSR5kmZSYSTK         0.000  0.802000   1.0   \n",
              "8373   spotify:track:0aGA1zFV0ER1xLiJmHxb2s         0.000  0.105000   7.0   \n",
              "15597  spotify:track:4f9s3wr1e1QdpMDxQosSTz         0.000  0.000055  10.0   \n",
              "15595  spotify:track:1VfdHjChKjH3cRgWVqDqyb         0.000  0.373000  10.0   \n",
              "15590  spotify:track:5I21rMWLtCjWQl6QyLn85W         0.000  0.001250   1.0   \n",
              "...                                     ...           ...       ...   ...   \n",
              "18822  spotify:track:01IQ4aQgOf0Kkq3a273hmO         0.975  0.535000   1.0   \n",
              "750    spotify:track:0wbDgMuAoy7O7pL3a69uZx         0.975  0.711000   8.0   \n",
              "16555  spotify:track:1LJYn86ysceH708AIkw0VZ         0.975  0.482000   9.0   \n",
              "11890  spotify:track:6MFQeWtk7kxWGydnJB2y36           NaN       NaN   NaN   \n",
              "13843  spotify:track:4juc1w1fGFn8CxKp8gGThc           NaN       NaN   NaN   \n",
              "\n",
              "       ...                                  Url_youtube  \\\n",
              "2871   ...  https://www.youtube.com/watch?v=VOzGHqs9bRM   \n",
              "8373   ...  https://www.youtube.com/watch?v=Ifpj8xnidVg   \n",
              "15597  ...  https://www.youtube.com/watch?v=gUkNfU0z9ts   \n",
              "15595  ...  https://www.youtube.com/watch?v=8YXAtMGgrik   \n",
              "15590  ...  https://www.youtube.com/watch?v=1hSNJvE4c70   \n",
              "...    ...                                          ...   \n",
              "18822  ...  https://www.youtube.com/watch?v=Pxns_n9q0f4   \n",
              "750    ...  https://www.youtube.com/watch?v=RgoiSJ23cSc   \n",
              "16555  ...  https://www.youtube.com/watch?v=4wKFIBmefiY   \n",
              "11890  ...  https://www.youtube.com/watch?v=e5RuGj0g1tk   \n",
              "13843  ...                                          NaN   \n",
              "\n",
              "                                                   Title  \\\n",
              "2871                                             Arrival   \n",
              "8373                                M83 - Adieux (audio)   \n",
              "15597            Air Conditioner - Loopable With No Fade   \n",
              "15595  White Noise Relaxation for Calming Down Fussy ...   \n",
              "15590                             Baby Sleep Brown Noise   \n",
              "...                                                  ...   \n",
              "18822                    Dave - Funky Friday (ft. Fredo)   \n",
              "750    Timbaland - Give It To Me (Official Music Vide...   \n",
              "16555      BIA - CAN'T TOUCH THIS (Official Music Video)   \n",
              "11890  Natasha Bedingfield - These Words (Official Vi...   \n",
              "13843                                                NaN   \n",
              "\n",
              "                     Channel        Views     Likes  Comments  \\\n",
              "2871   The Alchemist - Topic     104635.0    1905.0      21.0   \n",
              "8373                     M83      50330.0     453.0      11.0   \n",
              "15597    White Noise - Topic        407.0       1.0       0.0   \n",
              "15595    White Noise - Topic     376087.0     561.0       0.0   \n",
              "15590     littleONES - Topic     290014.0     674.0       0.0   \n",
              "...                      ...          ...       ...       ...   \n",
              "18822            Santan Dave   90501634.0  550331.0   14621.0   \n",
              "750            TimbalandVEVO  133147140.0  760396.0   17486.0   \n",
              "16555                BIAVEVO    4497077.0   97592.0    4035.0   \n",
              "11890       NBedingfieldVEVO   21655597.0  165220.0    7780.0   \n",
              "13843                    NaN          NaN       NaN       NaN   \n",
              "\n",
              "                                             Description  Licensed  \\\n",
              "2871   Provided to YouTube by Empire Distribution\\n\\n...      True   \n",
              "8373   You and The Night Full album stream playlist: ...      True   \n",
              "15597  Provided to YouTube by Symphonic Distribution\\...      True   \n",
              "15595  Provided to YouTube by CDBaby\\n\\nWhite Noise R...      True   \n",
              "15590  Provided to YouTube by TuneCore\\n\\nBaby Sleep ...      True   \n",
              "...                                                  ...       ...   \n",
              "18822  Stream & Download Psychodrama: https://SantanD...     False   \n",
              "750    Official music video for Timbaland's \"Give It ...      True   \n",
              "16555  BIA - CAN'T TOUCH THIS (Official Music Video)\\...      True   \n",
              "11890  Natasha Bedingfield - These Words (I Love You,...      True   \n",
              "13843                                                NaN       NaN   \n",
              "\n",
              "      official_video       Stream  \n",
              "2871            True    9283211.0  \n",
              "8373            True    3387203.0  \n",
              "15597           True   26677287.0  \n",
              "15595           True   15110333.0  \n",
              "15590           True  128701242.0  \n",
              "...              ...          ...  \n",
              "18822          False  172177751.0  \n",
              "750             True  165286007.0  \n",
              "16555           True   24769336.0  \n",
              "11890           True  110442210.0  \n",
              "13843            NaN  145339552.0  \n",
              "\n",
              "[20718 rows x 28 columns]"
            ]
          },
          "execution_count": 13,
          "metadata": {},
          "output_type": "execute_result"
        }
      ],
      "source": [
        "# Por defecto ordena de menor a mayor\n",
        "df.sort_values('Danceability')"
      ]
    },
    {
      "cell_type": "code",
      "execution_count": 14,
      "id": "80901eac",
      "metadata": {
        "colab": {
          "base_uri": "https://localhost:8080/",
          "height": 1000
        },
        "id": "80901eac",
        "outputId": "9c8fae43-de1e-451b-b3e8-13c40197736c"
      },
      "outputs": [
        {
          "data": {
            "text/html": [
              "\n",
              "  <div id=\"df-25a134d6-2b71-4f54-b34c-cc71cd90fc98\">\n",
              "    <div class=\"colab-df-container\">\n",
              "      <div>\n",
              "<style scoped>\n",
              "    .dataframe tbody tr th:only-of-type {\n",
              "        vertical-align: middle;\n",
              "    }\n",
              "\n",
              "    .dataframe tbody tr th {\n",
              "        vertical-align: top;\n",
              "    }\n",
              "\n",
              "    .dataframe thead th {\n",
              "        text-align: right;\n",
              "    }\n",
              "</style>\n",
              "<table border=\"1\" class=\"dataframe\">\n",
              "  <thead>\n",
              "    <tr style=\"text-align: right;\">\n",
              "      <th></th>\n",
              "      <th>Unnamed: 0</th>\n",
              "      <th>Artist</th>\n",
              "      <th>Url_spotify</th>\n",
              "      <th>Track</th>\n",
              "      <th>Album</th>\n",
              "      <th>Album_type</th>\n",
              "      <th>Uri</th>\n",
              "      <th>Danceability</th>\n",
              "      <th>Energy</th>\n",
              "      <th>Key</th>\n",
              "      <th>...</th>\n",
              "      <th>Url_youtube</th>\n",
              "      <th>Title</th>\n",
              "      <th>Channel</th>\n",
              "      <th>Views</th>\n",
              "      <th>Likes</th>\n",
              "      <th>Comments</th>\n",
              "      <th>Description</th>\n",
              "      <th>Licensed</th>\n",
              "      <th>official_video</th>\n",
              "      <th>Stream</th>\n",
              "    </tr>\n",
              "  </thead>\n",
              "  <tbody>\n",
              "    <tr>\n",
              "      <th>16555</th>\n",
              "      <td>16555</td>\n",
              "      <td>BIA</td>\n",
              "      <td>https://open.spotify.com/artist/6veh5zbFpm31Xs...</td>\n",
              "      <td>CAN'T TOUCH THIS</td>\n",
              "      <td>FOR CERTAIN (Deluxe)</td>\n",
              "      <td>album</td>\n",
              "      <td>spotify:track:1LJYn86ysceH708AIkw0VZ</td>\n",
              "      <td>0.975</td>\n",
              "      <td>0.48200</td>\n",
              "      <td>9.0</td>\n",
              "      <td>...</td>\n",
              "      <td>https://www.youtube.com/watch?v=4wKFIBmefiY</td>\n",
              "      <td>BIA - CAN'T TOUCH THIS (Official Music Video)</td>\n",
              "      <td>BIAVEVO</td>\n",
              "      <td>4497077.0</td>\n",
              "      <td>97592.0</td>\n",
              "      <td>4035.0</td>\n",
              "      <td>BIA - CAN'T TOUCH THIS (Official Music Video)\\...</td>\n",
              "      <td>True</td>\n",
              "      <td>True</td>\n",
              "      <td>24769336.0</td>\n",
              "    </tr>\n",
              "    <tr>\n",
              "      <th>750</th>\n",
              "      <td>750</td>\n",
              "      <td>Timbaland</td>\n",
              "      <td>https://open.spotify.com/artist/5Y5TRrQiqgUO4S...</td>\n",
              "      <td>Give It To Me</td>\n",
              "      <td>Shock Value</td>\n",
              "      <td>album</td>\n",
              "      <td>spotify:track:0wbDgMuAoy7O7pL3a69uZx</td>\n",
              "      <td>0.975</td>\n",
              "      <td>0.71100</td>\n",
              "      <td>8.0</td>\n",
              "      <td>...</td>\n",
              "      <td>https://www.youtube.com/watch?v=RgoiSJ23cSc</td>\n",
              "      <td>Timbaland - Give It To Me (Official Music Vide...</td>\n",
              "      <td>TimbalandVEVO</td>\n",
              "      <td>133147140.0</td>\n",
              "      <td>760396.0</td>\n",
              "      <td>17486.0</td>\n",
              "      <td>Official music video for Timbaland's \"Give It ...</td>\n",
              "      <td>True</td>\n",
              "      <td>True</td>\n",
              "      <td>165286007.0</td>\n",
              "    </tr>\n",
              "    <tr>\n",
              "      <th>18822</th>\n",
              "      <td>18822</td>\n",
              "      <td>Dave</td>\n",
              "      <td>https://open.spotify.com/artist/6Ip8FS7vWT1uKk...</td>\n",
              "      <td>Funky Friday</td>\n",
              "      <td>Funky Friday</td>\n",
              "      <td>single</td>\n",
              "      <td>spotify:track:01IQ4aQgOf0Kkq3a273hmO</td>\n",
              "      <td>0.975</td>\n",
              "      <td>0.53500</td>\n",
              "      <td>1.0</td>\n",
              "      <td>...</td>\n",
              "      <td>https://www.youtube.com/watch?v=Pxns_n9q0f4</td>\n",
              "      <td>Dave - Funky Friday (ft. Fredo)</td>\n",
              "      <td>Santan Dave</td>\n",
              "      <td>90501634.0</td>\n",
              "      <td>550331.0</td>\n",
              "      <td>14621.0</td>\n",
              "      <td>Stream &amp; Download Psychodrama: https://SantanD...</td>\n",
              "      <td>False</td>\n",
              "      <td>False</td>\n",
              "      <td>172177751.0</td>\n",
              "    </tr>\n",
              "    <tr>\n",
              "      <th>8498</th>\n",
              "      <td>8498</td>\n",
              "      <td>Xavier Wulf</td>\n",
              "      <td>https://open.spotify.com/artist/3uo0ix4Y67XHVW...</td>\n",
              "      <td>Psycho Pass</td>\n",
              "      <td>Blood Shore Season 2</td>\n",
              "      <td>album</td>\n",
              "      <td>spotify:track:3kZAm2TC74lBJFPDoV40Qc</td>\n",
              "      <td>0.973</td>\n",
              "      <td>0.44600</td>\n",
              "      <td>3.0</td>\n",
              "      <td>...</td>\n",
              "      <td>https://www.youtube.com/watch?v=cZJK2OVoCeo</td>\n",
              "      <td>Xavier Wulf  - \"Psycho Pass\" (Music Video)</td>\n",
              "      <td>XavierWulf</td>\n",
              "      <td>10256470.0</td>\n",
              "      <td>208438.0</td>\n",
              "      <td>5544.0</td>\n",
              "      <td>Hollow Squad\\n\\nProd. Prohibeo\\n\\nDirected/Edi...</td>\n",
              "      <td>False</td>\n",
              "      <td>False</td>\n",
              "      <td>109901131.0</td>\n",
              "    </tr>\n",
              "    <tr>\n",
              "      <th>1212</th>\n",
              "      <td>1212</td>\n",
              "      <td>Juicy J</td>\n",
              "      <td>https://open.spotify.com/artist/5gCRApTajqwbnH...</td>\n",
              "      <td>RIP Young (feat. Project Pat &amp; Juicy J) - Remix</td>\n",
              "      <td>The House Is Burning [homies begged]</td>\n",
              "      <td>album</td>\n",
              "      <td>spotify:track:6GUiCjtZGTvgUKKm1w9mwG</td>\n",
              "      <td>0.971</td>\n",
              "      <td>0.66200</td>\n",
              "      <td>2.0</td>\n",
              "      <td>...</td>\n",
              "      <td>https://www.youtube.com/watch?v=_iDw1c_tUU8</td>\n",
              "      <td>Isaiah Rashad - RIP Young Remix (feat. Project...</td>\n",
              "      <td>Top Dawg Entertainment</td>\n",
              "      <td>3398625.0</td>\n",
              "      <td>69423.0</td>\n",
              "      <td>1913.0</td>\n",
              "      <td>Isaiah Rashad feat. Project Pat &amp; Juicy J\\n\"RI...</td>\n",
              "      <td>False</td>\n",
              "      <td>False</td>\n",
              "      <td>7701677.0</td>\n",
              "    </tr>\n",
              "    <tr>\n",
              "      <th>...</th>\n",
              "      <td>...</td>\n",
              "      <td>...</td>\n",
              "      <td>...</td>\n",
              "      <td>...</td>\n",
              "      <td>...</td>\n",
              "      <td>...</td>\n",
              "      <td>...</td>\n",
              "      <td>...</td>\n",
              "      <td>...</td>\n",
              "      <td>...</td>\n",
              "      <td>...</td>\n",
              "      <td>...</td>\n",
              "      <td>...</td>\n",
              "      <td>...</td>\n",
              "      <td>...</td>\n",
              "      <td>...</td>\n",
              "      <td>...</td>\n",
              "      <td>...</td>\n",
              "      <td>...</td>\n",
              "      <td>...</td>\n",
              "      <td>...</td>\n",
              "    </tr>\n",
              "    <tr>\n",
              "      <th>8373</th>\n",
              "      <td>8373</td>\n",
              "      <td>M83</td>\n",
              "      <td>https://open.spotify.com/artist/63MQldklfxkjYD...</td>\n",
              "      <td>Adieux</td>\n",
              "      <td>You And The Night</td>\n",
              "      <td>album</td>\n",
              "      <td>spotify:track:0aGA1zFV0ER1xLiJmHxb2s</td>\n",
              "      <td>0.000</td>\n",
              "      <td>0.10500</td>\n",
              "      <td>7.0</td>\n",
              "      <td>...</td>\n",
              "      <td>https://www.youtube.com/watch?v=Ifpj8xnidVg</td>\n",
              "      <td>M83 - Adieux (audio)</td>\n",
              "      <td>M83</td>\n",
              "      <td>50330.0</td>\n",
              "      <td>453.0</td>\n",
              "      <td>11.0</td>\n",
              "      <td>You and The Night Full album stream playlist: ...</td>\n",
              "      <td>True</td>\n",
              "      <td>True</td>\n",
              "      <td>3387203.0</td>\n",
              "    </tr>\n",
              "    <tr>\n",
              "      <th>9266</th>\n",
              "      <td>9266</td>\n",
              "      <td>Lang Lang</td>\n",
              "      <td>https://open.spotify.com/artist/1YZhNFBxkEB5UK...</td>\n",
              "      <td>The Departure</td>\n",
              "      <td>Voyager - Essential Max Richter</td>\n",
              "      <td>album</td>\n",
              "      <td>spotify:track:59gg6zQhSKGVnkT3hWAY3l</td>\n",
              "      <td>0.000</td>\n",
              "      <td>0.03620</td>\n",
              "      <td>0.0</td>\n",
              "      <td>...</td>\n",
              "      <td>https://www.youtube.com/watch?v=2Yq46W11Rng</td>\n",
              "      <td>Richter: The Departure</td>\n",
              "      <td>Lang Lang - Topic</td>\n",
              "      <td>185634.0</td>\n",
              "      <td>1796.0</td>\n",
              "      <td>20.0</td>\n",
              "      <td>Provided to YouTube by Universal Music Group\\n...</td>\n",
              "      <td>True</td>\n",
              "      <td>True</td>\n",
              "      <td>11902123.0</td>\n",
              "    </tr>\n",
              "    <tr>\n",
              "      <th>13848</th>\n",
              "      <td>13848</td>\n",
              "      <td>White Noise for Babies</td>\n",
              "      <td>https://open.spotify.com/artist/4ZfEELHfyKd4od...</td>\n",
              "      <td>Clean White Noise - Loopable, No Fade</td>\n",
              "      <td>Relaxing Loopable White Noise</td>\n",
              "      <td>single</td>\n",
              "      <td>spotify:track:17EEd5lZaDlR3129R5WIF1</td>\n",
              "      <td>0.000</td>\n",
              "      <td>0.00342</td>\n",
              "      <td>8.0</td>\n",
              "      <td>...</td>\n",
              "      <td>https://www.youtube.com/watch?v=8h8p7TOykK8</td>\n",
              "      <td>Clean White Noise - Loopable With No Fade</td>\n",
              "      <td>White Noise - Topic</td>\n",
              "      <td>1492.0</td>\n",
              "      <td>18.0</td>\n",
              "      <td>0.0</td>\n",
              "      <td>Provided to YouTube by Symphonic Distribution\\...</td>\n",
              "      <td>True</td>\n",
              "      <td>True</td>\n",
              "      <td>26018007.0</td>\n",
              "    </tr>\n",
              "    <tr>\n",
              "      <th>11890</th>\n",
              "      <td>11890</td>\n",
              "      <td>Natasha Bedingfield</td>\n",
              "      <td>https://open.spotify.com/artist/7o95ZoZt5ZYn31...</td>\n",
              "      <td>These Words</td>\n",
              "      <td>Unwritten</td>\n",
              "      <td>album</td>\n",
              "      <td>spotify:track:6MFQeWtk7kxWGydnJB2y36</td>\n",
              "      <td>NaN</td>\n",
              "      <td>NaN</td>\n",
              "      <td>NaN</td>\n",
              "      <td>...</td>\n",
              "      <td>https://www.youtube.com/watch?v=e5RuGj0g1tk</td>\n",
              "      <td>Natasha Bedingfield - These Words (Official Vi...</td>\n",
              "      <td>NBedingfieldVEVO</td>\n",
              "      <td>21655597.0</td>\n",
              "      <td>165220.0</td>\n",
              "      <td>7780.0</td>\n",
              "      <td>Natasha Bedingfield - These Words (I Love You,...</td>\n",
              "      <td>True</td>\n",
              "      <td>True</td>\n",
              "      <td>110442210.0</td>\n",
              "    </tr>\n",
              "    <tr>\n",
              "      <th>13843</th>\n",
              "      <td>13843</td>\n",
              "      <td>White Noise for Babies</td>\n",
              "      <td>https://open.spotify.com/artist/4ZfEELHfyKd4od...</td>\n",
              "      <td>Rain in the Early Morning</td>\n",
              "      <td>Soothing Rain for Background Sounds and Natura...</td>\n",
              "      <td>album</td>\n",
              "      <td>spotify:track:4juc1w1fGFn8CxKp8gGThc</td>\n",
              "      <td>NaN</td>\n",
              "      <td>NaN</td>\n",
              "      <td>NaN</td>\n",
              "      <td>...</td>\n",
              "      <td>NaN</td>\n",
              "      <td>NaN</td>\n",
              "      <td>NaN</td>\n",
              "      <td>NaN</td>\n",
              "      <td>NaN</td>\n",
              "      <td>NaN</td>\n",
              "      <td>NaN</td>\n",
              "      <td>NaN</td>\n",
              "      <td>NaN</td>\n",
              "      <td>145339552.0</td>\n",
              "    </tr>\n",
              "  </tbody>\n",
              "</table>\n",
              "<p>20718 rows × 28 columns</p>\n",
              "</div>\n",
              "      <button class=\"colab-df-convert\" onclick=\"convertToInteractive('df-25a134d6-2b71-4f54-b34c-cc71cd90fc98')\"\n",
              "              title=\"Convert this dataframe to an interactive table.\"\n",
              "              style=\"display:none;\">\n",
              "        \n",
              "  <svg xmlns=\"http://www.w3.org/2000/svg\" height=\"24px\"viewBox=\"0 0 24 24\"\n",
              "       width=\"24px\">\n",
              "    <path d=\"M0 0h24v24H0V0z\" fill=\"none\"/>\n",
              "    <path d=\"M18.56 5.44l.94 2.06.94-2.06 2.06-.94-2.06-.94-.94-2.06-.94 2.06-2.06.94zm-11 1L8.5 8.5l.94-2.06 2.06-.94-2.06-.94L8.5 2.5l-.94 2.06-2.06.94zm10 10l.94 2.06.94-2.06 2.06-.94-2.06-.94-.94-2.06-.94 2.06-2.06.94z\"/><path d=\"M17.41 7.96l-1.37-1.37c-.4-.4-.92-.59-1.43-.59-.52 0-1.04.2-1.43.59L10.3 9.45l-7.72 7.72c-.78.78-.78 2.05 0 2.83L4 21.41c.39.39.9.59 1.41.59.51 0 1.02-.2 1.41-.59l7.78-7.78 2.81-2.81c.8-.78.8-2.07 0-2.86zM5.41 20L4 18.59l7.72-7.72 1.47 1.35L5.41 20z\"/>\n",
              "  </svg>\n",
              "      </button>\n",
              "      \n",
              "  <style>\n",
              "    .colab-df-container {\n",
              "      display:flex;\n",
              "      flex-wrap:wrap;\n",
              "      gap: 12px;\n",
              "    }\n",
              "\n",
              "    .colab-df-convert {\n",
              "      background-color: #E8F0FE;\n",
              "      border: none;\n",
              "      border-radius: 50%;\n",
              "      cursor: pointer;\n",
              "      display: none;\n",
              "      fill: #1967D2;\n",
              "      height: 32px;\n",
              "      padding: 0 0 0 0;\n",
              "      width: 32px;\n",
              "    }\n",
              "\n",
              "    .colab-df-convert:hover {\n",
              "      background-color: #E2EBFA;\n",
              "      box-shadow: 0px 1px 2px rgba(60, 64, 67, 0.3), 0px 1px 3px 1px rgba(60, 64, 67, 0.15);\n",
              "      fill: #174EA6;\n",
              "    }\n",
              "\n",
              "    [theme=dark] .colab-df-convert {\n",
              "      background-color: #3B4455;\n",
              "      fill: #D2E3FC;\n",
              "    }\n",
              "\n",
              "    [theme=dark] .colab-df-convert:hover {\n",
              "      background-color: #434B5C;\n",
              "      box-shadow: 0px 1px 3px 1px rgba(0, 0, 0, 0.15);\n",
              "      filter: drop-shadow(0px 1px 2px rgba(0, 0, 0, 0.3));\n",
              "      fill: #FFFFFF;\n",
              "    }\n",
              "  </style>\n",
              "\n",
              "      <script>\n",
              "        const buttonEl =\n",
              "          document.querySelector('#df-25a134d6-2b71-4f54-b34c-cc71cd90fc98 button.colab-df-convert');\n",
              "        buttonEl.style.display =\n",
              "          google.colab.kernel.accessAllowed ? 'block' : 'none';\n",
              "\n",
              "        async function convertToInteractive(key) {\n",
              "          const element = document.querySelector('#df-25a134d6-2b71-4f54-b34c-cc71cd90fc98');\n",
              "          const dataTable =\n",
              "            await google.colab.kernel.invokeFunction('convertToInteractive',\n",
              "                                                     [key], {});\n",
              "          if (!dataTable) return;\n",
              "\n",
              "          const docLinkHtml = 'Like what you see? Visit the ' +\n",
              "            '<a target=\"_blank\" href=https://colab.research.google.com/notebooks/data_table.ipynb>data table notebook</a>'\n",
              "            + ' to learn more about interactive tables.';\n",
              "          element.innerHTML = '';\n",
              "          dataTable['output_type'] = 'display_data';\n",
              "          await google.colab.output.renderOutput(dataTable, element);\n",
              "          const docLink = document.createElement('div');\n",
              "          docLink.innerHTML = docLinkHtml;\n",
              "          element.appendChild(docLink);\n",
              "        }\n",
              "      </script>\n",
              "    </div>\n",
              "  </div>\n",
              "  "
            ],
            "text/plain": [
              "       Unnamed: 0                  Artist  \\\n",
              "16555       16555                     BIA   \n",
              "750           750               Timbaland   \n",
              "18822       18822                    Dave   \n",
              "8498         8498             Xavier Wulf   \n",
              "1212         1212                 Juicy J   \n",
              "...           ...                     ...   \n",
              "8373         8373                     M83   \n",
              "9266         9266               Lang Lang   \n",
              "13848       13848  White Noise for Babies   \n",
              "11890       11890     Natasha Bedingfield   \n",
              "13843       13843  White Noise for Babies   \n",
              "\n",
              "                                             Url_spotify  \\\n",
              "16555  https://open.spotify.com/artist/6veh5zbFpm31Xs...   \n",
              "750    https://open.spotify.com/artist/5Y5TRrQiqgUO4S...   \n",
              "18822  https://open.spotify.com/artist/6Ip8FS7vWT1uKk...   \n",
              "8498   https://open.spotify.com/artist/3uo0ix4Y67XHVW...   \n",
              "1212   https://open.spotify.com/artist/5gCRApTajqwbnH...   \n",
              "...                                                  ...   \n",
              "8373   https://open.spotify.com/artist/63MQldklfxkjYD...   \n",
              "9266   https://open.spotify.com/artist/1YZhNFBxkEB5UK...   \n",
              "13848  https://open.spotify.com/artist/4ZfEELHfyKd4od...   \n",
              "11890  https://open.spotify.com/artist/7o95ZoZt5ZYn31...   \n",
              "13843  https://open.spotify.com/artist/4ZfEELHfyKd4od...   \n",
              "\n",
              "                                                 Track  \\\n",
              "16555                                 CAN'T TOUCH THIS   \n",
              "750                                      Give It To Me   \n",
              "18822                                     Funky Friday   \n",
              "8498                                       Psycho Pass   \n",
              "1212   RIP Young (feat. Project Pat & Juicy J) - Remix   \n",
              "...                                                ...   \n",
              "8373                                            Adieux   \n",
              "9266                                     The Departure   \n",
              "13848            Clean White Noise - Loopable, No Fade   \n",
              "11890                                      These Words   \n",
              "13843                        Rain in the Early Morning   \n",
              "\n",
              "                                                   Album Album_type  \\\n",
              "16555                               FOR CERTAIN (Deluxe)      album   \n",
              "750                                          Shock Value      album   \n",
              "18822                                       Funky Friday     single   \n",
              "8498                                Blood Shore Season 2      album   \n",
              "1212                The House Is Burning [homies begged]      album   \n",
              "...                                                  ...        ...   \n",
              "8373                                   You And The Night      album   \n",
              "9266                     Voyager - Essential Max Richter      album   \n",
              "13848                      Relaxing Loopable White Noise     single   \n",
              "11890                                          Unwritten      album   \n",
              "13843  Soothing Rain for Background Sounds and Natura...      album   \n",
              "\n",
              "                                        Uri  Danceability   Energy  Key  ...  \\\n",
              "16555  spotify:track:1LJYn86ysceH708AIkw0VZ         0.975  0.48200  9.0  ...   \n",
              "750    spotify:track:0wbDgMuAoy7O7pL3a69uZx         0.975  0.71100  8.0  ...   \n",
              "18822  spotify:track:01IQ4aQgOf0Kkq3a273hmO         0.975  0.53500  1.0  ...   \n",
              "8498   spotify:track:3kZAm2TC74lBJFPDoV40Qc         0.973  0.44600  3.0  ...   \n",
              "1212   spotify:track:6GUiCjtZGTvgUKKm1w9mwG         0.971  0.66200  2.0  ...   \n",
              "...                                     ...           ...      ...  ...  ...   \n",
              "8373   spotify:track:0aGA1zFV0ER1xLiJmHxb2s         0.000  0.10500  7.0  ...   \n",
              "9266   spotify:track:59gg6zQhSKGVnkT3hWAY3l         0.000  0.03620  0.0  ...   \n",
              "13848  spotify:track:17EEd5lZaDlR3129R5WIF1         0.000  0.00342  8.0  ...   \n",
              "11890  spotify:track:6MFQeWtk7kxWGydnJB2y36           NaN      NaN  NaN  ...   \n",
              "13843  spotify:track:4juc1w1fGFn8CxKp8gGThc           NaN      NaN  NaN  ...   \n",
              "\n",
              "                                       Url_youtube  \\\n",
              "16555  https://www.youtube.com/watch?v=4wKFIBmefiY   \n",
              "750    https://www.youtube.com/watch?v=RgoiSJ23cSc   \n",
              "18822  https://www.youtube.com/watch?v=Pxns_n9q0f4   \n",
              "8498   https://www.youtube.com/watch?v=cZJK2OVoCeo   \n",
              "1212   https://www.youtube.com/watch?v=_iDw1c_tUU8   \n",
              "...                                            ...   \n",
              "8373   https://www.youtube.com/watch?v=Ifpj8xnidVg   \n",
              "9266   https://www.youtube.com/watch?v=2Yq46W11Rng   \n",
              "13848  https://www.youtube.com/watch?v=8h8p7TOykK8   \n",
              "11890  https://www.youtube.com/watch?v=e5RuGj0g1tk   \n",
              "13843                                          NaN   \n",
              "\n",
              "                                                   Title  \\\n",
              "16555      BIA - CAN'T TOUCH THIS (Official Music Video)   \n",
              "750    Timbaland - Give It To Me (Official Music Vide...   \n",
              "18822                    Dave - Funky Friday (ft. Fredo)   \n",
              "8498          Xavier Wulf  - \"Psycho Pass\" (Music Video)   \n",
              "1212   Isaiah Rashad - RIP Young Remix (feat. Project...   \n",
              "...                                                  ...   \n",
              "8373                                M83 - Adieux (audio)   \n",
              "9266                              Richter: The Departure   \n",
              "13848          Clean White Noise - Loopable With No Fade   \n",
              "11890  Natasha Bedingfield - These Words (Official Vi...   \n",
              "13843                                                NaN   \n",
              "\n",
              "                      Channel        Views     Likes  Comments  \\\n",
              "16555                 BIAVEVO    4497077.0   97592.0    4035.0   \n",
              "750             TimbalandVEVO  133147140.0  760396.0   17486.0   \n",
              "18822             Santan Dave   90501634.0  550331.0   14621.0   \n",
              "8498               XavierWulf   10256470.0  208438.0    5544.0   \n",
              "1212   Top Dawg Entertainment    3398625.0   69423.0    1913.0   \n",
              "...                       ...          ...       ...       ...   \n",
              "8373                      M83      50330.0     453.0      11.0   \n",
              "9266        Lang Lang - Topic     185634.0    1796.0      20.0   \n",
              "13848     White Noise - Topic       1492.0      18.0       0.0   \n",
              "11890        NBedingfieldVEVO   21655597.0  165220.0    7780.0   \n",
              "13843                     NaN          NaN       NaN       NaN   \n",
              "\n",
              "                                             Description  Licensed  \\\n",
              "16555  BIA - CAN'T TOUCH THIS (Official Music Video)\\...      True   \n",
              "750    Official music video for Timbaland's \"Give It ...      True   \n",
              "18822  Stream & Download Psychodrama: https://SantanD...     False   \n",
              "8498   Hollow Squad\\n\\nProd. Prohibeo\\n\\nDirected/Edi...     False   \n",
              "1212   Isaiah Rashad feat. Project Pat & Juicy J\\n\"RI...     False   \n",
              "...                                                  ...       ...   \n",
              "8373   You and The Night Full album stream playlist: ...      True   \n",
              "9266   Provided to YouTube by Universal Music Group\\n...      True   \n",
              "13848  Provided to YouTube by Symphonic Distribution\\...      True   \n",
              "11890  Natasha Bedingfield - These Words (I Love You,...      True   \n",
              "13843                                                NaN       NaN   \n",
              "\n",
              "      official_video       Stream  \n",
              "16555           True   24769336.0  \n",
              "750             True  165286007.0  \n",
              "18822          False  172177751.0  \n",
              "8498           False  109901131.0  \n",
              "1212           False    7701677.0  \n",
              "...              ...          ...  \n",
              "8373            True    3387203.0  \n",
              "9266            True   11902123.0  \n",
              "13848           True   26018007.0  \n",
              "11890           True  110442210.0  \n",
              "13843            NaN  145339552.0  \n",
              "\n",
              "[20718 rows x 28 columns]"
            ]
          },
          "execution_count": 14,
          "metadata": {},
          "output_type": "execute_result"
        }
      ],
      "source": [
        "# Ordenamos de mayor a menor\n",
        "df.sort_values('Danceability', ascending=False)"
      ]
    },
    {
      "cell_type": "markdown",
      "id": "554d0de2",
      "metadata": {
        "id": "554d0de2"
      },
      "source": [
        "# Obtener valores unicos de una columna"
      ]
    },
    {
      "cell_type": "code",
      "execution_count": 18,
      "id": "a9474401",
      "metadata": {
        "colab": {
          "base_uri": "https://localhost:8080/"
        },
        "id": "a9474401",
        "outputId": "e2a68d6b-5998-42b7-d4d1-6f23cc8f5a9f"
      },
      "outputs": [
        {
          "name": "stdout",
          "output_type": "stream",
          "text": [
            "El numero de filas es :  20718\n",
            "El numero de columnas es :  28\n"
          ]
        }
      ],
      "source": [
        "# Número de filas del dataset\n",
        "print(\"El numero de filas es : \",df.shape[0])\n",
        "# Número de columnas del dataset\n",
        "print(\"El numero de columnas es : \",df.shape[1])"
      ]
    },
    {
      "cell_type": "code",
      "execution_count": 19,
      "id": "277eddcb",
      "metadata": {
        "colab": {
          "base_uri": "https://localhost:8080/"
        },
        "id": "277eddcb",
        "outputId": "b3e8930b-095b-474d-b45f-ea4bc91b389f"
      },
      "outputs": [
        {
          "data": {
            "text/plain": [
              "2079"
            ]
          },
          "execution_count": 19,
          "metadata": {},
          "output_type": "execute_result"
        }
      ],
      "source": [
        "# Obtener los datos unicos de una columna y convertirlos a una lista de python\n",
        "artistas_unicos = df['Artist'].unique().tolist()\n",
        "len(artistas_unicos)"
      ]
    },
    {
      "cell_type": "markdown",
      "id": "58057c6f",
      "metadata": {
        "id": "58057c6f"
      },
      "source": [
        "# Filtrado en pandas"
      ]
    },
    {
      "cell_type": "code",
      "execution_count": 21,
      "id": "69b994bd",
      "metadata": {
        "id": "69b994bd"
      },
      "outputs": [],
      "source": [
        "# Obtenemos todos los datos del artista '2Pac'\n",
        "pac2=df[df['Artist'] == '2Pac']"
      ]
    },
    {
      "cell_type": "code",
      "execution_count": null,
      "id": "7ed5026f",
      "metadata": {
        "id": "7ed5026f"
      },
      "outputs": [],
      "source": [
        "# Lista con las canciones de 2pac\n",
        "# Obtenemos todos los datos del artista '2Pac'\n",
        "df[df['Artist'] == '2Pac']['Track'].tolist()"
      ]
    },
    {
      "cell_type": "code",
      "execution_count": null,
      "id": "ea7d0a7c",
      "metadata": {
        "id": "ea7d0a7c"
      },
      "outputs": [],
      "source": [
        "# Lista con las canciones de 2pac con una danceabilidad mayor a 0.8\n",
        "# Obtenemos todos los datos del artista '2Pac'\n",
        "df[(df['Artist'] == '2Pac') & (df['Danceability'] > 0.8)]['Track'].tolist()"
      ]
    },
    {
      "cell_type": "code",
      "execution_count": null,
      "id": "7cd50ecb",
      "metadata": {
        "id": "7cd50ecb"
      },
      "outputs": [],
      "source": [
        "# Con el método \"iloc\" obtenemos una fila según su indice\n",
        "df[df['Artist'] == '2Pac'].iloc[0]"
      ]
    },
    {
      "cell_type": "markdown",
      "id": "5d328104",
      "metadata": {
        "id": "5d328104"
      },
      "source": [
        "# Agrupar en base a una columna"
      ]
    },
    {
      "cell_type": "code",
      "execution_count": null,
      "id": "84190eca",
      "metadata": {
        "id": "84190eca"
      },
      "outputs": [],
      "source": [
        "# Agrupamos por la columna 'Album_type' y luego mostramos las repeticiones de esta\n",
        "# Se hace uso de la columna Artist para poder mostrar los valores\n",
        "df.groupby('Album_type')['Artist'].count()"
      ]
    },
    {
      "cell_type": "code",
      "execution_count": null,
      "id": "375a355f",
      "metadata": {
        "id": "375a355f"
      },
      "outputs": [],
      "source": [
        "# Duración promedio de cada tipo de álbum\n",
        "df.groupby('Album_type')['Duration_ms'].mean()"
      ]
    },
    {
      "cell_type": "code",
      "execution_count": null,
      "id": "f6e08580",
      "metadata": {
        "id": "f6e08580"
      },
      "outputs": [],
      "source": [
        "# Suma de la duración de cada tipo de álbum\n",
        "df.groupby('Album_type')['Duration_ms'].sum()"
      ]
    },
    {
      "cell_type": "code",
      "execution_count": null,
      "id": "aa1c6c10",
      "metadata": {
        "id": "aa1c6c10"
      },
      "outputs": [],
      "source": [
        "# Duración mínima de cada tipo de álbum\n",
        "df.groupby('Album_type')['Duration_ms'].min()"
      ]
    },
    {
      "cell_type": "code",
      "execution_count": null,
      "id": "c808038b",
      "metadata": {
        "id": "c808038b"
      },
      "outputs": [],
      "source": [
        "# Duración máxima de cada tipo de álbum\n",
        "df.groupby('Album_type')['Duration_ms'].max()"
      ]
    },
    {
      "cell_type": "code",
      "execution_count": null,
      "id": "ffbbee6c",
      "metadata": {
        "id": "ffbbee6c"
      },
      "outputs": [],
      "source": [
        "# Desviación estandar de la duración de cada tipo de álbum\n",
        "df.groupby('Album_type')['Duration_ms'].std()"
      ]
    },
    {
      "cell_type": "code",
      "execution_count": null,
      "id": "e05385b1",
      "metadata": {
        "id": "e05385b1"
      },
      "outputs": [],
      "source": [
        "df.iloc[0]"
      ]
    },
    {
      "cell_type": "markdown",
      "id": "b9dd878d",
      "metadata": {
        "id": "b9dd878d"
      },
      "source": [
        "# Graficar desde pandas"
      ]
    },
    {
      "cell_type": "code",
      "execution_count": null,
      "id": "17e205dd",
      "metadata": {
        "id": "17e205dd",
        "scrolled": true
      },
      "outputs": [],
      "source": [
        "# Creamos el \"lienzo\" con el gráfico\n",
        "ax = df.groupby('Album_type')['Duration_ms'].mean().plot(kind='bar')\n",
        "# Cambiamos la etiqueta del eje x\n",
        "ax.set_xlabel('Tipo de álbum')\n",
        "# Cambiamos la etiqueta del eje y\n",
        "ax.set_ylabel('Duración')\n",
        "# Cambiamos el título del gráfico\n",
        "ax.set_title('Duración promedio de cada tipo de álbum')\n",
        "plt.show()"
      ]
    },
    {
      "cell_type": "markdown",
      "id": "ca633cd0",
      "metadata": {
        "id": "ca633cd0"
      },
      "source": [
        "# Ejemplo con matplotlib"
      ]
    },
    {
      "cell_type": "code",
      "execution_count": null,
      "id": "e253346c",
      "metadata": {
        "id": "e253346c"
      },
      "outputs": [],
      "source": [
        "# Creamos los valores de los gráficos\n",
        "eje_x = df['Album_type'].unique().tolist()\n",
        "eje_y = df['Album_type'].value_counts().tolist()"
      ]
    },
    {
      "cell_type": "code",
      "execution_count": null,
      "id": "0bda137c",
      "metadata": {
        "id": "0bda137c"
      },
      "outputs": [],
      "source": [
        "# Creamos una figura para poder crear un gráfico\n",
        "plt.figure()\n",
        "# Gráfico de barras\n",
        "plt.bar(eje_x, eje_y)\n",
        "# Título del gráfico\n",
        "plt.title('Duración promedio de cada tipo de álbum')\n",
        "# Creamos un eje o lienzo para un gráfico\n",
        "ax = plt.subplot()\n",
        "# Cambiamos la etiqueta del eje x\n",
        "ax.set_xlabel('Tipo de álbum')\n",
        "# Cambiamos la etiqueta del eje y\n",
        "ax.set_ylabel('Duración')\n",
        "plt.show()"
      ]
    },
    {
      "cell_type": "markdown",
      "id": "YEjjqqTKLcjc",
      "metadata": {
        "id": "YEjjqqTKLcjc"
      },
      "source": [
        "#Ejercicios generados por open AI"
      ]
    },
    {
      "cell_type": "markdown",
      "id": "kOShra4THByL",
      "metadata": {
        "id": "kOShra4THByL"
      },
      "source": [
        "¿Cuál es la cantidad total de registros en el archivo Spotify_Youtube.csv?\n"
      ]
    },
    {
      "cell_type": "code",
      "execution_count": 5,
      "id": "c550d00f",
      "metadata": {
        "id": "c550d00f"
      },
      "outputs": [
        {
          "data": {
            "text/plain": [
              "20718"
            ]
          },
          "execution_count": 5,
          "metadata": {},
          "output_type": "execute_result"
        }
      ],
      "source": [
        "#count all regist in csv\n",
        "df.Artist.count()"
      ]
    },
    {
      "cell_type": "markdown",
      "id": "koA2Vd82HIPh",
      "metadata": {
        "id": "koA2Vd82HIPh"
      },
      "source": [
        "¿Cuántas columnas diferentes hay en el archivo Spotify_Youtube.csv y "
      ]
    },
    {
      "cell_type": "code",
      "execution_count": 9,
      "id": "7543862a",
      "metadata": {
        "id": "7543862a"
      },
      "outputs": [
        {
          "data": {
            "text/plain": [
              "28"
            ]
          },
          "execution_count": 9,
          "metadata": {},
          "output_type": "execute_result"
        }
      ],
      "source": [
        "#count al columns in dataframe\n",
        "df.columns.array.__len__()"
      ]
    },
    {
      "cell_type": "markdown",
      "id": "jSoY-NdGHMTX",
      "metadata": {
        "id": "jSoY-NdGHMTX"
      },
      "source": [
        "cuáles son sus nombres?\n"
      ]
    },
    {
      "cell_type": "code",
      "execution_count": 10,
      "id": "f166c34c",
      "metadata": {
        "id": "f166c34c"
      },
      "outputs": [
        {
          "data": {
            "text/plain": [
              "<PandasArray>\n",
              "[      'Unnamed: 0',           'Artist',      'Url_spotify',\n",
              "            'Track',            'Album',       'Album_type',\n",
              "              'Uri',     'Danceability',           'Energy',\n",
              "              'Key',         'Loudness',      'Speechiness',\n",
              "     'Acousticness', 'Instrumentalness',         'Liveness',\n",
              "          'Valence',            'Tempo',      'Duration_ms',\n",
              "      'Url_youtube',            'Title',          'Channel',\n",
              "            'Views',            'Likes',         'Comments',\n",
              "      'Description',         'Licensed',   'official_video',\n",
              "           'Stream']\n",
              "Length: 28, dtype: object"
            ]
          },
          "execution_count": 10,
          "metadata": {},
          "output_type": "execute_result"
        }
      ],
      "source": [
        "df.columns.array"
      ]
    },
    {
      "cell_type": "markdown",
      "id": "G8o3bs9uHPny",
      "metadata": {
        "id": "G8o3bs9uHPny"
      },
      "source": [
        "¿Cuál es el promedio de duración de las canciones en el archivo Spotify_Youtube.csv en minutos?\n"
      ]
    },
    {
      "cell_type": "code",
      "execution_count": 12,
      "id": "5fbc58e5",
      "metadata": {
        "id": "5fbc58e5"
      },
      "outputs": [
        {
          "data": {
            "text/plain": [
              "224718"
            ]
          },
          "execution_count": 12,
          "metadata": {},
          "output_type": "execute_result"
        }
      ],
      "source": [
        "df.Duration_ms.mean().__round__()"
      ]
    },
    {
      "cell_type": "markdown",
      "id": "XWIDekJ3HQMz",
      "metadata": {
        "id": "XWIDekJ3HQMz"
      },
      "source": [
        "¿Cuál es el género musical más frecuente en el archivo Spotify_Youtube.csv?\n"
      ]
    },
    {
      "cell_type": "code",
      "execution_count": 40,
      "id": "211d1310",
      "metadata": {
        "id": "211d1310"
      },
      "outputs": [
        {
          "name": "stdout",
          "output_type": "stream",
          "text": [
            "album\n"
          ]
        }
      ],
      "source": [
        "#genero musical mas frecuente\n",
        "df.Album_type\n",
        "print(df.groupby('Album_type')['Album_type'].count().idxmax())"
      ]
    },
    {
      "cell_type": "markdown",
      "id": "VGPnryl0HQpi",
      "metadata": {
        "id": "VGPnryl0HQpi"
      },
      "source": [
        "¿Cuál es la canción más popular en términos de \"me gusta\" en YouTube según el archivo Spotify_Youtube.csv?\n"
      ]
    },
    {
      "cell_type": "code",
      "execution_count": 33,
      "id": "HYDHb5qsHRIQ",
      "metadata": {
        "id": "HYDHb5qsHRIQ"
      },
      "outputs": [
        {
          "name": "stdout",
          "output_type": "stream",
          "text": [
            "Despacito\n"
          ]
        }
      ],
      "source": [
        "# obtener cancion con mas me gusta en youtube\n",
        "print(df.groupby('Track')['Likes'].max().idxmax())"
      ]
    },
    {
      "cell_type": "markdown",
      "id": "DygozXYCHR-0",
      "metadata": {
        "id": "DygozXYCHR-0"
      },
      "source": [
        "¿Cuál es la canción más larga en términos de duración en el archivo Spotify_Youtube.csv?\n"
      ]
    },
    {
      "cell_type": "code",
      "execution_count": 44,
      "id": "HyMPxRAyHSJV",
      "metadata": {
        "id": "HyMPxRAyHSJV"
      },
      "outputs": [
        {
          "name": "stdout",
          "output_type": "stream",
          "text": [
            "4676058.0\n",
            "High Rated Gabru 52 Non Stop Hits(Remix By Mandy Birgi,Birgi Veerz)\n"
          ]
        }
      ],
      "source": [
        "print(df.Duration_ms.max())\n",
        "print(df.groupby('Track')['Duration_ms'].max().idxmax())"
      ]
    },
    {
      "cell_type": "markdown",
      "id": "CoCw0_bsHSSN",
      "metadata": {
        "id": "CoCw0_bsHSSN"
      },
      "source": [
        "¿Cuál es el porcentaje de canciones que tienen un valor de energía (energy) mayor a 0.8 en el archivo Spotify_Youtube.csv?\n"
      ]
    },
    {
      "cell_type": "code",
      "execution_count": 55,
      "id": "L-cz-NefHSak",
      "metadata": {
        "id": "L-cz-NefHSak"
      },
      "outputs": [
        {
          "name": "stdout",
          "output_type": "stream",
          "text": [
            "25 %\n"
          ]
        }
      ],
      "source": [
        "#porcentaje de canciones con energia mayor a 0.8\n",
        "print((df[df['Energy'] > 0.8]['Track'].count()/df['Track'].count() * 100).__round__(),'%')"
      ]
    },
    {
      "cell_type": "markdown",
      "id": "kofe0TC6HSjy",
      "metadata": {
        "id": "kofe0TC6HSjy"
      },
      "source": [
        "¿Cuál es la correlación entre el tempo y la energía de las canciones en el archivo Spotify_Youtube.csv?\n"
      ]
    },
    {
      "cell_type": "code",
      "execution_count": 56,
      "id": "F-eXTAXGHSuR",
      "metadata": {
        "id": "F-eXTAXGHSuR"
      },
      "outputs": [
        {
          "data": {
            "text/html": [
              "<div>\n",
              "<style scoped>\n",
              "    .dataframe tbody tr th:only-of-type {\n",
              "        vertical-align: middle;\n",
              "    }\n",
              "\n",
              "    .dataframe tbody tr th {\n",
              "        vertical-align: top;\n",
              "    }\n",
              "\n",
              "    .dataframe thead th {\n",
              "        text-align: right;\n",
              "    }\n",
              "</style>\n",
              "<table border=\"1\" class=\"dataframe\">\n",
              "  <thead>\n",
              "    <tr style=\"text-align: right;\">\n",
              "      <th></th>\n",
              "      <th>Duration_ms</th>\n",
              "      <th>Energy</th>\n",
              "    </tr>\n",
              "  </thead>\n",
              "  <tbody>\n",
              "    <tr>\n",
              "      <th>Duration_ms</th>\n",
              "      <td>1.00000</td>\n",
              "      <td>0.02266</td>\n",
              "    </tr>\n",
              "    <tr>\n",
              "      <th>Energy</th>\n",
              "      <td>0.02266</td>\n",
              "      <td>1.00000</td>\n",
              "    </tr>\n",
              "  </tbody>\n",
              "</table>\n",
              "</div>"
            ],
            "text/plain": [
              "             Duration_ms   Energy\n",
              "Duration_ms      1.00000  0.02266\n",
              "Energy           0.02266  1.00000"
            ]
          },
          "execution_count": 56,
          "metadata": {},
          "output_type": "execute_result"
        }
      ],
      "source": [
        "#Correlacion entre tiempo y energia\n",
        "df[['Duration_ms','Energy']].corr()"
      ]
    },
    {
      "cell_type": "markdown",
      "id": "u7R4Xhn6HS3K",
      "metadata": {
        "id": "u7R4Xhn6HS3K"
      },
      "source": [
        "¿Cuál es la cantidad de canciones de cada género musical presentes en el archivo Spotify_Youtube.csv en forma de un gráfico de barras?\n"
      ]
    },
    {
      "cell_type": "code",
      "execution_count": null,
      "id": "ABnYJNAzHS-_",
      "metadata": {
        "id": "ABnYJNAzHS-_"
      },
      "outputs": [],
      "source": []
    },
    {
      "cell_type": "markdown",
      "id": "GT3F8d3mHTHl",
      "metadata": {
        "id": "GT3F8d3mHTHl"
      },
      "source": [
        "¿Cuál es la relación entre la popularidad de una canción en Spotify (popularity) y la cantidad de vistas en YouTube (views) según el archivo Spotify_Youtube.csv en un gráfico de dispersión?\n"
      ]
    },
    {
      "cell_type": "code",
      "execution_count": null,
      "id": "3sP_V6TXHTPr",
      "metadata": {
        "id": "3sP_V6TXHTPr"
      },
      "outputs": [],
      "source": []
    },
    {
      "cell_type": "markdown",
      "id": "FbRQKWS7Hva0",
      "metadata": {
        "id": "FbRQKWS7Hva0"
      },
      "source": [
        "¿Cuál es la cantidad promedio de comentarios en YouTube por género musical según el archivo Spotify_Youtube.csv en un gráfico de línea?\n"
      ]
    },
    {
      "cell_type": "code",
      "execution_count": null,
      "id": "qIKCTbzyHwNN",
      "metadata": {
        "id": "qIKCTbzyHwNN"
      },
      "outputs": [],
      "source": []
    },
    {
      "cell_type": "markdown",
      "id": "oLWl3QzzHwa3",
      "metadata": {
        "id": "oLWl3QzzHwa3"
      },
      "source": [
        "¿Cuál es la distribución de la duración de las canciones en el archivo Spotify_Youtube.csv en un histograma?\n"
      ]
    },
    {
      "cell_type": "code",
      "execution_count": null,
      "id": "8VCZWxXAHwin",
      "metadata": {
        "id": "8VCZWxXAHwin"
      },
      "outputs": [],
      "source": []
    },
    {
      "cell_type": "markdown",
      "id": "BdKIYAUyHwp6",
      "metadata": {
        "id": "BdKIYAUyHwp6"
      },
      "source": [
        "¿Cuál es la cantidad de canciones por año de lanzamiento en el archivo Spotify_Youtube.csv en un gráfico de barras?\n"
      ]
    },
    {
      "cell_type": "code",
      "execution_count": null,
      "id": "n30ORI7ZHww9",
      "metadata": {
        "id": "n30ORI7ZHww9"
      },
      "outputs": [],
      "source": []
    },
    {
      "cell_type": "markdown",
      "id": "YHX0HUXCHw4j",
      "metadata": {
        "id": "YHX0HUXCHw4j"
      },
      "source": [
        "¿Cuál es la cantidad de canciones por artista en el archivo Spotify_Youtube.csv en un gráfico circular?\n"
      ]
    },
    {
      "cell_type": "code",
      "execution_count": null,
      "id": "-DLysk1tHxAa",
      "metadata": {
        "id": "-DLysk1tHxAa"
      },
      "outputs": [],
      "source": []
    },
    {
      "cell_type": "markdown",
      "id": "qKLO5qqEHxHM",
      "metadata": {
        "id": "qKLO5qqEHxHM"
      },
      "source": [
        "¿Cuál es el promedio de \"me gusta\" en YouTube para las canciones de cada género musical según el archivo Spotify_Youtube.csv en un gráfico de barras apiladas?\n"
      ]
    },
    {
      "cell_type": "code",
      "execution_count": null,
      "id": "_VdaN83ZHxOa",
      "metadata": {
        "id": "_VdaN83ZHxOa"
      },
      "outputs": [],
      "source": []
    },
    {
      "cell_type": "markdown",
      "id": "-0uh8shpHxU-",
      "metadata": {
        "id": "-0uh8shpHxU-"
      },
      "source": [
        "¿Cuál es el género musical con el mayor promedio de popularidad en Spotify (popularity) según el archivo Spotify_Youtube.csv en un gráfico de barras?\n"
      ]
    },
    {
      "cell_type": "code",
      "execution_count": null,
      "id": "ciGo7RSDHxmg",
      "metadata": {
        "id": "ciGo7RSDHxmg"
      },
      "outputs": [],
      "source": []
    },
    {
      "cell_type": "markdown",
      "id": "J5gLa4M-ICpE",
      "metadata": {
        "id": "J5gLa4M-ICpE"
      },
      "source": [
        "¿Cuál es la canción con el mayor valor de acústica (acousticness) en el archivo Spotify_Youtube.csv y cuál es su valor?\n"
      ]
    },
    {
      "cell_type": "code",
      "execution_count": null,
      "id": "zKbQePQwIDSg",
      "metadata": {
        "id": "zKbQePQwIDSg"
      },
      "outputs": [],
      "source": []
    },
    {
      "cell_type": "markdown",
      "id": "K5KTSF-BIDbG",
      "metadata": {
        "id": "K5KTSF-BIDbG"
      },
      "source": [
        "¿Cuál es la canción con el menor valor de valencia (valence) en el archivo Spotify_Youtube.csv y cuál es su valor?\n"
      ]
    },
    {
      "cell_type": "code",
      "execution_count": null,
      "id": "BAYUKsXkIDj-",
      "metadata": {
        "id": "BAYUKsXkIDj-"
      },
      "outputs": [],
      "source": []
    },
    {
      "cell_type": "markdown",
      "id": "TDXq_ugRIDs1",
      "metadata": {
        "id": "TDXq_ugRIDs1"
      },
      "source": [
        "¿Cuál es la canción con la mayor cantidad de comentarios en YouTube en el archivo Spotify_Youtube.csv y cuál es su cantidad?\n"
      ]
    },
    {
      "cell_type": "code",
      "execution_count": null,
      "id": "gcFk7s-3ID04",
      "metadata": {
        "id": "gcFk7s-3ID04"
      },
      "outputs": [],
      "source": []
    },
    {
      "cell_type": "markdown",
      "id": "GKT0oY71ILu3",
      "metadata": {
        "id": "GKT0oY71ILu3"
      },
      "source": [
        "¿Cuál es la canción con el mayor valor de \"me gusta\" en YouTube en el archivo Spotify_Youtube.csv y cuál es su valor?"
      ]
    },
    {
      "cell_type": "code",
      "execution_count": null,
      "id": "q647EUFyIMKa",
      "metadata": {
        "id": "q647EUFyIMKa"
      },
      "outputs": [],
      "source": []
    }
  ],
  "metadata": {
    "colab": {
      "provenance": []
    },
    "kernelspec": {
      "display_name": "Python 3 (ipykernel)",
      "language": "python",
      "name": "python3"
    },
    "language_info": {
      "codemirror_mode": {
        "name": "ipython",
        "version": 3
      },
      "file_extension": ".py",
      "mimetype": "text/x-python",
      "name": "python",
      "nbconvert_exporter": "python",
      "pygments_lexer": "ipython3",
      "version": "3.9.12"
    }
  },
  "nbformat": 4,
  "nbformat_minor": 5
}
