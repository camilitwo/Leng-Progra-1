{
 "cells": [
  {
   "cell_type": "markdown",
   "metadata": {},
   "source": [
    "Requerimiento:\n",
    "\n",
    "1. Construir clase Rol -> (atributos: {rolId, rolName}) \n",
    "\n",
    "    Posibles Roles -> {'ADMIN', 'EJECUTIVO COMERCIAL', 'SOPORTE', 'DESARROLLADOR', 'VENTAS'}\n",
    "    rolId -> debe ser generado aleatoriamente entre 1 y 999 y no se debe repetir\n",
    "\n",
    "2. Construir clase que herede Rol. Clase Usuario -> (atributos: {name, fiscalIdentify, fantasyName, password, status}) \n",
    "\n",
    "    Status -> {'ACTIVO', 'BLOQUEADO'}\n",
    "    Password -> Debe ser alfanumerico mayor a 6 el largo\n",
    "\n",
    "Inicio sesion:\n",
    "\n",
    "    1. Al instaciar la clase Usuario debe permitir registrar usuario con su respectivo rol\n",
    "    2. Una vez instaciada permitir que incie sesion, si el pass es distinto al registrado no debe permitir ingresar. al contrario, si el pass es correcto debe mostrar la información del usuario con su respectivo rol, si el usuario posee un estado != a 'ACTIVO' debe indicar que el usuario está bloqueado o no se encuentra activo.\n",
    "\n",
    "Actualización de estado\n",
    "\n",
    "    1. Al existir una instancia de la clase usuario debe permitir el cambio de estado. debe validar que el estado a actualizar sea != al estado actual del usuario,\n",
    "    ademas si el rol del usuario = 'ADMIN', no será posible actualizar el estado.\n",
    "\n",
    "Cambio de password\n",
    "\n",
    "    1. Se debe permitir cambiar el pass de un usuario, manteniendo las reglas para el nuevo password."
   ]
  },
  {
   "cell_type": "code",
   "execution_count": 7,
   "metadata": {},
   "outputs": [
    {
     "name": "stdout",
     "output_type": "stream",
     "text": [
      "Nombre:  Camilo\n",
      "Identificación:  123456789\n",
      "Rol:  DESARROLLADOR\n",
      "Estado:  ACTIVO\n",
      "El estado del usuario ha sido actualizado\n",
      "Nombre:  Camilo\n",
      "Identificación:  123456789\n",
      "Rol:  DESARROLLADOR\n",
      "Estado:  BLOQUEADO\n"
     ]
    }
   ],
   "source": [
    "import uuid\n",
    "\n",
    "class Rol:\n",
    "    def __init__(self, nombre):\n",
    "        self.id = uuid.uuid1() #Generar un id alfanumérico\n",
    "        self.nombre = nombre\n",
    "\n",
    "class Usuario(Rol):\n",
    "    def __init__(self, rolName, fiscalIdentify, fantasyName, password):\n",
    "        super().__init__(rolName)\n",
    "        self.fiscalIdentify = fiscalIdentify\n",
    "        self.fantasyName = fantasyName\n",
    "        self.password = Utility.paswordValidator(password)\n",
    "        self.status = \"ACTIVO\"\n",
    "\n",
    "    def login(self, password):\n",
    "        if self.password == password:\n",
    "            print(\"Bienvenido al sistema\")\n",
    "        else:\n",
    "            print(\"Contraseña incorrecta\")\n",
    "\n",
    "    def updateStatus(self, status):\n",
    "        if(self.status != Utility.statusValidator(status)):\n",
    "            self.status = status\n",
    "            print(\"El estado del usuario ha sido actualizado\")\n",
    "        else:\n",
    "            print(\"El estado del usuario es el mismo\")\n",
    "\n",
    "    def updatePassword(self, password):\n",
    "        self.password = Utility.paswordValidator(password)\n",
    "        print(\"La contraseña ha sido actualizada\")\n",
    "\n",
    "    def mostrarUsuario(self):\n",
    "        print(\"Nombre: \", self.fantasyName)\n",
    "        print(\"Identificación: \", self.fiscalIdentify)\n",
    "        print(\"Rol: \", self.nombre)\n",
    "        print(\"Estado: \", self.status)\n",
    "\n",
    "\n",
    "class Utility:\n",
    "    def paswordValidator(password):\n",
    "        if len(password) < 6:\n",
    "            print(\"La contraseña debe tener al menos 6 caracteres\")\n",
    "            raise UserException(\"La contraseña debe tener al menos 6 caracteres\")\n",
    "        elif (password.isalpha() or password.isnumeric()):\n",
    "            print(\"La contraseña debe tener al menos un numero y letra\")\n",
    "            raise UserException(\"La contraseña debe tener al menos un numero y letra\")\n",
    "        else:\n",
    "            return password\n",
    "\n",
    "    def statusValidator(status):\n",
    "        posibleStatus = [\"ACTIVO\", \"BLOQUEADO\"]\n",
    "        if status in posibleStatus:\n",
    "            return status\n",
    "        else:\n",
    "            print(\"El estado no es valido\")\n",
    "            raise UserException(\"El estado no es válido\")\n",
    "\n",
    "class UserException(Exception):\n",
    "    def __init__(self, message):\n",
    "        self.message = message\n",
    "    \n",
    "\n",
    "\n",
    "\n",
    "usuario1 = Usuario('DESARROLLADOR', '123456789', 'Camilo', '1c312344')\n",
    "usuario1.mostrarUsuario()\n",
    "\n",
    "usuario1.updateStatus('BLOQUEADO')\n",
    "\n",
    "usuario1.mostrarUsuario()"
   ]
  }
 ],
 "metadata": {
  "kernelspec": {
   "display_name": "Python 3.11.2 64-bit",
   "language": "python",
   "name": "python3"
  },
  "language_info": {
   "codemirror_mode": {
    "name": "ipython",
    "version": 3
   },
   "file_extension": ".py",
   "mimetype": "text/x-python",
   "name": "python",
   "nbconvert_exporter": "python",
   "pygments_lexer": "ipython3",
   "version": "3.11.2"
  },
  "orig_nbformat": 4,
  "vscode": {
   "interpreter": {
    "hash": "e95842441d0f749b7f000eb3bd941ba09946d64b05adbb29f9c6e508f91bd306"
   }
  }
 },
 "nbformat": 4,
 "nbformat_minor": 2
}
