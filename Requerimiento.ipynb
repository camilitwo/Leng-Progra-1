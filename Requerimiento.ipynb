{
 "cells": [
  {
   "cell_type": "markdown",
   "metadata": {},
   "source": [
    "Requerimiento:\n",
    "\n",
    "1. Construir clase Rol -> (atributos: {rolId, rolName}) \n",
    "\n",
    "    Posibles Roles -> {'ADMIN', 'EJECUTIVO COMERCIAL', 'SOPORTE', 'DESARROLLADOR', 'VENTAS'}\n",
    "    rolId -> debe ser generado aleatoriamente entre 1 y 999 y no se debe repetir\n",
    "\n",
    "2. Construir clase que herede Rol. Clase Usuario -> (atributos: {name, fiscalIdentify, fantasyName, password, status}) \n",
    "\n",
    "    Status -> {'ACTIVO', 'BLOQUEADO'}\n",
    "    Password -> Debe ser alfanumerico mayor a 6 el largo\n",
    "\n",
    "Inicio sesion:\n",
    "\n",
    "    1. Al instaciar la clase Usuario debe permitir registrar usuario con su respectivo rol\n",
    "    2. Una vez instaciada permitir que incie sesion, si el pass es distinto al registrado no debe permitir ingresar. al contrario, si el pass es correcto debe mostrar la información del usuario con su respectivo rol, si el usuario posee un estado != a 'ACTIVO' debe indicar que el usuario está bloqueado o no se encuentra activo.\n",
    "\n",
    "Actualización de estado\n",
    "\n",
    "    1. Al existir una instancia de la clase usuario debe permitir el cambio de estado. debe validar que el estado a actualizar sea != al estado actual del usuario,\n",
    "    ademas si el rol del usuario = 'ADMIN', no será posible actualizar el estado.\n",
    "\n",
    "Cambio de password\n",
    "\n",
    "    1. Se debe permitir cambiar el pass de un usuario, manteniendo las reglas para el nuevo password."
   ]
  }
 ],
 "metadata": {
  "language_info": {
   "name": "python"
  },
  "orig_nbformat": 4
 },
 "nbformat": 4,
 "nbformat_minor": 2
}
