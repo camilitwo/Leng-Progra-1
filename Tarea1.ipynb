{
 "cells": [
  {
   "cell_type": "code",
   "execution_count": 4,
   "metadata": {},
   "outputs": [
    {
     "name": "stdout",
     "output_type": "stream",
     "text": [
      "Rut:  12345678-9\n",
      "Saldo:  100000\n",
      "Depositos:  100000\n",
      "Giros:  0\n",
      "Saldo suficiente\n",
      "Rut:  12345678-9\n",
      "Saldo:  50000\n",
      "Depositos:  100000\n",
      "Giros:  50000\n"
     ]
    }
   ],
   "source": [
    "class Cuenta:\n",
    "    def  __init__(self, rut):\n",
    "        self.rut = rut\n",
    "        self.saldo = 0\n",
    "        self.deposito = 0\n",
    "        self.giros = 0\n",
    "\n",
    "    def depositar(self, monto):\n",
    "        self.deposito = self.deposito + monto\n",
    "        self.saldo = self.saldo + monto\n",
    "\n",
    "    def mostrar(self):\n",
    "        print(\"Rut: \", self.rut)\n",
    "        print(\"Saldo: \", self.saldo)\n",
    "        print(\"Depositos: \", self.deposito)\n",
    "        print(\"Giros: \", self.giros)\n",
    "\n",
    "    def girar(self, monto):\n",
    "        self.giros = self.giros + monto\n",
    "        if(self.saldo < monto):\n",
    "            print(\"No hay saldo suficiente\")\n",
    "        else:\n",
    "            self.saldo = self.saldo - monto\n",
    "            print(\"Saldo suficiente\")\n",
    "            self.mostrar()\n",
    "\n",
    "x = Cuenta(\"12345678-9\")\n",
    "x.depositar(100000)\n",
    "x.mostrar()\n",
    "\n",
    "x.girar(50000)\n"
   ]
  }
 ],
 "metadata": {
  "kernelspec": {
   "display_name": "Python 3",
   "language": "python",
   "name": "python3"
  },
  "language_info": {
   "codemirror_mode": {
    "name": "ipython",
    "version": 3
   },
   "file_extension": ".py",
   "mimetype": "text/x-python",
   "name": "python",
   "nbconvert_exporter": "python",
   "pygments_lexer": "ipython3",
   "version": "3.11.2"
  },
  "orig_nbformat": 4,
  "vscode": {
   "interpreter": {
    "hash": "7dd779119dab4cfb6c61f368f860cd05feb88cbbc1a8dc3650d262fc83dbc9f5"
   }
  }
 },
 "nbformat": 4,
 "nbformat_minor": 2
}
