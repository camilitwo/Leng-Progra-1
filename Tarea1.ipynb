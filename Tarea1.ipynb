{
 "cells": [
  {
   "cell_type": "code",
   "execution_count": null,
   "metadata": {},
   "outputs": [],
   "source": [
    "class Cuenta:\n",
    "    def  __init__(self, rut):\n",
    "        self.rut = rut\n",
    "        self.saldo = 0\n",
    "        self.deposito = 0\n",
    "        self.giros = 0\n",
    "\n",
    "    def depositar(self, monto):\n",
    "        self.deposito = self.deposito + monto\n",
    "        self.saldo = self.saldo + monto\n",
    "\n",
    "    def mostrar(self):\n",
    "        print(\"\\nMostrando datos de la cuenta\")\n",
    "        print(\"Rut: \", self.rut)\n",
    "        print(\"Saldo: \", self.saldo)\n",
    "        print(\"Depositos: \", self.deposito)\n",
    "        print(\"Giros: \", self.giros)\n",
    "\n",
    "    def girar(self, monto):\n",
    "        self.giros = self.giros + monto\n",
    "        if(self.saldo < monto):\n",
    "            print(\"No hay saldo suficiente\")\n",
    "        else:\n",
    "            self.saldo = self.saldo - monto\n",
    "            self.mostrar()\n",
    "\n",
    "    def transferir(self, monto, cuenta):\n",
    "        print(\"\\n\\nTransfieriendo...\")\n",
    "        self.girar(monto)\n",
    "        cuenta.depositar(monto)\n",
    "        print(\"\\n\\nTransferencia realizada\")\n",
    "        cuenta.mostrar()\n",
    "\n",
    "x = Cuenta(\"12345678-9\")\n",
    "x.depositar(100000)\n",
    "x.mostrar()\n",
    "\n",
    "\n",
    "y = Cuenta(\"98765432-1\")\n",
    "y.mostrar()\n",
    "x.transferir(50000, y)\n",
    "y.mostrar()\n",
    "\n",
    "\n",
    "\n",
    "\n"
   ]
  }
 ],
 "metadata": {
  "kernelspec": {
   "display_name": "Python 3.11.2 64-bit",
   "language": "python",
   "name": "python3"
  },
  "language_info": {
   "codemirror_mode": {
    "name": "ipython",
    "version": 3
   },
   "file_extension": ".py",
   "mimetype": "text/x-python",
   "name": "python",
   "nbconvert_exporter": "python",
   "pygments_lexer": "ipython3",
   "version": "3.11.2"
  },
  "orig_nbformat": 4,
  "vscode": {
   "interpreter": {
    "hash": "e95842441d0f749b7f000eb3bd941ba09946d64b05adbb29f9c6e508f91bd306"
   }
  }
 },
 "nbformat": 4,
 "nbformat_minor": 2
}
