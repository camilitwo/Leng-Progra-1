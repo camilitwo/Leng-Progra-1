{
 "cells": [
  {
   "cell_type": "code",
   "execution_count": 9,
   "metadata": {},
   "outputs": [],
   "source": [
    "import sqlite3\n",
    "\n",
    "conn = sqlite3.connect('udpfinal.db')\n",
    "conexion =conn.cursor()"
   ]
  },
  {
   "cell_type": "code",
   "execution_count": 10,
   "metadata": {},
   "outputs": [
    {
     "data": {
      "text/plain": [
       "<sqlite3.Cursor at 0x218f886d2c0>"
      ]
     },
     "execution_count": 10,
     "metadata": {},
     "output_type": "execute_result"
    }
   ],
   "source": [
    "conexion.execute(\"DROP TABLE IF EXISTS alumno\")\n",
    "\n",
    "conexion.executescript(\"\"\"CREATE TABLE alumno\n",
    "(\"rut\" TEXT,\n",
    "\"nombre\" TEXT,\n",
    "\"carrera\" TEXT)\"\"\")"
   ]
  },
  {
   "cell_type": "code",
   "execution_count": 11,
   "metadata": {},
   "outputs": [
    {
     "ename": "AttributeError",
     "evalue": "'sqlite3.Cursor' object has no attribute 'rollback'",
     "output_type": "error",
     "traceback": [
      "\u001b[1;31m---------------------------------------------------------------------------\u001b[0m",
      "\u001b[1;31mAttributeError\u001b[0m                            Traceback (most recent call last)",
      "Cell \u001b[1;32mIn[11], line 3\u001b[0m\n\u001b[0;32m      2\u001b[0m     conexion\u001b[39m.\u001b[39mexecute(\u001b[39m\"\u001b[39m\u001b[39minsert into alumno (rut, nombre, carrera) VALUES (\u001b[39m\u001b[39m'\u001b[39m\u001b[39m1-9\u001b[39m\u001b[39m'\u001b[39m\u001b[39m, \u001b[39m\u001b[39m'\u001b[39m\u001b[39mcamilo\u001b[39m\u001b[39m'\u001b[39m\u001b[39m, \u001b[39m\u001b[39m'\u001b[39m\u001b[39mleyes\u001b[39m\u001b[39m'\u001b[39m\u001b[39m)\u001b[39m\u001b[39m\"\u001b[39m)\n\u001b[1;32m----> 3\u001b[0m     conexion\u001b[39m.\u001b[39;49mcommit()\n\u001b[0;32m      4\u001b[0m \u001b[39mexcept\u001b[39;00m \u001b[39mException\u001b[39;00m \u001b[39mas\u001b[39;00m e:\n",
      "\u001b[1;31mAttributeError\u001b[0m: 'sqlite3.Cursor' object has no attribute 'commit'",
      "\nDuring handling of the above exception, another exception occurred:\n",
      "\u001b[1;31mAttributeError\u001b[0m                            Traceback (most recent call last)",
      "Cell \u001b[1;32mIn[11], line 5\u001b[0m\n\u001b[0;32m      3\u001b[0m     conexion\u001b[39m.\u001b[39mcommit()\n\u001b[0;32m      4\u001b[0m \u001b[39mexcept\u001b[39;00m \u001b[39mException\u001b[39;00m \u001b[39mas\u001b[39;00m e:\n\u001b[1;32m----> 5\u001b[0m     conexion\u001b[39m.\u001b[39;49mrollback()\n\u001b[0;32m      6\u001b[0m     \u001b[39mprint\u001b[39m(e)\n",
      "\u001b[1;31mAttributeError\u001b[0m: 'sqlite3.Cursor' object has no attribute 'rollback'"
     ]
    }
   ],
   "source": [
    "try:\n",
    "    conexion.execute(\"insert into alumno (rut, nombre, carrera) VALUES ('1-9', 'camilo', 'leyes')\")\n",
    "    conexion.commit()\n",
    "except Exception as e:\n",
    "    conexion.rollback()\n",
    "    print(e)"
   ]
  }
 ],
 "metadata": {
  "kernelspec": {
   "display_name": "Python 3",
   "language": "python",
   "name": "python3"
  },
  "language_info": {
   "codemirror_mode": {
    "name": "ipython",
    "version": 3
   },
   "file_extension": ".py",
   "mimetype": "text/x-python",
   "name": "python",
   "nbconvert_exporter": "python",
   "pygments_lexer": "ipython3",
   "version": "3.11.3"
  },
  "orig_nbformat": 4
 },
 "nbformat": 4,
 "nbformat_minor": 2
}
