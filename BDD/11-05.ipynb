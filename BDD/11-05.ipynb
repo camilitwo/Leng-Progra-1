{
 "cells": [
  {
   "cell_type": "code",
   "execution_count": 5,
   "metadata": {},
   "outputs": [],
   "source": [
    "import pyodbc\n",
    "driver = \"Microsoft Access Driver (*.mdb, *.accdb)\"\n",
    "ruta = \"c:/datos/udp.accdb\"\n",
    "conn = pyodbc.connect(\"Driver={%s};DBQ=%s;\" % (driver, ruta))"
   ]
  },
  {
   "cell_type": "code",
   "execution_count": 6,
   "metadata": {},
   "outputs": [],
   "source": [
    "class Conexion:\n",
    "    def __init__(self):\n",
    "        self.conn = None\n",
    "        try:\n",
    "            driver = \"Microsoft Access Driver (*.mdb, *.accdb)\"\n",
    "            ruta = \"c:/datos/udp.accdb\"\n",
    "            self.conn = pyodbc.connect(\"Driver={%s};DBQ=%s;\" % (driver, ruta))\n",
    "        except Exception as e:\n",
    "            print(e)\n",
    "    def abrirConexion(self):\n",
    "        return self.conn\n",
    "    def ejecutar(self, sql):\n",
    "        try:\n",
    "            cursor = self.conn.cursor()\n",
    "            cursor.execute(sql)\n",
    "            self.conn.commit()\n",
    "            print(\"Ejecutado\")\n",
    "        except Exception as e:\n",
    "            print(e)\n",
    "    def consultar(self, sql):\n",
    "        cursor = self.conn.cursor()\n",
    "        cursor.execute(sql)\n",
    "        return cursor.fetchall()\n",
    "    \n",
    "    def buscarUno(self, sql):\n",
    "        cursor = self.conn.cursor()\n",
    "        cursor.execute(sql)\n",
    "        return cursor.fetchone()\n",
    "    def cerrar(self):\n",
    "        #self.conn.cursor().close()\n",
    "        self.conexion.close()"
   ]
  },
  {
   "cell_type": "code",
   "execution_count": 7,
   "metadata": {},
   "outputs": [],
   "source": [
    "conn = Conexion()"
   ]
  },
  {
   "cell_type": "code",
   "execution_count": 40,
   "metadata": {},
   "outputs": [
    {
     "data": {
      "text/plain": [
       "[(2, '1-9', 'Camilo', 'Informatica'),\n",
       " (3, '1-7', 'Fran', 'Enfermera'),\n",
       " (5, '4', '12345678-9', 'Juan Perez'),\n",
       " (11, '18121456-2', 'Juan Perez', 'Ingenieria Mecanica'),\n",
       " (12, '18248430K', 'Fran Aceituno', 'Emfermeria')]"
      ]
     },
     "execution_count": 40,
     "metadata": {},
     "output_type": "execute_result"
    }
   ],
   "source": [
    "conn.consultar(\"select * from alumno\")"
   ]
  },
  {
   "cell_type": "code",
   "execution_count": 32,
   "metadata": {},
   "outputs": [],
   "source": [
    "class Alumno:\n",
    "    def __init__(self, rut, nombre, carrera):\n",
    "        self.rut = rut\n",
    "        self.nombre = nombre\n",
    "        self.carrera = carrera\n",
    "    def getAlumno(self, rut):\n",
    "        return conn.buscarUno(\"select * from alumno where rut = '\"+rut+\"'\")\n",
    "    def imprimir(self):\n",
    "        print(self.rut + \" \" + self.nombre + \" \" + self.carrera)\n",
    "    def crear(self):\n",
    "        if Utilitario.validarRut(self.rut):\n",
    "            if self.getAlumno(self.rut) != None:\n",
    "                print(\"El alumno ya existe\")\n",
    "                return\n",
    "            self.rut = self.rut.replace(\"-\",\"\")\n",
    "            self.rut = self.rut.replace(\".\",\"\")\n",
    "            sql = \"insert into alumno (rut, nombre, carrera) VALUES ('\"+str(self.rut)+\"','\"+str(self.nombre)+\"','\"+str(self.carrera)+\"')\"\n",
    "            conn.ejecutar(sql)\n",
    "            return \n",
    "        print(\"El rut no es valido\")\n",
    "\n",
    "    def actualizar(self):\n",
    "        if self.getAlumno(self.rut) != None:\n",
    "            self.rut = self.rut.replace(\"-\",\"\")\n",
    "            self.rut = self.rut.replace(\".\",\"\")\n",
    "            sql = \"update alumno set nombre = '\"+self.nombre+\"', carrera = '\"+self.carrera+\"' where rut = '\"+self.rut+\"'\"\n",
    "            conn.ejecutar(sql)\n",
    "            return\n",
    "        print(\"El alumno no existe\")\n",
    "\n",
    "    def eliminar(self):\n",
    "        if self.getAlumno(self.rut) != None:\n",
    "            sql = \"delete from alumno where rut = '\"+self.rut+\"'\"\n",
    "            conn.ejecutar(sql)\n",
    "            return\n",
    "        print(\"El alumno no existe\")\n",
    "\n",
    "from itertools import cycle\n",
    "\n",
    "class Utilitario:\n",
    "    def validarRut(rut):\n",
    "        rut = rut.upper()\n",
    "        rut = rut.replace(\"-\",\"\")\n",
    "        rut = rut.replace(\".\",\"\")\n",
    "        aux = rut[:-1]\n",
    "        dv = rut[-1:]\n",
    "        revertido = map(int, reversed(str(aux)))\n",
    "        factors = cycle(range(2,8))\n",
    "        s = sum(d * f for d, f in zip(revertido,factors))\n",
    "        res = (-s)%11\n",
    "\n",
    "        if str(res) == dv:\n",
    "            return True\n",
    "        elif dv==\"K\" and res==10:\n",
    "            return True\n",
    "        else:\n",
    "            return False\n",
    "    "
   ]
  },
  {
   "cell_type": "code",
   "execution_count": 36,
   "metadata": {},
   "outputs": [],
   "source": [
    "alumno = Alumno('18121456-2', 'Camilo G', 'Ingenieria Mecanica')"
   ]
  },
  {
   "cell_type": "code",
   "execution_count": 15,
   "metadata": {},
   "outputs": [
    {
     "name": "stdout",
     "output_type": "stream",
     "text": [
      "Ejecutado\n"
     ]
    }
   ],
   "source": [
    "alumno.crear()\n"
   ]
  },
  {
   "cell_type": "code",
   "execution_count": 37,
   "metadata": {},
   "outputs": [
    {
     "name": "stdout",
     "output_type": "stream",
     "text": [
      "Ejecutado\n"
     ]
    }
   ],
   "source": [
    "alumno.actualizar()"
   ]
  },
  {
   "cell_type": "code",
   "execution_count": 123,
   "metadata": {},
   "outputs": [
    {
     "name": "stdout",
     "output_type": "stream",
     "text": [
      "Ejecutado\n"
     ]
    }
   ],
   "source": [
    "alumno.eliminar()"
   ]
  }
 ],
 "metadata": {
  "kernelspec": {
   "display_name": "Python 3",
   "language": "python",
   "name": "python3"
  },
  "language_info": {
   "codemirror_mode": {
    "name": "ipython",
    "version": 3
   },
   "file_extension": ".py",
   "mimetype": "text/x-python",
   "name": "python",
   "nbconvert_exporter": "python",
   "pygments_lexer": "ipython3",
   "version": "3.11.3"
  },
  "orig_nbformat": 4
 },
 "nbformat": 4,
 "nbformat_minor": 2
}
