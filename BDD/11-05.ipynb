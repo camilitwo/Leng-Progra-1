{
 "cells": [
  {
   "cell_type": "code",
   "execution_count": 88,
   "metadata": {},
   "outputs": [],
   "source": [
    "import pyodbc\n",
    "driver = \"Microsoft Access Driver (*.mdb, *.accdb)\"\n",
    "ruta = \"c:/datos/udp.accdb\"\n",
    "conn = pyodbc.connect(\"Driver={%s};DBQ=%s;\" % (driver, ruta))"
   ]
  },
  {
   "cell_type": "code",
   "execution_count": 89,
   "metadata": {},
   "outputs": [],
   "source": [
    "class Conexion:\n",
    "    def __init__(self):\n",
    "        self.conn = None\n",
    "        try:\n",
    "            driver = \"Microsoft Access Driver (*.mdb, *.accdb)\"\n",
    "            ruta = \"c:/datos/udp.accdb\"\n",
    "            self.conn = pyodbc.connect(\"Driver={%s};DBQ=%s;\" % (driver, ruta))\n",
    "        except Exception as e:\n",
    "            print(e)\n",
    "    def abrirConexion(self):\n",
    "        return self.conn\n",
    "    def ejecutar(self, sql):\n",
    "        try:\n",
    "            cursor = self.conn.cursor()\n",
    "            cursor.execute(sql)\n",
    "            self.conn.commit()\n",
    "            print(\"Ejecutado\")\n",
    "        except Exception as e:\n",
    "            print(e)\n",
    "    def consultar(self, sql):\n",
    "        cursor = self.conn.cursor()\n",
    "        cursor.execute(sql)\n",
    "        return cursor.fetchall()\n",
    "    \n",
    "    def buscarUno(self, sql):\n",
    "        cursor = self.conn.cursor()\n",
    "        cursor.execute(sql)\n",
    "        return cursor.fetchone()\n",
    "    def cerrar(self):\n",
    "        #self.conn.cursor().close()\n",
    "        self.conexion.close()"
   ]
  },
  {
   "cell_type": "code",
   "execution_count": 90,
   "metadata": {},
   "outputs": [],
   "source": [
    "conn = Conexion()"
   ]
  },
  {
   "cell_type": "code",
   "execution_count": 7,
   "metadata": {},
   "outputs": [
    {
     "name": "stdout",
     "output_type": "stream",
     "text": [
      "insert into alumno (rut, nombre, carrera) VALUES ('1-7','Fran','Enfermera')\n",
      "Ejecutado\n"
     ]
    }
   ],
   "source": [
    "rut = input(\"ingrese rut\")\n",
    "nombre = input(\"nombre\")\n",
    "carrera = input(\"carrera\")\n",
    "sql = \"insert into alumno (rut, nombre, carrera) VALUES ('\"+rut+\"','\"+nombre+\"','\"+carrera+\"')\"\n",
    "print(sql)\n",
    "conn.ejecutar(sql)\n",
    "               "
   ]
  },
  {
   "cell_type": "code",
   "execution_count": 124,
   "metadata": {},
   "outputs": [
    {
     "data": {
      "text/plain": [
       "[(2, '1-9', 'Camilo', 'Informatica'),\n",
       " (3, '1-7', 'Fran', 'Enfermera'),\n",
       " (5, '4', '12345678-9', 'Juan Perez')]"
      ]
     },
     "execution_count": 124,
     "metadata": {},
     "output_type": "execute_result"
    }
   ],
   "source": [
    "conn.consultar(\"select * from alumno\")"
   ]
  },
  {
   "cell_type": "code",
   "execution_count": 117,
   "metadata": {},
   "outputs": [],
   "source": [
    "class Alumno:\n",
    "    def __init__(self, rut, nombre, carrera):\n",
    "        self.rut = rut\n",
    "        self.nombre = nombre\n",
    "        self.carrera = carrera\n",
    "    def getAlumno(self, rut):\n",
    "        return conn.buscarUno(\"select * from alumno where rut = '\"+rut+\"'\")\n",
    "    def imprimir(self):\n",
    "        print(self.rut + \" \" + self.nombre + \" \" + self.carrera)\n",
    "    def crear(self):\n",
    "        if self.getAlumno(self.rut) != None:\n",
    "            print(\"El alumno ya existe\")\n",
    "            return\n",
    "        sql = \"insert into alumno (rut, nombre, carrera) VALUES ('\"+str(self.rut)+\"','\"+str(self.nombre)+\"','\"+str(self.carrera)+\"')\"\n",
    "        conn.ejecutar(sql)\n",
    "    def actualizar(self):\n",
    "        if self.getAlumno(self.rut) != None:\n",
    "            sql = \"update alumno set nombre = '\"+self.nombre+\"', carrera = '\"+self.carrera+\"' where rut = '\"+self.rut+\"'\"\n",
    "            conn.ejecutar(sql)\n",
    "            return\n",
    "        print(\"El alumno no existe\")\n",
    "\n",
    "    def eliminar(self):\n",
    "        if self.getAlumno(self.rut) != None:\n",
    "            sql = \"delete from alumno where rut = '\"+self.rut+\"'\"\n",
    "            conn.ejecutar(sql)\n",
    "            return\n",
    "        print(\"El alumno no existe\")\n",
    "    "
   ]
  },
  {
   "cell_type": "code",
   "execution_count": 118,
   "metadata": {},
   "outputs": [],
   "source": [
    "alumno = Alumno(\"12345678-9\", \"Juan Perez\", \"Ingenieria Mecanica\")"
   ]
  },
  {
   "cell_type": "code",
   "execution_count": 120,
   "metadata": {},
   "outputs": [
    {
     "name": "stdout",
     "output_type": "stream",
     "text": [
      "Ejecutado\n"
     ]
    }
   ],
   "source": [
    "alumno.crear()\n"
   ]
  },
  {
   "cell_type": "code",
   "execution_count": 121,
   "metadata": {},
   "outputs": [
    {
     "name": "stdout",
     "output_type": "stream",
     "text": [
      "Ejecutado\n"
     ]
    }
   ],
   "source": [
    "alumno.actualizar()"
   ]
  },
  {
   "cell_type": "code",
   "execution_count": 123,
   "metadata": {},
   "outputs": [
    {
     "name": "stdout",
     "output_type": "stream",
     "text": [
      "Ejecutado\n"
     ]
    }
   ],
   "source": [
    "alumno.eliminar()"
   ]
  }
 ],
 "metadata": {
  "kernelspec": {
   "display_name": "Python 3",
   "language": "python",
   "name": "python3"
  },
  "language_info": {
   "codemirror_mode": {
    "name": "ipython",
    "version": 3
   },
   "file_extension": ".py",
   "mimetype": "text/x-python",
   "name": "python",
   "nbconvert_exporter": "python",
   "pygments_lexer": "ipython3",
   "version": "3.11.3"
  },
  "orig_nbformat": 4
 },
 "nbformat": 4,
 "nbformat_minor": 2
}
