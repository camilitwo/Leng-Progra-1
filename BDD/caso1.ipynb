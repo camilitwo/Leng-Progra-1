{
 "cells": [
  {
   "cell_type": "code",
   "execution_count": 2,
   "id": "690554c4",
   "metadata": {},
   "outputs": [],
   "source": [
    "import pyodbc\n",
    "driver = \"Microsoft Access Driver (*.mdb, *.accdb)\"\n",
    "ruta = \"c:/datos/udp.accdb\"\n",
    "conn = pyodbc.connect(\"Driver={%s};DBQ=%s;\" % (driver, ruta))"
   ]
  },
  {
   "cell_type": "code",
   "execution_count": 4,
   "id": "5a936e87",
   "metadata": {},
   "outputs": [
    {
     "name": "stdout",
     "output_type": "stream",
     "text": [
      "Camilo -  - \n",
      "1-9 - Camilo - Informatica\n"
     ]
    }
   ],
   "source": [
    "rut = input(\"Ingrese rut\")\n",
    "nombre = input(\"Ingrese nombre\")\n",
    "carrera = input(\"Ingrese carrera\")\n",
    "\n",
    "recorre = conn.cursor()\n",
    "try:\n",
    "    recorre.execute(\"insert into alumno (rut, nombre, carrera) VALUES (?, ?, ?)\",\n",
    "               rut, nombre, carrera)\n",
    "    recorre.commit()\n",
    "except:\n",
    "    recorre.rollback()\n",
    "    \n"
   ]
  },
  {
   "cell_type": "code",
   "execution_count": 5,
   "id": "8eaeb61d",
   "metadata": {},
   "outputs": [
    {
     "name": "stdout",
     "output_type": "stream",
     "text": [
      "1-9 - Camilo - Informatica\n"
     ]
    }
   ],
   "source": [
    "rec2 = recorre.execute(\"SELECT * FROM alumno\")\n",
    "registros = rec2.fetchall()\n",
    "if registros is not None:\n",
    "    for row in registros:\n",
    "        print(row.rut, \"-\", row.nombre, \"-\", row.carrera)\n",
    "else:\n",
    "    print(\"Sin datos\")"
   ]
  },
  {
   "cell_type": "code",
   "execution_count": 6,
   "id": "d5bbb6c4",
   "metadata": {},
   "outputs": [
    {
     "data": {
      "text/plain": [
       "[(2, '1-9', 'Camilo', 'Informatica')]"
      ]
     },
     "execution_count": 6,
     "metadata": {},
     "output_type": "execute_result"
    }
   ],
   "source": [
    "registros"
   ]
  }
 ],
 "metadata": {
  "kernelspec": {
   "display_name": "Python 3 (ipykernel)",
   "language": "python",
   "name": "python3"
  },
  "language_info": {
   "codemirror_mode": {
    "name": "ipython",
    "version": 3
   },
   "file_extension": ".py",
   "mimetype": "text/x-python",
   "name": "python",
   "nbconvert_exporter": "python",
   "pygments_lexer": "ipython3",
   "version": "3.11.3"
  }
 },
 "nbformat": 4,
 "nbformat_minor": 5
}
