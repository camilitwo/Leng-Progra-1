{
 "cells": [
  {
   "cell_type": "code",
   "execution_count": 4,
   "metadata": {},
   "outputs": [
    {
     "name": "stdout",
     "output_type": "stream",
     "text": [
      "Sector\n",
      "centro          7\n",
      "norte          42\n",
      "oriente        23\n",
      "poniente       15\n",
      "sur            57\n",
      "suroriente     26\n",
      "surponiente    40\n",
      "Name: Fallecidos, dtype: int64\n"
     ]
    }
   ],
   "source": [
    "import pandas as pd\n",
    "\n",
    "# Cargamos el dataset\n",
    "df_siniestros = pd.read_excel('siniestros2019.xlsx')"
   ]
  },
  {
   "cell_type": "code",
   "execution_count": 6,
   "metadata": {},
   "outputs": [
    {
     "name": "stdout",
     "output_type": "stream",
     "text": [
      "Sector\n",
      "centro          7\n",
      "norte          42\n",
      "oriente        23\n",
      "poniente       15\n",
      "sur            57\n",
      "suroriente     26\n",
      "surponiente    40\n",
      "Name: Fallecidos, dtype: int64\n"
     ]
    }
   ],
   "source": [
    "print(df_siniestros.groupby('Sector')['Fallecidos'].sum())"
   ]
  },
  {
   "cell_type": "code",
   "execution_count": 11,
   "metadata": {},
   "outputs": [
    {
     "name": "stdout",
     "output_type": "stream",
     "text": [
      "sur\n"
     ]
    }
   ],
   "source": [
    "#print sector con mas fallecidos\n",
    "print(df_siniestros.groupby('Sector')['Fallecidos'].sum().idxmax())\n",
    "\n",
    "#sector con mas fallecidos\n",
    "#sector = df_siniestros.groupby('Sector')['Fallecidos'].sum().xmax()"
   ]
  },
  {
   "cell_type": "code",
   "execution_count": 24,
   "metadata": {},
   "outputs": [
    {
     "name": "stdout",
     "output_type": "stream",
     "text": [
      "Causa\n",
      "CONDUCCION NO ATENTO CONDICIONES TRANSITO MOMENTO            6118\n",
      "CAUSAS NO DETERMINADAS                                       3203\n",
      "CONDUCCION SIN MANTENER DISTANCIA RAZONABLE NI PRUDENTE      1686\n",
      "OTRAS CAUSAS                                                 1649\n",
      "SEÑALIZACION DESOBEDECER SEÑAL PARE                           937\n",
      "SEÑALIZACION DESOBEDECER LUZ ROJA DE SEMAFORO                 909\n",
      "CONDUCCION CAMBIAR SORPRESIVAMENTE PISTA CIRCULACION          795\n",
      "CONDUCCION EN ESTADO DE EBRIEDAD                              772\n",
      "PERDIDA CONTROL VEHICULO                                      725\n",
      "SEÑALIZACION DESOBEDECER SEÑAL CEDA EL PASO                   454\n",
      "ADELANTAMIENTO SIN EL ESPACIO Y TIEMPO SUFICIENTE             436\n",
      "VIRAJES INDEBIDOS                                             435\n",
      "CONDUCIR VEHICULO EN RETROCESO                                349\n",
      "NO RESPETAR DERECHO PREFERENTE DE PASO A PEATON               320\n",
      "NO RESPETAR DERECHO PREFERENTE DE PASO A VEHICULO             292\n",
      "PEATON CRUZA CALZADA FORMA SORPRESIVA O DESCUIDADA            186\n",
      "IMPRUDENCIA DEL PEATON                                        124\n",
      "PEATON CRUZA CALZADA FUERA PASO PEATONES                      123\n",
      "CONDUCCION BAJO LA INFLUENCIA DEL ALCOHOL                     120\n",
      "CONDUCCION CONTRA SENTIDO DEL TRANSITO                        111\n",
      "VELOCIDAD NO RAZONABLE NI PRUDENTE                            110\n",
      "HECHO DELICTUAL                                               108\n",
      "FALLAS MECANICAS FRENOS                                        78\n",
      "ADELANTAMIENTO SOBREPASANDO LINEA CONTINUA                     68\n",
      "CONDICIONES FISICAS DEFICIENTES (CANSANCIO, SUEÑO)             67\n",
      "ADELANTAMIENTO SIN EFECTUAR LA SEÑAL RESPECTIVA                48\n",
      "SEÑALIZACION DESOBEDECER LUZ INTERMITENTE SEMAFORO             41\n",
      "VELOCIDAD MAYOR QUE MAXIMA PERMITIDA                           37\n",
      "SEÑALIZACION DESOBEDECER OTRA                                  33\n",
      "SEÑALIZACION SEMAFORO MAL ESTADO O DEFICIENTE                  33\n",
      "ADELANTAMIENTO EN CRUCE, CURVA, CUESTA, PUENTE                 33\n",
      "IMPRUDENCIA DEL PASAJERO                                       27\n",
      "ANIMALES SUELTOS VIA PUBLICA                                   23\n",
      "EBRIEDAD DEL PEATON                                            23\n",
      "PEATON PERMANECE SOBRE LA CALZADA                              19\n",
      "PEATON CRUZA CAMINO O CARRETERA SIN ADOPTAR PRECAUCIONES       19\n",
      "PASAJERO SUBE O DESCIENDE DE VEHICULO MOVIMIENTO               18\n",
      "FALLAS MECANICAS DIRECCION                                     14\n",
      "CONDUCCION POR IZQUIERDA EJE CALZADA                           12\n",
      "SEÑALIZACION MAL INSTALADA O MANTENIDA FORMA DEFECTUOSA        11\n",
      "CONDUCCION BAJO INFLUENCIA DE DROGAS O ESTUPEFACIENTES         10\n",
      "FALLAS MECANICAS NEUMATICOS                                    10\n",
      "SEÑALIZACION DESOBEDECER INDICACION CARABINERO SERVICIO         9\n",
      "PASAJERO VIAJA EN PISADERA DE VEHICULO                          9\n",
      "VELOCIDAD NO REDUCIR CRUCE DE CALLES, CUMBRE, CURVA, ETC.       8\n",
      "VELOCIDAD EXCESO EN ZONA RESTRINGIDA                            8\n",
      "CARGA ESCURRE A LA CALZADA                                      8\n",
      "ADELANTAMIENTO POR LA BERMA                                     6\n",
      "FALLAS MECANICAS MOTOR                                          5\n",
      "CARGA SOBRESALE ESTRUCTURA VEHICULO                             5\n",
      "VEHICULO EN PANNE SIN SEÑALIZACION O DEFICIENTE                 5\n",
      "FALLAS MECANICAS ELECTRICA                                      4\n",
      "CARGA OBSTRUYE VISUAL CONDUCTOR                                 3\n",
      "SUICIDIO                                                        3\n",
      "VELOCIDAD MENOR QUE MINIMA ESTABLECIDA                          2\n",
      "FALLAS MECANICAS SUSPENSION                                     2\n",
      "CARGA MAYOR QUE LA AUTORIZADA VEHICULO                          2\n",
      "EBRIEDAD DEL PASAJERO                                           2\n",
      "FALLAS MECANICAS CARROCERIA                                     1\n",
      "Name: Causa, dtype: int64\n"
     ]
    }
   ],
   "source": [
    "#Causas de accidentes y cantidad > 0 sort values ascending\n",
    "print(df_siniestros.groupby('Causa')['Causa'].count().sort_values(ascending=False))\n"
   ]
  }
 ],
 "metadata": {
  "kernelspec": {
   "display_name": "Python 3",
   "language": "python",
   "name": "python3"
  },
  "language_info": {
   "codemirror_mode": {
    "name": "ipython",
    "version": 3
   },
   "file_extension": ".py",
   "mimetype": "text/x-python",
   "name": "python",
   "nbconvert_exporter": "python",
   "pygments_lexer": "ipython3",
   "version": "3.11.3"
  },
  "orig_nbformat": 4
 },
 "nbformat": 4,
 "nbformat_minor": 2
}
