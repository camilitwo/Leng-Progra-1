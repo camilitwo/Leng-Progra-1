{
 "cells": [
  {
   "cell_type": "code",
   "execution_count": 20,
   "metadata": {},
   "outputs": [
    {
     "name": "stdout",
     "output_type": "stream",
     "text": [
      "\n",
      "Mostrando datos de la cuenta\n",
      "Rut:  12345678-9\n",
      "Saldo:  0\n",
      "Depositos:  0\n",
      "Giros:  0\n",
      "Mantencion:  1000\n"
     ]
    }
   ],
   "source": [
    "class Cuenta:\n",
    "    def  __init__(self, rut):\n",
    "        self.rut = rut\n",
    "        self.saldo = 0\n",
    "        self.deposito = 0\n",
    "        self.giros = 0\n",
    "\n",
    "    def depositar(self, monto):\n",
    "        self.deposito = self.deposito + monto\n",
    "        self.saldo = self.saldo + monto\n",
    "\n",
    "    def mostrar(self):\n",
    "        print(\"\\nMostrando datos de la cuenta\")\n",
    "        print(\"Rut: \", self.rut)\n",
    "        print(\"Saldo: \", self.saldo)\n",
    "        print(\"Depositos: \", self.deposito)\n",
    "        print(\"Giros: \", self.giros)\n",
    "        if (type(self) == CuentaAhorro):\n",
    "            print(\"Mantencion: \", self.mantencion)\n",
    "\n",
    "    def girar(self, monto):\n",
    "        self.giros = self.giros + monto\n",
    "        if(self.saldo < monto):\n",
    "            #print(\"No hay saldo suficiente\")\n",
    "            raise Exception(\"No hay saldo suficiente\")\n",
    "        else:\n",
    "            self.saldo = self.saldo - monto\n",
    "            self.mostrar()\n",
    "\n",
    "    def transferir(self, monto, cuenta):\n",
    "        print(\"\\n\\nTransfieriendo...\")\n",
    "        self.girar(monto)\n",
    "        cuenta.depositar(monto)\n",
    "        print(\"\\n\\nTransferencia realizada\")\n",
    "        cuenta.mostrar()\n",
    "\n",
    "class CuentaAhorro(Cuenta):\n",
    "    def __init__(self, rut, mantencion):\n",
    "        Cuenta.__init__(self, rut)\n",
    "        self.mantencion = mantencion\n",
    "    \n",
    "\n",
    "\n",
    "class Cliente:\n",
    "    def __init__(self):\n",
    "        self.lista = []\n",
    "\n",
    "    def agregarCuenta(self, cuenta):\n",
    "        self.lista.append(cuenta)     \n",
    "\n",
    "    def mostrarCuentas(self):\n",
    "        for cuenta in self.lista:\n",
    "            cuenta.mostrar()   \n",
    "\n",
    "    def transferirDinero(self, monto, rut, rut2):\n",
    "        for cuenta in self.lista:\n",
    "            if(cuenta.rut == rut):\n",
    "                for cuenta2 in self.lista:\n",
    "                    if(cuenta2.rut == rut2):\n",
    "                        cuenta.transferir(monto, cuenta2)\n",
    "\n",
    "#x.mostrar()\n",
    "#x.girar(500000)\n",
    "\n",
    "#cliente1 = Cliente()\n",
    "#cliente1.agregarCuenta(x)\n",
    "#cliente1.agregarCuenta(y)\n",
    "#cliente1.agregarCuenta(z)\n",
    "\n",
    "#cliente1.mostrarCuentas()\n",
    "#cliente1.transferirDinero(50000, \"12345678-9\", \"98765432-1\")\n",
    "\n",
    "ca = CuentaAhorro(\"12345678-9\", 1000)\n",
    "ca.mostrar()\n",
    "\n",
    "\n",
    "\n",
    "\n",
    "\n",
    "\n",
    "\n",
    "\n"
   ]
  }
 ],
 "metadata": {
  "kernelspec": {
   "display_name": "Python 3.11.2 64-bit",
   "language": "python",
   "name": "python3"
  },
  "language_info": {
   "codemirror_mode": {
    "name": "ipython",
    "version": 3
   },
   "file_extension": ".py",
   "mimetype": "text/x-python",
   "name": "python",
   "nbconvert_exporter": "python",
   "pygments_lexer": "ipython3",
   "version": "3.11.2"
  },
  "orig_nbformat": 4,
  "vscode": {
   "interpreter": {
    "hash": "e95842441d0f749b7f000eb3bd941ba09946d64b05adbb29f9c6e508f91bd306"
   }
  }
 },
 "nbformat": 4,
 "nbformat_minor": 2
}
