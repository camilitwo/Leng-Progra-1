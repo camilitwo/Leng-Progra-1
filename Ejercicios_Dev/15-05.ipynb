{
 "cells": [
  {
   "cell_type": "code",
   "execution_count": null,
   "metadata": {},
   "outputs": [],
   "source": [
    "#Crear un programa que analice texto y obtenga\n",
    "# numero total de palabras\n",
    "# longitud media de las palabras\n",
    "# numero de oraciones (separadas por punto)\n",
    "# palabra mas larga\n",
    "# todo esto en un ciclo unico\n",
    "\n",
    "input = \"Hola, mi nombre es Juan. Tengo 20 años. Me gusta programar en Python. Me gusta mucho la pizza.\"\n",
    "input = input.replace(\",\", \"\")\n",
    "while "
   ]
  }
 ],
 "metadata": {
  "language_info": {
   "name": "python"
  },
  "orig_nbformat": 4
 },
 "nbformat": 4,
 "nbformat_minor": 2
}
