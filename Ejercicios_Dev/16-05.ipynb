{
 "cells": [
  {
   "cell_type": "code",
   "execution_count": null,
   "metadata": {},
   "outputs": [],
   "source": [
    "# Version: 1.0\n",
    "####### comentar un tr\n",
    "#  *\t¡El nuevo \"The Legend of Zelda: Tears of the Kingdom\" ya está disponible! \n",
    "#  *\n",
    "#  * Crea un programa que dibuje una Trifuerza de \"Zelda\"\n",
    "#  * formada por asteriscos.\n",
    "#  * - Debes indicarle el número de filas de los triángulos con un entero positivo (n).\n",
    "#  * - Cada triángulo calculará su fila mayor utilizando la fórmula 2n-1.\n",
    "#  *\n",
    "#  * Ejemplo: Trifuerza 2\n",
    "#  * \n",
    "#  *    *\n",
    "#  *   ***\n",
    "#  *  *   *\n",
    "#  * *** ***\n",
    "###"
   ]
  },
  {
   "cell_type": "code",
   "execution_count": null,
   "metadata": {},
   "outputs": [],
   "source": [
    "n = int(input(\"Introduce el número de filas de los triángulos: \"))\n",
    "\n",
    "for i in range(n):\n",
    "    for j in range(n-i-1):\n",
    "        print(\" \", end=\"\")\n",
    "    for j in range(2*i+1):\n",
    "        print(\"*\", end=\"\")\n",
    "    print(\"\")"
   ]
  }
 ],
 "metadata": {
  "kernelspec": {
   "display_name": "Python 3",
   "language": "python",
   "name": "python3"
  },
  "language_info": {
   "name": "python",
   "version": "3.11.2"
  },
  "orig_nbformat": 4
 },
 "nbformat": 4,
 "nbformat_minor": 2
}
