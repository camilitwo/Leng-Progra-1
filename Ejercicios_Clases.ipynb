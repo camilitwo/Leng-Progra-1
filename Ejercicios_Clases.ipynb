{
  "cells": [
    {
      "cell_type": "markdown",
      "metadata": {
        "id": "Xz3EOwfGo4RY"
      },
      "source": [
        "#Ejercicio 1\n",
        "Escribir una clase en python que convierta un número entero a número romano"
      ]
    },
    {
      "cell_type": "code",
      "execution_count": 41,
      "metadata": {
        "id": "kp_XIYDxo3p8"
      },
      "outputs": [
        {
          "name": "stdout",
          "output_type": "stream",
          "text": [
            "MMMCMXCIX\n"
          ]
        }
      ],
      "source": [
        "#Ingrese aqui su solución\n",
        "def entero_a_romano(n):\n",
        "    if n < 1 or n > 3999:\n",
        "        return 'Fuera de rango'\n",
        "    romanos = (('M',  1000),\n",
        "               ('CM', 900),\n",
        "               ('D',  500),\n",
        "               ('CD', 400),\n",
        "               ('C',  100),\n",
        "               ('XC', 90),\n",
        "               ('L',  50),\n",
        "               ('XL', 40),\n",
        "               ('X',  10),\n",
        "               ('IX', 9),\n",
        "               ('V',  5),\n",
        "               ('IV', 4),\n",
        "               ('I',  1))\n",
        "    resultado = ''\n",
        "    for letra, valor in romanos:\n",
        "        while n >= valor:\n",
        "            resultado += letra\n",
        "            n -= valor\n",
        "    return resultado\n",
        "\n",
        "print(entero_a_romano(3999))\n"
      ]
    },
    {
      "cell_type": "markdown",
      "metadata": {
        "id": "nxKIgulCpDYy"
      },
      "source": [
        "#Ejercicio 2\n",
        "Escribir una clase en python que convierta un número romano en un número entero"
      ]
    },
    {
      "cell_type": "code",
      "execution_count": 39,
      "metadata": {
        "id": "k1ymnwwipDzO"
      },
      "outputs": [
        {
          "name": "stdout",
          "output_type": "stream",
          "text": [
            "0\n"
          ]
        }
      ],
      "source": [
        "#Ingrese aqui su solución\n",
        "def romano_a_entero(n):\n",
        "    if len(n) == 0:\n",
        "        return 0\n",
        "    if len(n) == 1:\n",
        "        return romanos[n.upper()]\n",
        "    if romanos[n[0].upper()] < romanos[n[1].upper()]:\n",
        "        return romanos[n[1].upper()] - romanos[n[0].upper()] + romano_a_entero(n[2:].upper())   \n",
        "    return romanos[n[0].upper()] + romano_a_entero(n[1:].upper())\n",
        "romanos = {'I': 1, 'V': 5, 'X': 10, 'L': 50, 'C': 100, 'D': 500, 'M': 1000}\n",
        "print(romano_a_entero(''))\n"
      ]
    },
    {
      "cell_type": "markdown",
      "metadata": {
        "id": "MIXuu-L4pHqx"
      },
      "source": [
        "#Ejercicio 3\n",
        "Escribir una clase en python para encontrar la validez de una cadena de paréntesis, '(', ')', '{', '}', '['  ']. Los paréntesis deben aparecer en el orden correcto, por ejemplo \"()\" y \"()[]{}\" son validos, pero \"[)\", \"({[)]\" y \"{{{\" son inválidos."
      ]
    },
    {
      "cell_type": "code",
      "execution_count": 38,
      "metadata": {
        "id": "xDNmuVahpIUS"
      },
      "outputs": [
        {
          "name": "stdout",
          "output_type": "stream",
          "text": [
            "False\n"
          ]
        }
      ],
      "source": [
        "#Ingrese aqui su solución\n",
        "\n",
        "class Solucion:\n",
        "    def isValido(self, s: str) -> bool:\n",
        "        while '()' in s or '[]'in s or '{}' in s:\n",
        "            s = s.replace('()','').replace('[]','').replace('{}','')\n",
        "        return False if len(s) !=0 else True\n",
        "\n",
        "print(Solucion().isValido('{{{'))"
      ]
    },
    {
      "cell_type": "markdown",
      "metadata": {
        "id": "zgLnKmTEpIqp"
      },
      "source": [
        "#Ejercicio 4\n",
        "Escribir una clase en python que obtenga todos los posibles subconjuntos únicos de un conjunto de números enteros distintos.\n",
        "\n",
        "Entrada: [4, 5, 6]\n",
        "\n",
        "Salida: [[], [6], [5], [5, 6], [4], [4, 6], [4, 5], [4, 5, 6]]"
      ]
    },
    {
      "cell_type": "code",
      "execution_count": null,
      "metadata": {
        "id": "kX30_cddpI9b"
      },
      "outputs": [],
      "source": [
        "#Ingrese aqui su solución"
      ]
    },
    {
      "cell_type": "markdown",
      "metadata": {
        "id": "tuFX8yBZpJdC"
      },
      "source": [
        "#Ejercicio 5\n",
        "Escribir una clase en python que encuentre un par de elementos (índice de los números) de una matriz dada cuya suma es igual a un número de destino especifico.\n",
        "\n",
        "Entrada: numeros = [10,20,10,40,50,60,70], objetivo=50\n",
        "\n",
        "Salida: 3, 4"
      ]
    },
    {
      "cell_type": "code",
      "execution_count": 45,
      "metadata": {
        "id": "tRi2d3wVpJzm"
      },
      "outputs": [
        {
          "name": "stdout",
          "output_type": "stream",
          "text": [
            "[1, 2]\n"
          ]
        }
      ],
      "source": [
        "#Ingrese aqui su solución\n",
        "class Solucion(object):\n",
        "    def indiceSuma(self, nums, obj):\n",
        "        resp = {}\n",
        "        for i in range(len(nums)):\n",
        "            dif = obj - nums[i]\n",
        "            if dif in resp:\n",
        "                return [resp[dif], i]\n",
        "            else:\n",
        "                resp[nums[i]] = i\n",
        "\n",
        "print(Solucion().indiceSuma([2,7,11,15],18))"
      ]
    },
    {
      "cell_type": "markdown",
      "metadata": {
        "id": "33yM-aXApKQs"
      },
      "source": [
        "#Ejercicio 6\n",
        "Escribir una clase en python que encuentre los 3 elementos que sumen 0 a partir de números reales\n",
        "\n",
        "Entrada: [-25, -10, -7, -3, 2, 4, 8, 10]\n",
        "\n",
        "Salida: [[-10, 2, 8], [-7, -3, 10]]"
      ]
    },
    {
      "cell_type": "code",
      "execution_count": 87,
      "metadata": {
        "id": "iPNxFPogpKmu"
      },
      "outputs": [
        {
          "name": "stdout",
          "output_type": "stream",
          "text": [
            "{(-10, 2, 8): 0, (-7, -3, 10): 0}\n"
          ]
        }
      ],
      "source": [
        "#Ingrese aqui su solución\n",
        "\n",
        "from itertools import combinations\n",
        "\n",
        "class Solucion(object):\n",
        "    def sumaCeros(self, nums):\n",
        "        subLista = list(combinations(nums, 3))\n",
        "        resp = {}\n",
        "        for i in subLista:\n",
        "            if sum(i) == 0:\n",
        "                resp.update({i: sum(i)})\n",
        "\n",
        "        return resp\n",
        "\n",
        "print(Solucion().sumaCeros([-25, -10, -7, -3, 2, 4, 8, 10]))"
      ]
    },
    {
      "cell_type": "markdown",
      "metadata": {
        "id": "96GC8_HUpLGy"
      },
      "source": [
        "#Ejercicio 7\n",
        "Escribir una clase en python con 2 métodos: get_string y print_string. get_string acepta una cadena ingresada por el usuario y print_string imprime la cadena en mayúsculas."
      ]
    },
    {
      "cell_type": "code",
      "execution_count": 79,
      "metadata": {
        "id": "zXn1zCompLcU"
      },
      "outputs": [
        {
          "name": "stdout",
          "output_type": "stream",
          "text": [
            "JUAN 123\n"
          ]
        }
      ],
      "source": [
        "#Ingrese aqui su solución\n",
        "import re\n",
        "\n",
        "regex = '^[A-Za-z_][A-Za-z0-9_]*'\n",
        "\n",
        "\n",
        "class Solucion(object):\n",
        "    s = ''\n",
        "    def get_string(self, s):\n",
        "        if(esNumero(s)):\n",
        "            print('No es un string')\n",
        "        else:\n",
        "            self.s = s\n",
        "\n",
        "    def print_string(self):\n",
        "        print(self.s.upper())\n",
        "\n",
        "def esNumero(s):\n",
        "    if(re.search(regex, s)):\n",
        "        return False\n",
        "    else:\n",
        "        return True\n",
        "\n",
        "x = Solucion()\n",
        "x.get_string('juan 123')\n",
        "x.print_string()"
      ]
    }
  ],
  "metadata": {
    "colab": {
      "provenance": []
    },
    "kernelspec": {
      "display_name": "Python 3.11.2 64-bit",
      "language": "python",
      "name": "python3"
    },
    "language_info": {
      "codemirror_mode": {
        "name": "ipython",
        "version": 3
      },
      "file_extension": ".py",
      "mimetype": "text/x-python",
      "name": "python",
      "nbconvert_exporter": "python",
      "pygments_lexer": "ipython3",
      "version": "3.11.2"
    },
    "vscode": {
      "interpreter": {
        "hash": "e95842441d0f749b7f000eb3bd941ba09946d64b05adbb29f9c6e508f91bd306"
      }
    }
  },
  "nbformat": 4,
  "nbformat_minor": 0
}
