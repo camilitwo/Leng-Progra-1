{
  "nbformat": 4,
  "nbformat_minor": 0,
  "metadata": {
    "colab": {
      "provenance": []
    },
    "kernelspec": {
      "name": "python3",
      "display_name": "Python 3"
    },
    "language_info": {
      "name": "python"
    }
  },
  "cells": [
    {
      "cell_type": "markdown",
      "source": [
        "#Ejercicio 1\n",
        "Escribir una clase en python que convierta un número entero a número romano"
      ],
      "metadata": {
        "id": "Xz3EOwfGo4RY"
      }
    },
    {
      "cell_type": "code",
      "execution_count": null,
      "metadata": {
        "id": "kp_XIYDxo3p8"
      },
      "outputs": [],
      "source": [
        "#Ingrese aqui su solución"
      ]
    },
    {
      "cell_type": "markdown",
      "source": [
        "#Ejercicio 2\n",
        "Escribir una clase en python que convierta un número romano en un número entero"
      ],
      "metadata": {
        "id": "nxKIgulCpDYy"
      }
    },
    {
      "cell_type": "code",
      "source": [
        "#Ingrese aqui su solución"
      ],
      "metadata": {
        "id": "k1ymnwwipDzO"
      },
      "execution_count": null,
      "outputs": []
    },
    {
      "cell_type": "markdown",
      "source": [
        "#Ejercicio 3\n",
        "Escribir una clase en python para encontrar la validez de una cadena de paréntesis, '(', ')', '{', '}', '['  ']. Los paréntesis deben aparecer en el orden correcto, por ejemplo \"()\" y \"()[]{}\" son validos, pero \"[)\", \"({[)]\" y \"{{{\" son inválidos."
      ],
      "metadata": {
        "id": "MIXuu-L4pHqx"
      }
    },
    {
      "cell_type": "code",
      "source": [
        "#Ingrese aqui su solución"
      ],
      "metadata": {
        "id": "xDNmuVahpIUS"
      },
      "execution_count": null,
      "outputs": []
    },
    {
      "cell_type": "markdown",
      "source": [
        "#Ejercicio 4\n",
        "Escribir una clase en python que obtenga todos los posibles subconjuntos únicos de un conjunto de números enteros distintos.\n",
        "\n",
        "Entrada: [4, 5, 6]\n",
        "\n",
        "Salida: [[], [6], [5], [5, 6], [4], [4, 6], [4, 5], [4, 5, 6]]"
      ],
      "metadata": {
        "id": "zgLnKmTEpIqp"
      }
    },
    {
      "cell_type": "code",
      "source": [
        "#Ingrese aqui su solución"
      ],
      "metadata": {
        "id": "kX30_cddpI9b"
      },
      "execution_count": null,
      "outputs": []
    },
    {
      "cell_type": "markdown",
      "source": [
        "#Ejercicio 5\n",
        "Escribir una clase en python que encuentre un par de elementos (índice de los números) de una matriz dada cuya suma es igual a un número de destino especifico.\n",
        "\n",
        "Entrada: numeros = [10,20,10,40,50,60,70], objetivo=50\n",
        "\n",
        "Salida: 3, 4"
      ],
      "metadata": {
        "id": "tuFX8yBZpJdC"
      }
    },
    {
      "cell_type": "code",
      "source": [
        "#Ingrese aqui su solución"
      ],
      "metadata": {
        "id": "tRi2d3wVpJzm"
      },
      "execution_count": null,
      "outputs": []
    },
    {
      "cell_type": "markdown",
      "source": [
        "#Ejercicio 6\n",
        "Escribir una clase en python que encuentre los 3 elementos que sumen 0 a partir de números reales\n",
        "\n",
        "Entrada: [-25, -10, -7, -3, 2, 4, 8, 10]\n",
        "\n",
        "Salida: [[-10, 2, 8], [-7, -3, 10]]\n",
        "\n"
      ],
      "metadata": {
        "id": "33yM-aXApKQs"
      }
    },
    {
      "cell_type": "code",
      "source": [
        "#Ingrese aqui su solución"
      ],
      "metadata": {
        "id": "iPNxFPogpKmu"
      },
      "execution_count": null,
      "outputs": []
    },
    {
      "cell_type": "markdown",
      "source": [
        "#Ejercicio 7\n",
        "Escribir una clase en python con 2 métodos: get_string y print_string. get_string acepta una cadena ingresada por el usuario y print_string imprime la cadena en mayúsculas."
      ],
      "metadata": {
        "id": "96GC8_HUpLGy"
      }
    },
    {
      "cell_type": "code",
      "source": [
        "#Ingrese aqui su solución"
      ],
      "metadata": {
        "id": "zXn1zCompLcU"
      },
      "execution_count": null,
      "outputs": []
    }
  ]
}