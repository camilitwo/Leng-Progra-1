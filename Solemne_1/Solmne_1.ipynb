{
 "cells": [
  {
   "cell_type": "code",
   "execution_count": 3,
   "metadata": {},
   "outputs": [
    {
     "name": "stderr",
     "output_type": "stream",
     "text": [
      "C:\\Users\\camil\\AppData\\Local\\Temp\\ipykernel_21952\\1725760440.py:3: FutureWarning: The error_bad_lines argument has been deprecated and will be removed in a future version. Use on_bad_lines in the future.\n",
      "\n",
      "\n",
      "  df_gastos = pd.read_csv('base-gastos-viii-epf-(formato-csv).csv', sep=';', error_bad_lines=False, low_memory=False)\n"
     ]
    }
   ],
   "source": [
    "import pandas as pd\n",
    "\n",
    "df_gastos = pd.read_csv('base-gastos-viii-epf-(formato-csv).csv', sep=';', error_bad_lines=False, low_memory=False)\n"
   ]
  },
  {
   "cell_type": "code",
   "execution_count": 7,
   "metadata": {},
   "outputs": [
    {
     "data": {
      "text/plain": [
       "(1064239, 14)"
      ]
     },
     "execution_count": 7,
     "metadata": {},
     "output_type": "execute_result"
    }
   ],
   "source": [
    "df_gastos.columns\n",
    "df_gastos.shape"
   ]
  },
  {
   "cell_type": "code",
   "execution_count": 19,
   "metadata": {},
   "outputs": [
    {
     "name": "stdout",
     "output_type": "stream",
     "text": [
      "Existe esta cantidad de productos distintos:  1187\n"
     ]
    }
   ],
   "source": [
    "#1\n",
    "# count distintas glosas unicas\n",
    "print('Existe esta cantidad de productos distintos: ', df_gastos['GLOSA'].nunique())\n"
   ]
  },
  {
   "cell_type": "code",
   "execution_count": 24,
   "metadata": {},
   "outputs": [
    {
     "name": "stdout",
     "output_type": "stream",
     "text": [
      "Existen  3690  viviendas que consumen spaghetti\n"
     ]
    }
   ],
   "source": [
    "#2 cuantas viviendas consumen spaghetti\n",
    "print('Existen ', df_gastos[df_gastos['GLOSA'] == 'SPAGHETTI']['FOLIO_V'].nunique(), ' viviendas que consumen spaghetti')"
   ]
  },
  {
   "cell_type": "code",
   "execution_count": 33,
   "metadata": {},
   "outputs": [
    {
     "name": "stdout",
     "output_type": "stream",
     "text": [
      "Existen  0  viviendas que consumen TRUTRO DE POLLO, MANZANA Y LECHUGAS\n"
     ]
    }
   ],
   "source": [
    "#3 cuantas viviendas consumen TRUTRO DE POLLO-MANZANA y LECHUGAS\n",
    "print('Existen ', df_gastos[(df_gastos['GLOSA'] == 'TRUTRO DE POLLO')\n",
    "      & (df_gastos['GLOSA'] == 'MANZANA')\n",
    "      & (df_gastos['GLOSA'] == 'LECHUGAS')]\n",
    "      ['FOLIO_V'].nunique(), ' viviendas que consumen TRUTRO DE POLLO, MANZANA Y LECHUGAS')"
   ]
  },
  {
   "cell_type": "code",
   "execution_count": 119,
   "metadata": {},
   "outputs": [
    {
     "name": "stdout",
     "output_type": "stream",
     "text": [
      "El mayor monto de consumo de MANZANA es:  999,999938964844\n"
     ]
    }
   ],
   "source": [
    "#4 Cuál es el mayor monto de consumo de MANZANA (se pide valor máximo de concepto)\n",
    "print('El mayor monto de consumo de MANZANA es: ', df_gastos[df_gastos['GLOSA'] == 'MANZANA']['GASTO'].max())"
   ]
  },
  {
   "cell_type": "code",
   "execution_count": 95,
   "metadata": {},
   "outputs": [
    {
     "name": "stdout",
     "output_type": "stream",
     "text": [
      "El folio  01233-1  consume  57  productos distintos\n"
     ]
    }
   ],
   "source": [
    "#5.- Cree una función que reciba como parámetro un folio de hogar e imprima cuántos productos distintos consume\n",
    "def productos_distintos(folio):\n",
    "    print('El folio ', folio, ' consume ', df_gastos[df_gastos['FOLIO'] == folio]['GLOSA'].nunique(), ' productos distintos')\n",
    "\n",
    "productos_distintos('01233-1')"
   ]
  },
  {
   "cell_type": "code",
   "execution_count": 116,
   "metadata": {},
   "outputs": [
    {
     "name": "stdout",
     "output_type": "stream",
     "text": [
      "['PAN CORRIENTE A GRANEL' 'GALLETA DULCE CON RELLENO' 'VIENESAS DE AVE'\n",
      " 'POSTRES LÁCTEOS' 'HUEVOS DE GALLINA' 'FRUTOS SECOS' 'ESPINACAS' 'TOMATE'\n",
      " 'CHOCOLATES TODO TIPO' 'HELADO FAMILIAR CASSATA'\n",
      " 'HIERBAS FRESCAS Y SECAS' 'BEBIDAS ENERGIZANTES'\n",
      " 'GASTOS NO DESGLOSADOS EN ALIMENTOS Y BEBIDAS NO ALCOHÓLICAS' 'CERVEZA'\n",
      " 'GASTOS NO DESGLOSADOS EN BEBIDAS ALCOHÓLICAS, TABACO Y ESTUPEFACIENTES'\n",
      " 'ABRIGOS, CHAQUETAS Y PARKAS DE MUJER' 'BLUSAS Y POLERAS DE MUJER'\n",
      " 'UNIFORMES ESCOLARES SIN DESGLOSAR' 'ZAPATO ESCOLAR'\n",
      " 'GASTOS NO DESGLOSADOS EN PRENDAS DE VESTIR Y CALZADO'\n",
      " 'ARRIENDO IMPUTADO DE LA VIVIENDA PRINCIPAL SÓLO PARA PROPIETARIOS'\n",
      " 'SERVICIO DE AGUA POTABLE PRIMERA VIVIENDA'\n",
      " 'SERVICIO DE RECOGIDA DE BASURA PRIMERA VIVIENDA'\n",
      " 'SERVICIO DE ELECTRICIDAD PRIMERA VIVIENDA'\n",
      " 'GASTOS NO DESGLOSADOS EN ALOJAMIENTO, AGUA, ELECTRICIDAD, GAS Y OTROS COMBUSTIBLES'\n",
      " 'PRODUCTOS DE LIMPIEZA DE VAJILLAS Y OLLAS'\n",
      " 'PRODUCTO DE LIMPIEZA DE SUPERFICIES DIVERSAS'\n",
      " 'GASTOS NO DESGLOSADOS EN MUEBLES, ARTÍCULOS PARA EL HOGAR Y PARA LA CONSERVACIÓN ORDINARIA DEL HOGAR'\n",
      " 'CONSULTAS DE PROFESIONALES DE LA SALUD EN CLÍNICAS, ESTABLECIMIENTOS PRIVADOS O SEMI-PÚBLICOS'\n",
      " 'GASTOS NO DESGLOSADOS EN SALUD' 'TAXI COLECTIVO' 'TAXI Y RADIO TAXI'\n",
      " 'SERVICIO DE TRANSPORTE EN BUS INTERURBANO NACIONAL'\n",
      " 'SERVICIO DE TRANSPORTE EN BUS INTERURBANO INTERNACIONAL'\n",
      " 'GASTOS NO DESGLOSADOS EN TRANSPORTE' 'SERVICIO DE TELEFONÍA MÓVIL'\n",
      " 'SERVICIO DE PACK DE TELECOMUNICACIONES VIVIENDA PRINCIPAL'\n",
      " 'GASTOS NO DESGLOSADOS EN COMUNICACIONES' 'COMPUTADOR PORTÁTIL'\n",
      " 'SERVICIOS PRESTADOS POR CINES'\n",
      " 'GASTOS NO DESGLOSADOS EN RECREACIÓN Y CULTURA'\n",
      " 'GASTO EN MATRÍCULA TÉCNICO NIVEL SUPERIOR Y PROFESIONAL EN INSTITUTO PROFESIONAL (IP)'\n",
      " 'ARANCEL (MENSUALIZADO) TÉCNICO NIVEL SUPERIOR Y PROFESIONAL EN INSTITUTO PROFESIONAL (IP)'\n",
      " 'GASTO EN MATRÍCULA TÉCNICO NIVEL SUPERIOR Y PROFESIONAL EN UNIVERSIDADES PRIVADAS'\n",
      " 'ARANCEL (MENSUALIZADO) TÉCNICO NIVEL SUPERIOR Y PROFESIONAL EN UNIVERSIDADES PRIVADAS'\n",
      " 'ALMUERZO Y CENAS NO DESGLOSADOS CONSUMIDOS EN RESTAURANTES Y SIMILARES'\n",
      " 'PLATOS DE FONDO LISTOS PARA SU CONSUMO, COMERCIALIZADOS EN SUPERMERCADOS, ALMACENES Y SIMILARES'\n",
      " 'SÁNDWICH, COMPLETOS, PIZZAS Y EMPANADAS TANTO PARA LLEVAR COMO CON ENTREGA A DOMICILIO, ADQUIRIDOS EN RESTAURANTES Y SIMILARES'\n",
      " 'PAPAS FRITAS, TABLAS Y SIMILARES TANTO PARA LLEVAR COMO CON ENTREGA A DOMICILIO, ADQUIRIDOS EN RESTAURANTES Y SIMILARES'\n",
      " 'BEBIDAS NO ALCOHÓLICAS TANTO PARA LLEVAR COMO CON ENTREGA A DOMICILIO, ADQUIRIDOS EN RESTAURANTES Y SIMILARES'\n",
      " 'HOSTALES, POSADAS, HOSTERÍAS, PENSIONES Y RESIDENCIALES'\n",
      " 'GASTOS NO DESGLOSADOS EN RESTAURANTES Y HOTELES'\n",
      " 'ALGODÓN Y PRODUCTOS SIMILARES' 'CARTERAS Y BOLSOS'\n",
      " 'COMISIONES DE INSTITUCIONES BANCARIAS'\n",
      " 'PAGOS POR FOTOCOPIAS, ESCANEO Y OTRAS REPRODUCCIONES DE DOCUMENTOS'\n",
      " 'GASTOS NO DESGLOSADOS EN BIENES Y SERVICIOS DIVERSOS']\n"
     ]
    },
    {
     "ename": "AttributeError",
     "evalue": "'list' object has no attribute 'merge'",
     "output_type": "error",
     "traceback": [
      "\u001b[1;31m---------------------------------------------------------------------------\u001b[0m",
      "\u001b[1;31mAttributeError\u001b[0m                            Traceback (most recent call last)",
      "Cell \u001b[1;32mIn[116], line 32\u001b[0m\n\u001b[0;32m     28\u001b[0m     \u001b[39mreturn\u001b[39;00m df_gastos_comun                  \n\u001b[0;32m     31\u001b[0m i\u001b[39m=\u001b[39m\u001b[39m0\u001b[39m\n\u001b[1;32m---> 32\u001b[0m \u001b[39mprint\u001b[39m(\u001b[39m\"\u001b[39m\u001b[39m\\n\u001b[39;00m\u001b[39m\"\u001b[39m\u001b[39m.\u001b[39mjoin(\u001b[39mmap\u001b[39m(\u001b[39mstr\u001b[39m, productos_consumidos(\u001b[39m'\u001b[39;49m\u001b[39m01233-1\u001b[39;49m\u001b[39m'\u001b[39;49m))))\n",
      "Cell \u001b[1;32mIn[116], line 12\u001b[0m, in \u001b[0;36mproductos_consumidos\u001b[1;34m(folio)\u001b[0m\n\u001b[0;32m     10\u001b[0m     df \u001b[39m=\u001b[39m df_gastos[df_gastos[\u001b[39m'\u001b[39m\u001b[39mFOLIO\u001b[39m\u001b[39m'\u001b[39m] \u001b[39m==\u001b[39m df_folios_hogar[i]][\u001b[39m'\u001b[39m\u001b[39mGLOSA\u001b[39m\u001b[39m'\u001b[39m]\u001b[39m.\u001b[39munique()\n\u001b[0;32m     11\u001b[0m     \u001b[39mprint\u001b[39m(df)\n\u001b[1;32m---> 12\u001b[0m     df_gastos_comun \u001b[39m=\u001b[39m df_gastos_comun\u001b[39m.\u001b[39;49mmerge(df)\n\u001b[0;32m     17\u001b[0m \u001b[39mfor\u001b[39;00m i \u001b[39min\u001b[39;00m \u001b[39mrange\u001b[39m(\u001b[39m1\u001b[39m, \u001b[39mlen\u001b[39m(df_folios_hogar)):\n\u001b[0;32m     18\u001b[0m     df_gastos_comun_aux \u001b[39m=\u001b[39m df_gastos[df_gastos[\u001b[39m'\u001b[39m\u001b[39mFOLIO\u001b[39m\u001b[39m'\u001b[39m] \u001b[39m==\u001b[39m df_folios_hogar[i]][\u001b[39m'\u001b[39m\u001b[39mGLOSA\u001b[39m\u001b[39m'\u001b[39m]\u001b[39m.\u001b[39munique()\n",
      "\u001b[1;31mAttributeError\u001b[0m: 'list' object has no attribute 'merge'"
     ]
    }
   ],
   "source": [
    "#6.- Cree una función que reciba como parámetro un folio de vivienda y liste que productos consumen\n",
    "def productos_consumidos(folio):\n",
    "    df_folios_hogar = df_gastos[df_gastos['FOLIO'].str.contains(folio.split('-')[0])]['FOLIO'].unique()\n",
    "    if(len(df_folios_hogar) < 2):\n",
    "          df_gastos_comun = df_gastos[df_gastos['FOLIO'] == folio]['GLOSA'].unique()\n",
    "    else:\n",
    "        df_aux = []\n",
    "        df_gastos_comun =[]\n",
    "        for i in range(0, len(df_folios_hogar)):\n",
    "            df = df_gastos[df_gastos['FOLIO'] == df_folios_hogar[i]]['GLOSA'].unique()\n",
    "            print(df)\n",
    "            df_gastos_comun = pd.merge(df_gastos_comun) df_gastos_comun.merge(df)\n",
    "\n",
    "\n",
    "            \n",
    "\n",
    "        for i in range(1, len(df_folios_hogar)):\n",
    "            df_gastos_comun_aux = df_gastos[df_gastos['FOLIO'] == df_folios_hogar[i]]['GLOSA'].unique()\n",
    "            for i in range(0, len(df_gastos_comun_aux)):\n",
    "                if(df_gastos_comun_aux[i] in df_gastos_comun):\n",
    "                    df_aux.append(df_gastos_comun_aux[i])\n",
    "\n",
    "        \n",
    "        \n",
    "\n",
    "        df_gastos_comun = df_aux\n",
    "\n",
    "    return df_gastos_comun                  \n",
    "                  \n",
    "    \n",
    "i=0\n",
    "print(\"\\n\".join(map(str, productos_consumidos('01233-1'))))"
   ]
  }
 ],
 "metadata": {
  "kernelspec": {
   "display_name": "Python 3",
   "language": "python",
   "name": "python3"
  },
  "language_info": {
   "codemirror_mode": {
    "name": "ipython",
    "version": 3
   },
   "file_extension": ".py",
   "mimetype": "text/x-python",
   "name": "python",
   "nbconvert_exporter": "python",
   "pygments_lexer": "ipython3",
   "version": "3.11.3"
  },
  "orig_nbformat": 4
 },
 "nbformat": 4,
 "nbformat_minor": 2
}
