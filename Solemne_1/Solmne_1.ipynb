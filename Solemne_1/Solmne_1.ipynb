{
 "cells": [
  {
   "cell_type": "code",
   "execution_count": 2,
   "metadata": {},
   "outputs": [],
   "source": [
    "import pandas as pd\n",
    "\n",
    "df_gastos = pd.read_csv('base-gastos-viii-epf-(formato-csv).csv', sep=';', low_memory=False)\n"
   ]
  },
  {
   "cell_type": "code",
   "execution_count": 7,
   "metadata": {},
   "outputs": [
    {
     "data": {
      "text/plain": [
       "(1064239, 14)"
      ]
     },
     "execution_count": 7,
     "metadata": {},
     "output_type": "execute_result"
    }
   ],
   "source": [
    "df_gastos.columns\n",
    "df_gastos.shape"
   ]
  },
  {
   "cell_type": "code",
   "execution_count": 8,
   "metadata": {},
   "outputs": [
    {
     "name": "stdout",
     "output_type": "stream",
     "text": [
      "Existe esta cantidad de productos distintos:  1187\n"
     ]
    }
   ],
   "source": [
    "#1\n",
    "# count distintas glosas unicas\n",
    "print('Existe esta cantidad de productos distintos: ', df_gastos['GLOSA'].nunique())\n"
   ]
  },
  {
   "cell_type": "code",
   "execution_count": 9,
   "metadata": {},
   "outputs": [
    {
     "name": "stdout",
     "output_type": "stream",
     "text": [
      "Existen  3690  viviendas que consumen spaghetti\n"
     ]
    }
   ],
   "source": [
    "#2 cuantas viviendas consumen spaghetti\n",
    "print('Existen ', df_gastos[df_gastos['GLOSA'] == 'SPAGHETTI']['FOLIO_V'].nunique(), ' viviendas que consumen spaghetti')"
   ]
  },
  {
   "cell_type": "code",
   "execution_count": 10,
   "metadata": {},
   "outputs": [
    {
     "name": "stdout",
     "output_type": "stream",
     "text": [
      "Existen  0  viviendas que consumen TRUTRO DE POLLO, MANZANA Y LECHUGAS\n"
     ]
    }
   ],
   "source": [
    "#3 cuantas viviendas consumen TRUTRO DE POLLO-MANZANA y LECHUGAS\n",
    "print('Existen ', df_gastos[(df_gastos['GLOSA'] == 'TRUTRO DE POLLO')\n",
    "      & (df_gastos['GLOSA'] == 'MANZANA')\n",
    "      & (df_gastos['GLOSA'] == 'LECHUGAS')]\n",
    "      ['FOLIO_V'].nunique(), ' viviendas que consumen TRUTRO DE POLLO, MANZANA Y LECHUGAS')"
   ]
  },
  {
   "cell_type": "code",
   "execution_count": 11,
   "metadata": {},
   "outputs": [
    {
     "name": "stdout",
     "output_type": "stream",
     "text": [
      "El mayor monto de consumo de MANZANA es:  999,999938964844\n"
     ]
    }
   ],
   "source": [
    "#4 Cuál es el mayor monto de consumo de MANZANA (se pide valor máximo de concepto)\n",
    "print('El mayor monto de consumo de MANZANA es: ', df_gastos[df_gastos['GLOSA'] == 'MANZANA']['GASTO'].max())"
   ]
  },
  {
   "cell_type": "code",
   "execution_count": 12,
   "metadata": {},
   "outputs": [
    {
     "name": "stdout",
     "output_type": "stream",
     "text": [
      "El folio  01233-1  consume  57  productos distintos\n"
     ]
    }
   ],
   "source": [
    "#5.- Cree una función que reciba como parámetro un folio de hogar e imprima cuántos productos distintos consume\n",
    "def productos_distintos(folio):\n",
    "    print('El folio ', folio, ' consume ', df_gastos[df_gastos['FOLIO'] == folio]['GLOSA'].nunique(), ' productos distintos')\n",
    "\n",
    "productos_distintos('01233-1')"
   ]
  },
  {
   "cell_type": "code",
   "execution_count": 4,
   "metadata": {},
   "outputs": [
    {
     "name": "stdout",
     "output_type": "stream",
     "text": [
      "(1, 1)\n",
      "['SERVICIO DE TELEFONÍA MÓVIL']\n"
     ]
    }
   ],
   "source": [
    "#6.- Cree una función que reciba como parámetro un folio de vivienda y liste que productos consumen\n",
    "def productos_consumidos(folio):\n",
    "    df_folios_hogar = df_gastos[df_gastos['FOLIO'].str.contains(folio.split('-')[0])]['FOLIO'].unique()\n",
    "    df_gastos_comun =[]\n",
    "    if(len(df_folios_hogar) < 2):\n",
    "          df_gastos_comun = pd.DataFrame(df_gastos[df_gastos['FOLIO'] == folio]['GLOSA'].unique())\n",
    "    else:\n",
    "        df_gastos_comun =[]    \n",
    "        df_gastos_comun = pd.DataFrame(df_gastos[df_gastos['FOLIO'] == df_folios_hogar[0]]['GLOSA'].unique())\n",
    "        for i in range(1, len(df_folios_hogar)):\n",
    "            aux = pd.DataFrame(df_gastos[df_gastos['FOLIO'] == df_folios_hogar[i]]['GLOSA'].unique())\n",
    "            df_gastos_comun = pd.concat([df_gastos_comun, aux], ignore_index=True)\n",
    "        \n",
    "        #df_gastos_comun = df_gastos_comun.drop_duplicates()\n",
    "        #print(df_gastos_comun.groupby(df_gastos_comun[0])[[0]].transform('size') > 1)\n",
    "        df_gastos_comun = df_gastos_comun[df_gastos_comun.groupby(df_gastos_comun[0])[[0]].transform('size') == len(df_folios_hogar)]\n",
    "        df_gastos_comun = df_gastos_comun.drop_duplicates()\n",
    "            \n",
    "    \n",
    "    return df_gastos_comun                  \n",
    "                  \n",
    "#00192-1\n",
    "#01233-1     \n",
    "ret = productos_consumidos('01233-1')\n",
    "print(ret[0].to_numpy())"
   ]
  },
  {
   "cell_type": "code",
   "execution_count": null,
   "metadata": {},
   "outputs": [],
   "source": [
    "# 7.- Cómo podría identificar un grupo familiar VEGANO, programe la solución\n",
    "\n"
   ]
  },
  {
   "cell_type": "code",
   "execution_count": 68,
   "metadata": {},
   "outputs": [
    {
     "name": "stdout",
     "output_type": "stream",
     "text": [
      "Existen  6269  grupos familiares usan TAXI y/o TAXI COLECTIVO\n"
     ]
    }
   ],
   "source": [
    "#8.- Cuántos grupos familiares usan TAXI y/o TAXI COLECTIVO\n",
    "print('Existen ', df_gastos[(df_gastos['GLOSA'] == 'TAXI COLECTIVO')\n",
    "      | (df_gastos['GLOSA'] == 'TAXI Y RADIO TAXI')]\n",
    "      ['FOLIO'].nunique(), ' grupos familiares usan TAXI y/o TAXI COLECTIVO')\n",
    "\n",
    "\n"
   ]
  },
  {
   "cell_type": "code",
   "execution_count": 67,
   "metadata": {},
   "outputs": [
    {
     "name": "stdout",
     "output_type": "stream",
     "text": [
      "El producto  ['SPAGHETTI']  es consumido por  3700  hogares\n"
     ]
    }
   ],
   "source": [
    "# 9.- Cree una función que recibe como parámetro un código de producto, imprime el nombre del producto y la cantidad de hogares que lo consumen\n",
    "def hogares_consumen_producto(codigo):\n",
    "    print('El producto ', df_gastos[df_gastos['CCIF'] == codigo]['GLOSA'].unique(), ' es consumido por ', df_gastos[df_gastos['CCIF'] == codigo]['FOLIO'].nunique(), ' hogares') \n",
    "\n",
    "\n",
    "hogares_consumen_producto('01.1.1.03.01')"
   ]
  },
  {
   "cell_type": "code",
   "execution_count": 66,
   "metadata": {},
   "outputs": [
    {
     "name": "stdout",
     "output_type": "stream",
     "text": [
      "El producto  ARROZ  no es consumido por  1058319  hogares\n"
     ]
    }
   ],
   "source": [
    "# 10.- Cree una función que recibe como parámetro un nombre de producto e indique cuántos grupos familiares (HOGAR) no lo consumen\n",
    "\n",
    "def hogares_no_consumen_producto(producto):\n",
    "    resta = df_gastos.shape[0] - df_gastos[df_gastos['GLOSA'] == producto]['FOLIO'].nunique() \n",
    "    print('El producto ', producto, ' no es consumido por ', resta, ' hogares')\n",
    "\n",
    "\n",
    "hogares_no_consumen_producto('ARROZ')"
   ]
  }
 ],
 "metadata": {
  "kernelspec": {
   "display_name": "Python 3",
   "language": "python",
   "name": "python3"
  },
  "language_info": {
   "codemirror_mode": {
    "name": "ipython",
    "version": 3
   },
   "file_extension": ".py",
   "mimetype": "text/x-python",
   "name": "python",
   "nbconvert_exporter": "python",
   "pygments_lexer": "ipython3",
   "version": "3.11.2"
  },
  "orig_nbformat": 4
 },
 "nbformat": 4,
 "nbformat_minor": 2
}
