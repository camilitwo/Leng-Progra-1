{
 "cells": [
  {
   "cell_type": "code",
   "execution_count": 5,
   "metadata": {},
   "outputs": [
    {
     "data": {
      "text/html": [
       "<div>\n",
       "<style scoped>\n",
       "    .dataframe tbody tr th:only-of-type {\n",
       "        vertical-align: middle;\n",
       "    }\n",
       "\n",
       "    .dataframe tbody tr th {\n",
       "        vertical-align: top;\n",
       "    }\n",
       "\n",
       "    .dataframe thead th {\n",
       "        text-align: right;\n",
       "    }\n",
       "</style>\n",
       "<table border=\"1\" class=\"dataframe\">\n",
       "  <thead>\n",
       "    <tr style=\"text-align: right;\">\n",
       "      <th></th>\n",
       "      <th>AcidezFija</th>\n",
       "      <th>AcidezVolatil</th>\n",
       "      <th>AcidoCitrico</th>\n",
       "      <th>AzucarResidual</th>\n",
       "      <th>Cloruros</th>\n",
       "      <th>AnhiSulfLibre</th>\n",
       "      <th>total sulfur dioxide</th>\n",
       "      <th>densidad</th>\n",
       "      <th>ph</th>\n",
       "      <th>sulfatos</th>\n",
       "      <th>alcohol</th>\n",
       "      <th>calidad</th>\n",
       "    </tr>\n",
       "  </thead>\n",
       "  <tbody>\n",
       "    <tr>\n",
       "      <th>count</th>\n",
       "      <td>1599.000000</td>\n",
       "      <td>1599.000000</td>\n",
       "      <td>1599.000000</td>\n",
       "      <td>1599.000000</td>\n",
       "      <td>1599.000000</td>\n",
       "      <td>1599.000000</td>\n",
       "      <td>1599.000000</td>\n",
       "      <td>1599.000000</td>\n",
       "      <td>1599.000000</td>\n",
       "      <td>1599.000000</td>\n",
       "      <td>1.599000e+03</td>\n",
       "      <td>1599.000000</td>\n",
       "    </tr>\n",
       "    <tr>\n",
       "      <th>mean</th>\n",
       "      <td>8.319637</td>\n",
       "      <td>3.879687</td>\n",
       "      <td>0.270976</td>\n",
       "      <td>2.538806</td>\n",
       "      <td>0.087467</td>\n",
       "      <td>15.874922</td>\n",
       "      <td>46.467792</td>\n",
       "      <td>1257.356925</td>\n",
       "      <td>3.311113</td>\n",
       "      <td>0.658149</td>\n",
       "      <td>1.455285e+12</td>\n",
       "      <td>5.636023</td>\n",
       "    </tr>\n",
       "    <tr>\n",
       "      <th>std</th>\n",
       "      <td>1.741096</td>\n",
       "      <td>60.015370</td>\n",
       "      <td>0.194801</td>\n",
       "      <td>1.409928</td>\n",
       "      <td>0.047065</td>\n",
       "      <td>10.460157</td>\n",
       "      <td>32.895324</td>\n",
       "      <td>9784.883345</td>\n",
       "      <td>0.154386</td>\n",
       "      <td>0.169507</td>\n",
       "      <td>3.370300e+13</td>\n",
       "      <td>0.807569</td>\n",
       "    </tr>\n",
       "    <tr>\n",
       "      <th>min</th>\n",
       "      <td>4.600000</td>\n",
       "      <td>0.120000</td>\n",
       "      <td>0.000000</td>\n",
       "      <td>0.900000</td>\n",
       "      <td>0.012000</td>\n",
       "      <td>1.000000</td>\n",
       "      <td>6.000000</td>\n",
       "      <td>0.990070</td>\n",
       "      <td>2.740000</td>\n",
       "      <td>0.330000</td>\n",
       "      <td>8.400000e+00</td>\n",
       "      <td>3.000000</td>\n",
       "    </tr>\n",
       "    <tr>\n",
       "      <th>25%</th>\n",
       "      <td>7.100000</td>\n",
       "      <td>0.390000</td>\n",
       "      <td>0.090000</td>\n",
       "      <td>1.900000</td>\n",
       "      <td>0.070000</td>\n",
       "      <td>7.000000</td>\n",
       "      <td>22.000000</td>\n",
       "      <td>0.995600</td>\n",
       "      <td>3.210000</td>\n",
       "      <td>0.550000</td>\n",
       "      <td>9.500000e+00</td>\n",
       "      <td>5.000000</td>\n",
       "    </tr>\n",
       "    <tr>\n",
       "      <th>50%</th>\n",
       "      <td>7.900000</td>\n",
       "      <td>0.520000</td>\n",
       "      <td>0.260000</td>\n",
       "      <td>2.200000</td>\n",
       "      <td>0.079000</td>\n",
       "      <td>14.000000</td>\n",
       "      <td>38.000000</td>\n",
       "      <td>0.996750</td>\n",
       "      <td>3.310000</td>\n",
       "      <td>0.620000</td>\n",
       "      <td>1.020000e+01</td>\n",
       "      <td>6.000000</td>\n",
       "    </tr>\n",
       "    <tr>\n",
       "      <th>75%</th>\n",
       "      <td>9.200000</td>\n",
       "      <td>0.640000</td>\n",
       "      <td>0.420000</td>\n",
       "      <td>2.600000</td>\n",
       "      <td>0.090000</td>\n",
       "      <td>21.000000</td>\n",
       "      <td>62.000000</td>\n",
       "      <td>0.997835</td>\n",
       "      <td>3.400000</td>\n",
       "      <td>0.730000</td>\n",
       "      <td>1.110000e+01</td>\n",
       "      <td>6.000000</td>\n",
       "    </tr>\n",
       "    <tr>\n",
       "      <th>max</th>\n",
       "      <td>15.900000</td>\n",
       "      <td>1185.000000</td>\n",
       "      <td>1.000000</td>\n",
       "      <td>15.500000</td>\n",
       "      <td>0.611000</td>\n",
       "      <td>72.000000</td>\n",
       "      <td>289.000000</td>\n",
       "      <td>100369.000000</td>\n",
       "      <td>4.010000</td>\n",
       "      <td>2.000000</td>\n",
       "      <td>9.566667e+14</td>\n",
       "      <td>8.000000</td>\n",
       "    </tr>\n",
       "  </tbody>\n",
       "</table>\n",
       "</div>"
      ],
      "text/plain": [
       "        AcidezFija  AcidezVolatil  AcidoCitrico  AzucarResidual     Cloruros   \n",
       "count  1599.000000    1599.000000   1599.000000     1599.000000  1599.000000  \\\n",
       "mean      8.319637       3.879687      0.270976        2.538806     0.087467   \n",
       "std       1.741096      60.015370      0.194801        1.409928     0.047065   \n",
       "min       4.600000       0.120000      0.000000        0.900000     0.012000   \n",
       "25%       7.100000       0.390000      0.090000        1.900000     0.070000   \n",
       "50%       7.900000       0.520000      0.260000        2.200000     0.079000   \n",
       "75%       9.200000       0.640000      0.420000        2.600000     0.090000   \n",
       "max      15.900000    1185.000000      1.000000       15.500000     0.611000   \n",
       "\n",
       "       AnhiSulfLibre  total sulfur dioxide       densidad           ph   \n",
       "count    1599.000000           1599.000000    1599.000000  1599.000000  \\\n",
       "mean       15.874922             46.467792    1257.356925     3.311113   \n",
       "std        10.460157             32.895324    9784.883345     0.154386   \n",
       "min         1.000000              6.000000       0.990070     2.740000   \n",
       "25%         7.000000             22.000000       0.995600     3.210000   \n",
       "50%        14.000000             38.000000       0.996750     3.310000   \n",
       "75%        21.000000             62.000000       0.997835     3.400000   \n",
       "max        72.000000            289.000000  100369.000000     4.010000   \n",
       "\n",
       "          sulfatos       alcohol      calidad  \n",
       "count  1599.000000  1.599000e+03  1599.000000  \n",
       "mean      0.658149  1.455285e+12     5.636023  \n",
       "std       0.169507  3.370300e+13     0.807569  \n",
       "min       0.330000  8.400000e+00     3.000000  \n",
       "25%       0.550000  9.500000e+00     5.000000  \n",
       "50%       0.620000  1.020000e+01     6.000000  \n",
       "75%       0.730000  1.110000e+01     6.000000  \n",
       "max       2.000000  9.566667e+14     8.000000  "
      ]
     },
     "execution_count": 5,
     "metadata": {},
     "output_type": "execute_result"
    }
   ],
   "source": [
    "import pandas as pd\n",
    "\n",
    "df=pd.read_excel(\"FilesDS/calidadvino.xlsx\")\n",
    "\n",
    "df.describe()"
   ]
  },
  {
   "cell_type": "code",
   "execution_count": 14,
   "metadata": {},
   "outputs": [
    {
     "data": {
      "text/plain": [
       "('Media fixed acidity', 8.31963727329581)"
      ]
     },
     "execution_count": 14,
     "metadata": {},
     "output_type": "execute_result"
    }
   ],
   "source": [
    "#dataframe to class CalidadVino\n",
    "\n",
    "class CalidadVino:\n",
    "    def __init__(self,df):\n",
    "        self.df=df\n",
    "        self.df.columns=['fixed acidity','volatile acidity','citric acid','residual sugar','chlorides','free sulfur dioxide','total sulfur dioxide','density','pH','sulphates','alcohol','quality']\n",
    "\n",
    "    def getCalidadVino(self, nombreColumna):\n",
    "        return nombreColumna + self.df[nombreColumna]\n",
    "\n",
    "    def obtenerMedia(self, nombreColumna):\n",
    "        return \"Media \"+ nombreColumna ,self.df[nombreColumna].mean()\n",
    "\n",
    "    def obtenerMediana(self, nombreColumna):\n",
    "        return \"Mediana \"+ nombreColumna, self.df.median()\n",
    "\n",
    "    def obtenerMinimo(self, nombreColumna):\n",
    "        return \"Minimo \"+ nombreColumna, self.df.min()\n",
    "\n",
    "    def obtenerMaximo(self, nombreColumna):\n",
    "        return \"Maximo \"+ nombreColumna, self.df.max()\n",
    "\n",
    "    def obtenerDesviacionEstandar(self):\n",
    "        return self.df.std()\n",
    "\n",
    "CalidadVino(df).obtenerMedia('fixed acidity')"
   ]
  },
  {
   "cell_type": "code",
   "execution_count": 30,
   "metadata": {},
   "outputs": [
    {
     "data": {
      "text/plain": [
       "array([3.51, 3.2 , 3.26, 3.16, 3.3 , 3.39, 3.36, 3.35, 3.28, 3.58, 3.17,\n",
       "       3.11, 3.38, 3.04, 3.52, 3.43, 3.34, 3.47, 3.46, 3.45, 3.4 , 3.42,\n",
       "       3.23, 3.5 , 3.33, 3.21, 3.48, 3.9 , 3.25, 3.32, 3.15, 3.41, 3.44,\n",
       "       3.31, 3.54, 3.13, 2.93, 3.14, 3.75, 3.85, 3.29, 3.08, 3.37, 3.19,\n",
       "       3.07, 3.49, 3.53, 3.24, 3.63, 3.22, 3.68, 2.74, 3.59, 3.  , 3.12,\n",
       "       3.57, 3.61, 3.06, 3.6 , 3.69, 3.1 , 3.05, 3.67, 3.27, 3.18, 3.02,\n",
       "       3.55, 2.99, 3.01, 3.56, 3.03, 3.62, 2.88, 2.95, 2.98, 3.09, 2.86,\n",
       "       3.74, 2.92, 3.72, 2.87, 2.89, 2.94, 3.66, 3.71, 3.78, 3.7 , 4.01,\n",
       "       2.9 ])"
      ]
     },
     "execution_count": 30,
     "metadata": {},
     "output_type": "execute_result"
    }
   ],
   "source": [
    "# get quality wine \n",
    "df.quality.unique()\n",
    "\n",
    "df.pH.unique()"
   ]
  },
  {
   "cell_type": "code",
   "execution_count": 29,
   "metadata": {},
   "outputs": [
    {
     "data": {
      "text/plain": [
       "quality\n",
       "3     10\n",
       "4     53\n",
       "5    681\n",
       "6    638\n",
       "7    199\n",
       "8     18\n",
       "Name: quality, dtype: int64"
      ]
     },
     "execution_count": 29,
     "metadata": {},
     "output_type": "execute_result"
    }
   ],
   "source": [
    "#groupby quality\n",
    "df.groupby('quality')['quality'].count()"
   ]
  },
  {
   "cell_type": "code",
   "execution_count": 37,
   "metadata": {},
   "outputs": [
    {
     "data": {
      "text/plain": [
       "quality  pH  \n",
       "3        3.16    1\n",
       "         3.25    1\n",
       "         3.31    1\n",
       "         3.32    1\n",
       "         3.38    1\n",
       "                ..\n",
       "8        3.35    2\n",
       "         3.46    1\n",
       "         3.50    1\n",
       "         3.56    1\n",
       "         3.72    1\n",
       "Name: pH, Length: 270, dtype: int64"
      ]
     },
     "execution_count": 37,
     "metadata": {},
     "output_type": "execute_result"
    }
   ],
   "source": [
    "#group by quality and pH\n",
    "df.groupby(['quality', 'pH']).count()\n",
    "df.groupby(['quality', 'pH']).pH.count()"
   ]
  },
  {
   "cell_type": "code",
   "execution_count": 42,
   "metadata": {},
   "outputs": [
    {
     "data": {
      "image/png": "[encoded data removed]",
      "text/plain": [
       "<Figure size 640x480 with 1 Axes>"
      ]
     },
     "metadata": {},
     "output_type": "display_data"
    }
   ],
   "source": [
    "# plot quality versus pH scatter\n",
    "import matplotlib.pyplot as plt\n",
    "\n",
    "plt.scatter(df['quality'], df['pH'])\n",
    "\n",
    "plt.show()"
   ]
  }
 ],
 "metadata": {
  "kernelspec": {
   "display_name": "Python 3.11.2 64-bit",
   "language": "python",
   "name": "python3"
  },
  "language_info": {
   "codemirror_mode": {
    "name": "ipython",
    "version": 3
   },
   "file_extension": ".py",
   "mimetype": "text/x-python",
   "name": "python",
   "nbconvert_exporter": "python",
   "pygments_lexer": "ipython3",
   "version": "3.11.2"
  },
  "orig_nbformat": 4,
  "vscode": {
   "interpreter": {
    "hash": "e95842441d0f749b7f000eb3bd941ba09946d64b05adbb29f9c6e508f91bd306"
   }
  }
 },
 "nbformat": 4,
 "nbformat_minor": 2
}
